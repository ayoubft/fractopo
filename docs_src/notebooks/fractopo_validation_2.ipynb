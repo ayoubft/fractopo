{
 "cells": [
  {
   "cell_type": "markdown",
   "metadata": {},
   "source": [
    "# Notebook - Fractopo – KB7 Trace Data Validation"
   ]
  },
  {
   "cell_type": "code",
   "execution_count": 1,
   "metadata": {
    "execution": {
     "iopub.execute_input": "2022-01-03T20:51:00.347359Z",
     "iopub.status.busy": "2022-01-03T20:51:00.346908Z",
     "iopub.status.idle": "2022-01-03T20:51:00.349003Z",
     "shell.execute_reply": "2022-01-03T20:51:00.349342Z"
    }
   },
   "outputs": [],
   "source": [
    "import warnings\n",
    "\n",
    "warnings.filterwarnings(\"ignore\")"
   ]
  },
  {
   "cell_type": "code",
   "execution_count": 2,
   "metadata": {
    "execution": {
     "iopub.execute_input": "2022-01-03T20:51:00.353390Z",
     "iopub.status.busy": "2022-01-03T20:51:00.352990Z",
     "iopub.status.idle": "2022-01-03T20:51:00.695032Z",
     "shell.execute_reply": "2022-01-03T20:51:00.694578Z"
    }
   },
   "outputs": [],
   "source": [
    "import geopandas as gpd"
   ]
  },
  {
   "cell_type": "code",
   "execution_count": 3,
   "metadata": {
    "execution": {
     "iopub.execute_input": "2022-01-03T20:51:00.699396Z",
     "iopub.status.busy": "2022-01-03T20:51:00.698742Z",
     "iopub.status.idle": "2022-01-03T20:51:00.701429Z",
     "shell.execute_reply": "2022-01-03T20:51:00.701092Z"
    }
   },
   "outputs": [],
   "source": [
    "# This cell's contents only for development purposes.\n",
    "from importlib.util import find_spec\n",
    "\n",
    "if find_spec(\"fractopo\") is None:\n",
    "    import sys\n",
    "\n",
    "    sys.path.append(\"../../\")"
   ]
  },
  {
   "cell_type": "code",
   "execution_count": 4,
   "metadata": {
    "execution": {
     "iopub.execute_input": "2022-01-03T20:51:00.704726Z",
     "iopub.status.busy": "2022-01-03T20:51:00.703535Z",
     "iopub.status.idle": "2022-01-03T20:51:01.791573Z",
     "shell.execute_reply": "2022-01-03T20:51:01.791151Z"
    }
   },
   "outputs": [],
   "source": [
    "from fractopo import Validation\n",
    "import matplotlib.pyplot as plt\n",
    "\n",
    "plt.close()"
   ]
  },
  {
   "cell_type": "markdown",
   "metadata": {},
   "source": [
    "## Data (KB7)"
   ]
  },
  {
   "cell_type": "code",
   "execution_count": 5,
   "metadata": {
    "execution": {
     "iopub.execute_input": "2022-01-03T20:51:01.797794Z",
     "iopub.status.busy": "2022-01-03T20:51:01.797078Z",
     "iopub.status.idle": "2022-01-03T20:51:01.942865Z",
     "shell.execute_reply": "2022-01-03T20:51:01.942123Z"
    }
   },
   "outputs": [],
   "source": [
    "# Trace and target area data available on GitHub\n",
    "trace_data_url = \"https://raw.githubusercontent.com/nialov/fractopo/master/tests/sample_data/KB7/KB7_traces.geojson\"\n",
    "area_data_url = \"https://raw.githubusercontent.com/nialov/fractopo/master/tests/sample_data/KB7/KB7_area.geojson\"\n",
    "\n",
    "# Use geopandas to load data from urls\n",
    "traces = gpd.read_file(trace_data_url)\n",
    "area = gpd.read_file(area_data_url)\n",
    "\n",
    "# Name the dataset\n",
    "name = \"KB7\""
   ]
  },
  {
   "cell_type": "markdown",
   "metadata": {},
   "source": [
    "## Validation (KB7)"
   ]
  },
  {
   "cell_type": "code",
   "execution_count": 6,
   "metadata": {
    "execution": {
     "iopub.execute_input": "2022-01-03T20:51:01.947886Z",
     "iopub.status.busy": "2022-01-03T20:51:01.947442Z",
     "iopub.status.idle": "2022-01-03T20:51:01.950397Z",
     "shell.execute_reply": "2022-01-03T20:51:01.950052Z"
    }
   },
   "outputs": [],
   "source": [
    "# Create validation object with fixing (i.e. modification of data) allowed.\n",
    "# AREA_EDGE_SNAP_MULTIPLIER is overridden to keep catching this error even with future default\n",
    "# value changes\n",
    "kb7_validation = Validation(\n",
    "    traces, area, name=name, allow_fix=True, AREA_EDGE_SNAP_MULTIPLIER=2.5\n",
    ")"
   ]
  },
  {
   "cell_type": "code",
   "execution_count": 7,
   "metadata": {
    "execution": {
     "iopub.execute_input": "2022-01-03T20:51:01.954291Z",
     "iopub.status.busy": "2022-01-03T20:51:01.953922Z",
     "iopub.status.idle": "2022-01-03T20:51:04.820768Z",
     "shell.execute_reply": "2022-01-03T20:51:04.820381Z"
    }
   },
   "outputs": [],
   "source": [
    "# Run actual validation and capture the outputted validated trace GeoDataFrame\n",
    "kb7_validated = kb7_validation.run_validation()"
   ]
  },
  {
   "cell_type": "markdown",
   "metadata": {},
   "source": [
    "## Validation results (KB7)"
   ]
  },
  {
   "cell_type": "code",
   "execution_count": 8,
   "metadata": {
    "execution": {
     "iopub.execute_input": "2022-01-03T20:51:04.826175Z",
     "iopub.status.busy": "2022-01-03T20:51:04.825634Z",
     "iopub.status.idle": "2022-01-03T20:51:04.829230Z",
     "shell.execute_reply": "2022-01-03T20:51:04.828873Z"
    }
   },
   "outputs": [
    {
     "data": {
      "text/plain": [
       "Index(['Name', 'Shape_Leng', 'geometry', 'VALIDATION_ERRORS'], dtype='object')"
      ]
     },
     "execution_count": 8,
     "metadata": {},
     "output_type": "execute_result"
    }
   ],
   "source": [
    "# Normal DataFrame methods are available for data inspection\n",
    "kb7_validated.columns"
   ]
  },
  {
   "cell_type": "code",
   "execution_count": 9,
   "metadata": {
    "execution": {
     "iopub.execute_input": "2022-01-03T20:51:04.833584Z",
     "iopub.status.busy": "2022-01-03T20:51:04.833220Z",
     "iopub.status.idle": "2022-01-03T20:51:04.836338Z",
     "shell.execute_reply": "2022-01-03T20:51:04.836651Z"
    }
   },
   "outputs": [
    {
     "data": {
      "text/plain": [
       "array(['[]', \"['MULTI JUNCTION']\", \"['SHARP TURNS']\",\n",
       "       \"['TRACE UNDERLAPS TARGET AREA']\"], dtype=object)"
      ]
     },
     "execution_count": 9,
     "metadata": {},
     "output_type": "execute_result"
    }
   ],
   "source": [
    "# Convert column data to string to allow hashing and return all unique\n",
    "# validation errors.\n",
    "kb7_validated[\"VALIDATION_ERRORS\"].astype(str).unique()"
   ]
  },
  {
   "cell_type": "code",
   "execution_count": 10,
   "metadata": {
    "execution": {
     "iopub.execute_input": "2022-01-03T20:51:04.840322Z",
     "iopub.status.busy": "2022-01-03T20:51:04.839738Z",
     "iopub.status.idle": "2022-01-03T20:51:04.878223Z",
     "shell.execute_reply": "2022-01-03T20:51:04.878549Z"
    }
   },
   "outputs": [
    {
     "data": {
      "text/html": [
       "<pre style=\"white-space:pre;overflow-x:auto;line-height:normal;font-family:Menlo,'DejaVu Sans Mono',consolas,'Courier New',monospace\"><span style=\"color: #808000; text-decoration-color: #808000\">Out of 240 traces, 7 were invalid.</span>\n",
       "</pre>\n"
      ],
      "text/plain": [
       "\u001b[33mOut of 240 traces, 7 were invalid.\u001b[0m\n"
      ]
     },
     "metadata": {},
     "output_type": "display_data"
    },
    {
     "data": {
      "text/html": [
       "<pre style=\"white-space:pre;overflow-x:auto;line-height:normal;font-family:Menlo,'DejaVu Sans Mono',consolas,'Courier New',monospace\"><span style=\"color: #800000; text-decoration-color: #800000; font-weight: bold\">There were 3 error types. These were:</span>\n",
       "<span style=\"color: #800000; text-decoration-color: #800000; font-weight: bold\">SHARP TURNS</span>\n",
       "<span style=\"color: #800000; text-decoration-color: #800000; font-weight: bold\">TRACE UNDERLAPS TARGET AREA</span>\n",
       "<span style=\"color: #800000; text-decoration-color: #800000; font-weight: bold\">MULTI JUNCTION</span>\n",
       "\n",
       "</pre>\n"
      ],
      "text/plain": [
       "\u001b[1;31mThere were 3 error types. These were:\u001b[0m\n",
       "\u001b[1;31mSHARP TURNS\u001b[0m\n",
       "\u001b[1;31mTRACE UNDERLAPS TARGET AREA\u001b[0m\n",
       "\u001b[1;31mMULTI JUNCTION\u001b[0m\n",
       "\n"
      ]
     },
     "metadata": {},
     "output_type": "display_data"
    }
   ],
   "source": [
    "# Better description function is found in fractopo.cli\n",
    "from fractopo.cli import describe_results\n",
    "\n",
    "describe_results(kb7_validated, kb7_validation.ERROR_COLUMN)"
   ]
  },
  {
   "cell_type": "markdown",
   "metadata": {},
   "source": [
    "The KB7 dataset contains the above errors of which `MULTI JUNCTION` and `TRACE UNDERLAPS TARGET AREA` are disruptive in further analysis.\n",
    "\n",
    "See documentation: https://fractopo.readthedocs.io/en/latest/validation/errors.html"
   ]
  },
  {
   "cell_type": "markdown",
   "metadata": {},
   "source": [
    "## Visualization of errors in notebook\n",
    "\n",
    "Though visualization here is possible, GIS-software (e.g. QGIS, ArcGIS) are much more interactive and are recommended for actual fixing and further error inspection."
   ]
  },
  {
   "cell_type": "markdown",
   "metadata": {},
   "source": [
    "### MULTI JUNCTION"
   ]
  },
  {
   "cell_type": "code",
   "execution_count": 11,
   "metadata": {
    "execution": {
     "iopub.execute_input": "2022-01-03T20:51:04.886644Z",
     "iopub.status.busy": "2022-01-03T20:51:04.885955Z",
     "iopub.status.idle": "2022-01-03T20:51:04.898770Z",
     "shell.execute_reply": "2022-01-03T20:51:04.899108Z"
    }
   },
   "outputs": [
    {
     "data": {
      "text/html": [
       "<div>\n",
       "<style scoped>\n",
       "    .dataframe tbody tr th:only-of-type {\n",
       "        vertical-align: middle;\n",
       "    }\n",
       "\n",
       "    .dataframe tbody tr th {\n",
       "        vertical-align: top;\n",
       "    }\n",
       "\n",
       "    .dataframe thead th {\n",
       "        text-align: right;\n",
       "    }\n",
       "</style>\n",
       "<table border=\"1\" class=\"dataframe\">\n",
       "  <thead>\n",
       "    <tr style=\"text-align: right;\">\n",
       "      <th></th>\n",
       "      <th>Name</th>\n",
       "      <th>Shape_Leng</th>\n",
       "      <th>geometry</th>\n",
       "      <th>VALIDATION_ERRORS</th>\n",
       "    </tr>\n",
       "  </thead>\n",
       "  <tbody>\n",
       "    <tr>\n",
       "      <th>168</th>\n",
       "      <td>None</td>\n",
       "      <td>4.985900</td>\n",
       "      <td>LINESTRING (466023.424 6692098.176, 466024.252...</td>\n",
       "      <td>[MULTI JUNCTION]</td>\n",
       "    </tr>\n",
       "    <tr>\n",
       "      <th>169</th>\n",
       "      <td>None</td>\n",
       "      <td>5.232445</td>\n",
       "      <td>LINESTRING (466025.131 6692096.856, 466026.650...</td>\n",
       "      <td>[MULTI JUNCTION]</td>\n",
       "    </tr>\n",
       "    <tr>\n",
       "      <th>171</th>\n",
       "      <td>None</td>\n",
       "      <td>1.541532</td>\n",
       "      <td>LINESTRING (466024.020 6692098.386, 466023.703...</td>\n",
       "      <td>[MULTI JUNCTION]</td>\n",
       "    </tr>\n",
       "    <tr>\n",
       "      <th>206</th>\n",
       "      <td>None</td>\n",
       "      <td>1.864415</td>\n",
       "      <td>LINESTRING (466025.700 6692097.183, 466025.858...</td>\n",
       "      <td>[MULTI JUNCTION]</td>\n",
       "    </tr>\n",
       "    <tr>\n",
       "      <th>219</th>\n",
       "      <td>None</td>\n",
       "      <td>0.619474</td>\n",
       "      <td>LINESTRING (466023.571 6692097.978, 466023.802...</td>\n",
       "      <td>[MULTI JUNCTION]</td>\n",
       "    </tr>\n",
       "  </tbody>\n",
       "</table>\n",
       "</div>"
      ],
      "text/plain": [
       "     Name  Shape_Leng                                           geometry  \\\n",
       "168  None    4.985900  LINESTRING (466023.424 6692098.176, 466024.252...   \n",
       "169  None    5.232445  LINESTRING (466025.131 6692096.856, 466026.650...   \n",
       "171  None    1.541532  LINESTRING (466024.020 6692098.386, 466023.703...   \n",
       "206  None    1.864415  LINESTRING (466025.700 6692097.183, 466025.858...   \n",
       "219  None    0.619474  LINESTRING (466023.571 6692097.978, 466023.802...   \n",
       "\n",
       "    VALIDATION_ERRORS  \n",
       "168  [MULTI JUNCTION]  \n",
       "169  [MULTI JUNCTION]  \n",
       "171  [MULTI JUNCTION]  \n",
       "206  [MULTI JUNCTION]  \n",
       "219  [MULTI JUNCTION]  "
      ]
     },
     "execution_count": 11,
     "metadata": {},
     "output_type": "execute_result"
    }
   ],
   "source": [
    "# Find MULTI JUNCTION erroneous traces in GeoDataFrame\n",
    "kb7_multijunctions = kb7_validated.loc[\n",
    "    [\"MULTI JUNCTION\" in err for err in kb7_validated[kb7_validation.ERROR_COLUMN]]\n",
    "]\n",
    "kb7_multijunctions"
   ]
  },
  {
   "cell_type": "code",
   "execution_count": 12,
   "metadata": {
    "execution": {
     "iopub.execute_input": "2022-01-03T20:51:04.916166Z",
     "iopub.status.busy": "2022-01-03T20:51:04.915469Z",
     "iopub.status.idle": "2022-01-03T20:51:05.059507Z",
     "shell.execute_reply": "2022-01-03T20:51:05.059807Z"
    }
   },
   "outputs": [
    {
     "data": {
      "text/plain": [
       "<AxesSubplot:>"
      ]
     },
     "execution_count": 12,
     "metadata": {},
     "output_type": "execute_result"
    },
    {
     "data": {
      "image/png": "[encoded data removed]",
      "text/plain": [
       "<Figure size 432x288 with 1 Axes>"
      ]
     },
     "metadata": {
      "needs_background": "light"
     },
     "output_type": "display_data"
    }
   ],
   "source": [
    "kb7_multijunctions.plot(colors=[\"red\", \"black\", \"blue\", \"orange\", \"green\"])"
   ]
  },
  {
   "cell_type": "markdown",
   "metadata": {},
   "source": [
    "The plot shows that the green and blue traces abut at their endpoints\n",
    "which is not a valid topology for traces.\n",
    "The fix is done by merging the green and blue traces."
   ]
  },
  {
   "cell_type": "markdown",
   "metadata": {},
   "source": [
    "Additionally the orange trace has a dangling end instead of being accurately snapped to the black trace. "
   ]
  },
  {
   "cell_type": "code",
   "execution_count": 13,
   "metadata": {
    "execution": {
     "iopub.execute_input": "2022-01-03T20:51:05.065613Z",
     "iopub.status.busy": "2022-01-03T20:51:05.064763Z",
     "iopub.status.idle": "2022-01-03T20:51:05.172190Z",
     "shell.execute_reply": "2022-01-03T20:51:05.171810Z"
    }
   },
   "outputs": [
    {
     "data": {
      "text/plain": [
       "<AxesSubplot:>"
      ]
     },
     "execution_count": 13,
     "metadata": {},
     "output_type": "execute_result"
    },
    {
     "data": {
      "image/png": "[encoded data removed]",
      "text/plain": [
       "<Figure size 432x288 with 1 Axes>"
      ]
     },
     "metadata": {
      "needs_background": "light"
     },
     "output_type": "display_data"
    }
   ],
   "source": [
    "# Example fix for blue and green traces\n",
    "from shapely.ops import linemerge\n",
    "\n",
    "gpd.GeoSeries(\n",
    "    [\n",
    "        linemerge(\n",
    "            [kb7_multijunctions.geometry.iloc[4], kb7_multijunctions.geometry.iloc[2]]\n",
    "        ),\n",
    "        kb7_multijunctions.geometry.iloc[0],\n",
    "    ]\n",
    ").plot(colors=[\"green\", \"red\"])"
   ]
  },
  {
   "cell_type": "markdown",
   "metadata": {},
   "source": [
    "### TRACE UNDERLAPS TARGET AREA"
   ]
  },
  {
   "cell_type": "code",
   "execution_count": 14,
   "metadata": {
    "execution": {
     "iopub.execute_input": "2022-01-03T20:51:05.181351Z",
     "iopub.status.busy": "2022-01-03T20:51:05.178945Z",
     "iopub.status.idle": "2022-01-03T20:51:05.186347Z",
     "shell.execute_reply": "2022-01-03T20:51:05.186023Z"
    }
   },
   "outputs": [
    {
     "data": {
      "text/html": [
       "<div>\n",
       "<style scoped>\n",
       "    .dataframe tbody tr th:only-of-type {\n",
       "        vertical-align: middle;\n",
       "    }\n",
       "\n",
       "    .dataframe tbody tr th {\n",
       "        vertical-align: top;\n",
       "    }\n",
       "\n",
       "    .dataframe thead th {\n",
       "        text-align: right;\n",
       "    }\n",
       "</style>\n",
       "<table border=\"1\" class=\"dataframe\">\n",
       "  <thead>\n",
       "    <tr style=\"text-align: right;\">\n",
       "      <th></th>\n",
       "      <th>Name</th>\n",
       "      <th>Shape_Leng</th>\n",
       "      <th>geometry</th>\n",
       "      <th>VALIDATION_ERRORS</th>\n",
       "    </tr>\n",
       "  </thead>\n",
       "  <tbody>\n",
       "    <tr>\n",
       "      <th>207</th>\n",
       "      <td>None</td>\n",
       "      <td>0.679687</td>\n",
       "      <td>LINESTRING (466025.246 6692096.378, 466025.377...</td>\n",
       "      <td>[TRACE UNDERLAPS TARGET AREA]</td>\n",
       "    </tr>\n",
       "  </tbody>\n",
       "</table>\n",
       "</div>"
      ],
      "text/plain": [
       "     Name  Shape_Leng                                           geometry  \\\n",
       "207  None    0.679687  LINESTRING (466025.246 6692096.378, 466025.377...   \n",
       "\n",
       "                 VALIDATION_ERRORS  \n",
       "207  [TRACE UNDERLAPS TARGET AREA]  "
      ]
     },
     "execution_count": 14,
     "metadata": {},
     "output_type": "execute_result"
    }
   ],
   "source": [
    "# Find TRACE UNDERLAPS TARGET AREA erroneous traces in GeoDataFrame\n",
    "kb7_underlaps = kb7_validated.loc[\n",
    "    [\n",
    "        \"TRACE UNDERLAPS TARGET AREA\" in err\n",
    "        for err in kb7_validated[kb7_validation.ERROR_COLUMN]\n",
    "    ]\n",
    "]\n",
    "kb7_underlaps"
   ]
  },
  {
   "cell_type": "code",
   "execution_count": 15,
   "metadata": {
    "execution": {
     "iopub.execute_input": "2022-01-03T20:51:05.201035Z",
     "iopub.status.busy": "2022-01-03T20:51:05.190792Z",
     "iopub.status.idle": "2022-01-03T20:51:05.358402Z",
     "shell.execute_reply": "2022-01-03T20:51:05.358710Z"
    }
   },
   "outputs": [
    {
     "data": {
      "text/plain": [
       "(6692095.263678445, 6692096.877513003)"
      ]
     },
     "execution_count": 15,
     "metadata": {},
     "output_type": "execute_result"
    },
    {
     "data": {
      "image/png": "[encoded data removed]",
      "text/plain": [
       "<Figure size 432x288 with 1 Axes>"
      ]
     },
     "metadata": {
      "needs_background": "light"
     },
     "output_type": "display_data"
    }
   ],
   "source": [
    "# Create figure, ax base\n",
    "fig, ax = plt.subplots()\n",
    "\n",
    "# Plot the underlapping trace along with the trace area boundary\n",
    "kb7_underlaps.plot(ax=ax, color=\"red\")\n",
    "area.boundary.plot(ax=ax, color=\"black\")\n",
    "\n",
    "# Get trace bounds\n",
    "minx, miny, maxx, maxy = kb7_underlaps.total_bounds\n",
    "\n",
    "ax.set_xlim(minx - 0.5, maxx + 0.5)\n",
    "ax.set_ylim(miny - 0.5, maxy + 0.5)"
   ]
  },
  {
   "cell_type": "markdown",
   "metadata": {},
   "source": [
    "The plot shows that the trace underlaps the target area at least on the northern end and maybe on the southern end. The fix is implemented by extending the trace to meet the target area boundary."
   ]
  },
  {
   "cell_type": "code",
   "execution_count": null,
   "metadata": {},
   "outputs": [],
   "source": []
  }
 ],
 "metadata": {
  "kernelspec": {
   "display_name": "Python 3 (ipykernel)",
   "language": "python",
   "name": "python3"
  },
  "language_info": {
   "codemirror_mode": {
    "name": "ipython",
    "version": 3
   },
   "file_extension": ".py",
   "mimetype": "text/x-python",
   "name": "python",
   "nbconvert_exporter": "python",
   "pygments_lexer": "ipython3",
   "version": "3.9.9"
  }
 },
 "nbformat": 4,
 "nbformat_minor": 4
}
