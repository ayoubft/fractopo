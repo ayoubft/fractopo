{
 "cells": [
  {
   "cell_type": "markdown",
   "metadata": {},
   "source": [
    "# Fractopo – Trace Data Validation"
   ]
  },
  {
   "cell_type": "code",
   "execution_count": 1,
   "metadata": {
    "execution": {
     "iopub.execute_input": "2021-03-25T07:32:30.460545Z",
     "iopub.status.busy": "2021-03-25T07:32:30.460093Z",
     "iopub.status.idle": "2021-03-25T07:32:30.463471Z",
     "shell.execute_reply": "2021-03-25T07:32:30.462688Z"
    }
   },
   "outputs": [],
   "source": [
    "import warnings\n",
    "\n",
    "warnings.filterwarnings(\"ignore\")"
   ]
  },
  {
   "cell_type": "code",
   "execution_count": 2,
   "metadata": {
    "execution": {
     "iopub.execute_input": "2021-03-25T07:32:30.467439Z",
     "iopub.status.busy": "2021-03-25T07:32:30.466781Z",
     "iopub.status.idle": "2021-03-25T07:32:30.820332Z",
     "shell.execute_reply": "2021-03-25T07:32:30.820062Z"
    }
   },
   "outputs": [],
   "source": [
    "import geopandas as gpd"
   ]
  },
  {
   "cell_type": "code",
   "execution_count": 3,
   "metadata": {
    "execution": {
     "iopub.execute_input": "2021-03-25T07:32:30.824510Z",
     "iopub.status.busy": "2021-03-25T07:32:30.823963Z",
     "iopub.status.idle": "2021-03-25T07:32:30.826962Z",
     "shell.execute_reply": "2021-03-25T07:32:30.826488Z"
    }
   },
   "outputs": [],
   "source": [
    "# This cell's contents only for development purposes.\n",
    "from importlib.util import find_spec\n",
    "\n",
    "if find_spec(\"fractopo\") is None:\n",
    "    import sys\n",
    "\n",
    "    sys.path.append(\"../../\")"
   ]
  },
  {
   "cell_type": "code",
   "execution_count": 4,
   "metadata": {
    "execution": {
     "iopub.execute_input": "2021-03-25T07:32:30.831056Z",
     "iopub.status.busy": "2021-03-25T07:32:30.830516Z",
     "iopub.status.idle": "2021-03-25T07:32:31.371100Z",
     "shell.execute_reply": "2021-03-25T07:32:31.370646Z"
    }
   },
   "outputs": [],
   "source": [
    "from fractopo.tval.trace_validation import Validation\n",
    "import matplotlib.pyplot as plt\n",
    "\n",
    "plt.close()"
   ]
  },
  {
   "cell_type": "markdown",
   "metadata": {},
   "source": [
    "## Data (KB11)"
   ]
  },
  {
   "cell_type": "code",
   "execution_count": 5,
   "metadata": {
    "execution": {
     "iopub.execute_input": "2021-03-25T07:32:31.375211Z",
     "iopub.status.busy": "2021-03-25T07:32:31.374800Z",
     "iopub.status.idle": "2021-03-25T07:32:32.170317Z",
     "shell.execute_reply": "2021-03-25T07:32:32.169754Z"
    }
   },
   "outputs": [
    {
     "name": "stderr",
     "output_type": "stream",
     "text": [
      "5183-WARNING-Skipping field VALIDATION_ERRORS: invalid type 5\n"
     ]
    }
   ],
   "source": [
    "# Trace and target area data available on GitHub\n",
    "trace_data_url = \"https://raw.githubusercontent.com/nialov/fractopo/master/tests/sample_data/KB11/KB11_traces.geojson\"\n",
    "area_data_url = \"https://raw.githubusercontent.com/nialov/fractopo/master/tests/sample_data/KB11/KB11_area.geojson\"\n",
    "\n",
    "# Use geopandas to load data from urls\n",
    "traces = gpd.read_file(trace_data_url)\n",
    "area = gpd.read_file(area_data_url)\n",
    "\n",
    "# Name the dataset\n",
    "name = \"KB11\""
   ]
  },
  {
   "cell_type": "markdown",
   "metadata": {},
   "source": [
    "## Validation (KB11)"
   ]
  },
  {
   "cell_type": "code",
   "execution_count": 6,
   "metadata": {
    "execution": {
     "iopub.execute_input": "2021-03-25T07:32:32.174771Z",
     "iopub.status.busy": "2021-03-25T07:32:32.174270Z",
     "iopub.status.idle": "2021-03-25T07:32:32.177852Z",
     "shell.execute_reply": "2021-03-25T07:32:32.177194Z"
    }
   },
   "outputs": [],
   "source": [
    "# Create validation object with fixing (i.e. modification of data) allowed.\n",
    "kb11_validation = Validation(traces, area, name=name, allow_fix=True)"
   ]
  },
  {
   "cell_type": "code",
   "execution_count": 7,
   "metadata": {
    "execution": {
     "iopub.execute_input": "2021-03-25T07:32:32.181478Z",
     "iopub.status.busy": "2021-03-25T07:32:32.181124Z",
     "iopub.status.idle": "2021-03-25T07:32:55.452726Z",
     "shell.execute_reply": "2021-03-25T07:32:55.452280Z"
    }
   },
   "outputs": [],
   "source": [
    "# Run actual validation and capture the outputted validated trace GeoDataFrame\n",
    "kb11_validated = kb11_validation.run_validation()"
   ]
  },
  {
   "cell_type": "markdown",
   "metadata": {},
   "source": [
    "## Validation results (KB11)"
   ]
  },
  {
   "cell_type": "code",
   "execution_count": 8,
   "metadata": {
    "execution": {
     "iopub.execute_input": "2021-03-25T07:32:55.458123Z",
     "iopub.status.busy": "2021-03-25T07:32:55.457588Z",
     "iopub.status.idle": "2021-03-25T07:32:55.463184Z",
     "shell.execute_reply": "2021-03-25T07:32:55.462607Z"
    }
   },
   "outputs": [
    {
     "data": {
      "text/plain": [
       "Index(['Name', 'Shape_Leng', 'geometry', 'VALIDATION_ERRORS'], dtype='object')"
      ]
     },
     "execution_count": 1,
     "metadata": {},
     "output_type": "execute_result"
    }
   ],
   "source": [
    "# Normal DataFrame methods are available for data inspection\n",
    "kb11_validated.columns"
   ]
  },
  {
   "cell_type": "code",
   "execution_count": 9,
   "metadata": {
    "execution": {
     "iopub.execute_input": "2021-03-25T07:32:55.470200Z",
     "iopub.status.busy": "2021-03-25T07:32:55.469713Z",
     "iopub.status.idle": "2021-03-25T07:32:55.474245Z",
     "shell.execute_reply": "2021-03-25T07:32:55.473527Z"
    }
   },
   "outputs": [
    {
     "data": {
      "text/plain": [
       "array(['[]', \"['SHARP TURNS']\"], dtype=object)"
      ]
     },
     "execution_count": 1,
     "metadata": {},
     "output_type": "execute_result"
    }
   ],
   "source": [
    "# Convert column data to string to allow hashing and return all unique\n",
    "# validation errors.\n",
    "kb11_validated[\"VALIDATION_ERRORS\"].astype(str).unique()"
   ]
  },
  {
   "cell_type": "code",
   "execution_count": 10,
   "metadata": {
    "execution": {
     "iopub.execute_input": "2021-03-25T07:32:55.478159Z",
     "iopub.status.busy": "2021-03-25T07:32:55.477685Z",
     "iopub.status.idle": "2021-03-25T07:32:55.488007Z",
     "shell.execute_reply": "2021-03-25T07:32:55.488443Z"
    }
   },
   "outputs": [
    {
     "name": "stdout",
     "output_type": "stream",
     "text": [
      "Out of 707 traces, 1 were invalid.\n",
      "There were 1 error types. These were:\n",
      "SHARP TURNS\n",
      "\n"
     ]
    }
   ],
   "source": [
    "# Better description function is found in fractopo.cli\n",
    "from fractopo.cli import describe_results\n",
    "\n",
    "describe_results(kb11_validated, kb11_validation.ERROR_COLUMN)"
   ]
  },
  {
   "cell_type": "markdown",
   "metadata": {},
   "source": [
    "The KB11 dataset only contains `SHARP TURNS` errors which are normally non-disruptive in further analyses. \n",
    "\n",
    "See documentation: https://fractopo.readthedocs.io/en/latest/validation/errors.html"
   ]
  }
 ],
 "metadata": {
  "kernelspec": {
   "display_name": "Python 3",
   "language": "python",
   "name": "python3"
  },
  "language_info": {
   "codemirror_mode": {
    "name": "ipython",
    "version": 3
   },
   "file_extension": ".py",
   "mimetype": "text/x-python",
   "name": "python",
   "nbconvert_exporter": "python",
   "pygments_lexer": "ipython3",
   "version": "3.8.6"
  }
 },
 "nbformat": 4,
 "nbformat_minor": 4
}
