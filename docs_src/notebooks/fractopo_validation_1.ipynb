{
 "cells": [
  {
   "cell_type": "markdown",
   "metadata": {},
   "source": [
    "# Notebook - Fractopo – KB11 Trace Data Validation"
   ]
  },
  {
   "cell_type": "code",
   "execution_count": 1,
   "metadata": {
    "execution": {
     "iopub.execute_input": "2021-07-14T13:11:01.003929Z",
     "iopub.status.busy": "2021-07-14T13:11:01.003570Z",
     "iopub.status.idle": "2021-07-14T13:11:01.006546Z",
     "shell.execute_reply": "2021-07-14T13:11:01.006763Z"
    }
   },
   "outputs": [],
   "source": [
    "import warnings\n",
    "\n",
    "warnings.filterwarnings(\"ignore\")"
   ]
  },
  {
   "cell_type": "code",
   "execution_count": 2,
   "metadata": {
    "execution": {
     "iopub.execute_input": "2021-07-14T13:11:01.010189Z",
     "iopub.status.busy": "2021-07-14T13:11:01.009897Z",
     "iopub.status.idle": "2021-07-14T13:11:01.275957Z",
     "shell.execute_reply": "2021-07-14T13:11:01.275682Z"
    }
   },
   "outputs": [],
   "source": [
    "import geopandas as gpd"
   ]
  },
  {
   "cell_type": "code",
   "execution_count": 3,
   "metadata": {
    "execution": {
     "iopub.execute_input": "2021-07-14T13:11:01.279876Z",
     "iopub.status.busy": "2021-07-14T13:11:01.279381Z",
     "iopub.status.idle": "2021-07-14T13:11:01.281733Z",
     "shell.execute_reply": "2021-07-14T13:11:01.281303Z"
    }
   },
   "outputs": [],
   "source": [
    "# This cell's contents only for development purposes.\n",
    "from importlib.util import find_spec\n",
    "\n",
    "if find_spec(\"fractopo\") is None:\n",
    "    import sys\n",
    "\n",
    "    sys.path.append(\"../../\")"
   ]
  },
  {
   "cell_type": "code",
   "execution_count": 4,
   "metadata": {
    "execution": {
     "iopub.execute_input": "2021-07-14T13:11:01.285585Z",
     "iopub.status.busy": "2021-07-14T13:11:01.285020Z",
     "iopub.status.idle": "2021-07-14T13:11:01.720172Z",
     "shell.execute_reply": "2021-07-14T13:11:01.719823Z"
    }
   },
   "outputs": [],
   "source": [
    "from fractopo.tval.trace_validation import Validation\n",
    "import matplotlib.pyplot as plt\n",
    "\n",
    "plt.close()"
   ]
  },
  {
   "cell_type": "markdown",
   "metadata": {},
   "source": [
    "## Data (KB11)"
   ]
  },
  {
   "cell_type": "code",
   "execution_count": 5,
   "metadata": {
    "execution": {
     "iopub.execute_input": "2021-07-14T13:11:01.723764Z",
     "iopub.status.busy": "2021-07-14T13:11:01.723458Z",
     "iopub.status.idle": "2021-07-14T13:11:02.191367Z",
     "shell.execute_reply": "2021-07-14T13:11:02.191100Z"
    }
   },
   "outputs": [
    {
     "name": "stderr",
     "output_type": "stream",
     "text": [
      "16941-WARNING-Skipping field VALIDATION_ERRORS: invalid type 5\n"
     ]
    }
   ],
   "source": [
    "# Trace and target area data available on GitHub\n",
    "trace_data_url = \"https://raw.githubusercontent.com/nialov/fractopo/master/tests/sample_data/KB11/KB11_traces.geojson\"\n",
    "area_data_url = \"https://raw.githubusercontent.com/nialov/fractopo/master/tests/sample_data/KB11/KB11_area.geojson\"\n",
    "\n",
    "# Use geopandas to load data from urls\n",
    "traces = gpd.read_file(trace_data_url)\n",
    "area = gpd.read_file(area_data_url)\n",
    "\n",
    "# Name the dataset\n",
    "name = \"KB11\""
   ]
  },
  {
   "cell_type": "markdown",
   "metadata": {},
   "source": [
    "## Validation (KB11)"
   ]
  },
  {
   "cell_type": "code",
   "execution_count": 6,
   "metadata": {
    "execution": {
     "iopub.execute_input": "2021-07-14T13:11:02.194342Z",
     "iopub.status.busy": "2021-07-14T13:11:02.194057Z",
     "iopub.status.idle": "2021-07-14T13:11:02.196069Z",
     "shell.execute_reply": "2021-07-14T13:11:02.196316Z"
    }
   },
   "outputs": [],
   "source": [
    "# Create validation object with fixing (i.e. modification of data) allowed.\n",
    "kb11_validation = Validation(traces, area, name=name, allow_fix=True)"
   ]
  },
  {
   "cell_type": "code",
   "execution_count": 7,
   "metadata": {
    "execution": {
     "iopub.execute_input": "2021-07-14T13:11:02.201847Z",
     "iopub.status.busy": "2021-07-14T13:11:02.199032Z",
     "iopub.status.idle": "2021-07-14T13:11:17.003587Z",
     "shell.execute_reply": "2021-07-14T13:11:17.003835Z"
    }
   },
   "outputs": [],
   "source": [
    "# Run actual validation and capture the outputted validated trace GeoDataFrame\n",
    "kb11_validated = kb11_validation.run_validation()"
   ]
  },
  {
   "cell_type": "markdown",
   "metadata": {},
   "source": [
    "## Validation results (KB11)"
   ]
  },
  {
   "cell_type": "code",
   "execution_count": 8,
   "metadata": {
    "execution": {
     "iopub.execute_input": "2021-07-14T13:11:17.007973Z",
     "iopub.status.busy": "2021-07-14T13:11:17.007665Z",
     "iopub.status.idle": "2021-07-14T13:11:17.010728Z",
     "shell.execute_reply": "2021-07-14T13:11:17.010950Z"
    }
   },
   "outputs": [
    {
     "data": {
      "text/plain": [
       "Index(['Name', 'Shape_Leng', 'geometry', 'VALIDATION_ERRORS'], dtype='object')"
      ]
     },
     "execution_count": 8,
     "metadata": {},
     "output_type": "execute_result"
    }
   ],
   "source": [
    "# Normal DataFrame methods are available for data inspection\n",
    "kb11_validated.columns"
   ]
  },
  {
   "cell_type": "code",
   "execution_count": 9,
   "metadata": {
    "execution": {
     "iopub.execute_input": "2021-07-14T13:11:17.014523Z",
     "iopub.status.busy": "2021-07-14T13:11:17.014212Z",
     "iopub.status.idle": "2021-07-14T13:11:17.017358Z",
     "shell.execute_reply": "2021-07-14T13:11:17.017599Z"
    }
   },
   "outputs": [
    {
     "data": {
      "text/plain": [
       "array(['[]', \"['SHARP TURNS']\"], dtype=object)"
      ]
     },
     "execution_count": 9,
     "metadata": {},
     "output_type": "execute_result"
    }
   ],
   "source": [
    "# Convert column data to string to allow hashing and return all unique\n",
    "# validation errors.\n",
    "kb11_validated[\"VALIDATION_ERRORS\"].astype(str).unique()"
   ]
  },
  {
   "cell_type": "code",
   "execution_count": 10,
   "metadata": {
    "execution": {
     "iopub.execute_input": "2021-07-14T13:11:17.021325Z",
     "iopub.status.busy": "2021-07-14T13:11:17.021018Z",
     "iopub.status.idle": "2021-07-14T13:11:17.030202Z",
     "shell.execute_reply": "2021-07-14T13:11:17.030443Z"
    }
   },
   "outputs": [
    {
     "name": "stdout",
     "output_type": "stream",
     "text": [
      "Out of 707 traces, 1 were invalid.\n",
      "There were 1 error types. These were:\n",
      "SHARP TURNS\n",
      "\n"
     ]
    }
   ],
   "source": [
    "# Better description function is found in fractopo.cli\n",
    "from fractopo.cli import describe_results\n",
    "\n",
    "describe_results(kb11_validated, kb11_validation.ERROR_COLUMN)"
   ]
  },
  {
   "cell_type": "markdown",
   "metadata": {},
   "source": [
    "The KB11 dataset only contains `SHARP TURNS` errors which are normally non-disruptive in further analyses. \n",
    "\n",
    "See documentation: https://fractopo.readthedocs.io/en/latest/validation/errors.html"
   ]
  }
 ],
 "metadata": {
  "kernelspec": {
   "display_name": "Python 3",
   "language": "python",
   "name": "python3"
  },
  "language_info": {
   "codemirror_mode": {
    "name": "ipython",
    "version": 3
   },
   "file_extension": ".py",
   "mimetype": "text/x-python",
   "name": "python",
   "nbconvert_exporter": "python",
   "pygments_lexer": "ipython3",
   "version": "3.8.10"
  }
 },
 "nbformat": 4,
 "nbformat_minor": 4
}
