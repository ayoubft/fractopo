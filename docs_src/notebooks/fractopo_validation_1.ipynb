{
 "cells": [
  {
   "cell_type": "markdown",
   "metadata": {},
   "source": [
    "# Notebook - Fractopo – KB11 Trace Data Validation"
   ]
  },
  {
   "cell_type": "code",
   "execution_count": 1,
   "metadata": {
    "execution": {
     "iopub.execute_input": "2021-07-21T09:09:40.805804Z",
     "iopub.status.busy": "2021-07-21T09:09:40.805197Z",
     "iopub.status.idle": "2021-07-21T09:09:40.808116Z",
     "shell.execute_reply": "2021-07-21T09:09:40.807783Z"
    }
   },
   "outputs": [],
   "source": [
    "import warnings\n",
    "\n",
    "warnings.filterwarnings(\"ignore\")"
   ]
  },
  {
   "cell_type": "code",
   "execution_count": 2,
   "metadata": {
    "execution": {
     "iopub.execute_input": "2021-07-21T09:09:40.811100Z",
     "iopub.status.busy": "2021-07-21T09:09:40.810714Z",
     "iopub.status.idle": "2021-07-21T09:09:41.066014Z",
     "shell.execute_reply": "2021-07-21T09:09:41.065713Z"
    }
   },
   "outputs": [],
   "source": [
    "import geopandas as gpd"
   ]
  },
  {
   "cell_type": "code",
   "execution_count": 3,
   "metadata": {
    "execution": {
     "iopub.execute_input": "2021-07-21T09:09:41.069646Z",
     "iopub.status.busy": "2021-07-21T09:09:41.067836Z",
     "iopub.status.idle": "2021-07-21T09:09:41.071869Z",
     "shell.execute_reply": "2021-07-21T09:09:41.071639Z"
    }
   },
   "outputs": [],
   "source": [
    "# This cell's contents only for development purposes.\n",
    "from importlib.util import find_spec\n",
    "\n",
    "if find_spec(\"fractopo\") is None:\n",
    "    import sys\n",
    "\n",
    "    sys.path.append(\"../../\")"
   ]
  },
  {
   "cell_type": "code",
   "execution_count": 4,
   "metadata": {
    "execution": {
     "iopub.execute_input": "2021-07-21T09:09:41.074720Z",
     "iopub.status.busy": "2021-07-21T09:09:41.074364Z",
     "iopub.status.idle": "2021-07-21T09:09:41.492397Z",
     "shell.execute_reply": "2021-07-21T09:09:41.492098Z"
    }
   },
   "outputs": [],
   "source": [
    "from fractopo import Validation\n",
    "import matplotlib.pyplot as plt\n",
    "\n",
    "plt.close()"
   ]
  },
  {
   "cell_type": "markdown",
   "metadata": {},
   "source": [
    "## Data (KB11)"
   ]
  },
  {
   "cell_type": "code",
   "execution_count": 5,
   "metadata": {
    "execution": {
     "iopub.execute_input": "2021-07-21T09:09:41.496190Z",
     "iopub.status.busy": "2021-07-21T09:09:41.495900Z",
     "iopub.status.idle": "2021-07-21T09:09:43.080048Z",
     "shell.execute_reply": "2021-07-21T09:09:43.079739Z"
    }
   },
   "outputs": [
    {
     "name": "stderr",
     "output_type": "stream",
     "text": [
      "26923-WARNING-Skipping field VALIDATION_ERRORS: invalid type 5\n"
     ]
    }
   ],
   "source": [
    "# Trace and target area data available on GitHub\n",
    "trace_data_url = \"https://raw.githubusercontent.com/nialov/fractopo/master/tests/sample_data/KB11/KB11_traces.geojson\"\n",
    "area_data_url = \"https://raw.githubusercontent.com/nialov/fractopo/master/tests/sample_data/KB11/KB11_area.geojson\"\n",
    "\n",
    "# Use geopandas to load data from urls\n",
    "traces = gpd.read_file(trace_data_url)\n",
    "area = gpd.read_file(area_data_url)\n",
    "\n",
    "# Name the dataset\n",
    "name = \"KB11\""
   ]
  },
  {
   "cell_type": "markdown",
   "metadata": {},
   "source": [
    "## Validation (KB11)"
   ]
  },
  {
   "cell_type": "code",
   "execution_count": 6,
   "metadata": {
    "execution": {
     "iopub.execute_input": "2021-07-21T09:09:43.082995Z",
     "iopub.status.busy": "2021-07-21T09:09:43.082703Z",
     "iopub.status.idle": "2021-07-21T09:09:43.085103Z",
     "shell.execute_reply": "2021-07-21T09:09:43.084825Z"
    }
   },
   "outputs": [],
   "source": [
    "# Create validation object with fixing (i.e. modification of data) allowed.\n",
    "kb11_validation = Validation(traces, area, name=name, allow_fix=True)"
   ]
  },
  {
   "cell_type": "code",
   "execution_count": 7,
   "metadata": {
    "execution": {
     "iopub.execute_input": "2021-07-21T09:09:43.088018Z",
     "iopub.status.busy": "2021-07-21T09:09:43.087714Z",
     "iopub.status.idle": "2021-07-21T09:09:56.108562Z",
     "shell.execute_reply": "2021-07-21T09:09:56.108987Z"
    }
   },
   "outputs": [],
   "source": [
    "# Run actual validation and capture the outputted validated trace GeoDataFrame\n",
    "kb11_validated = kb11_validation.run_validation()"
   ]
  },
  {
   "cell_type": "markdown",
   "metadata": {},
   "source": [
    "## Validation results (KB11)"
   ]
  },
  {
   "cell_type": "code",
   "execution_count": 8,
   "metadata": {
    "execution": {
     "iopub.execute_input": "2021-07-21T09:09:56.113134Z",
     "iopub.status.busy": "2021-07-21T09:09:56.112845Z",
     "iopub.status.idle": "2021-07-21T09:09:56.115750Z",
     "shell.execute_reply": "2021-07-21T09:09:56.115457Z"
    }
   },
   "outputs": [
    {
     "data": {
      "text/plain": [
       "Index(['Name', 'Shape_Leng', 'geometry', 'VALIDATION_ERRORS'], dtype='object')"
      ]
     },
     "execution_count": 8,
     "metadata": {},
     "output_type": "execute_result"
    }
   ],
   "source": [
    "# Normal DataFrame methods are available for data inspection\n",
    "kb11_validated.columns"
   ]
  },
  {
   "cell_type": "code",
   "execution_count": 9,
   "metadata": {
    "execution": {
     "iopub.execute_input": "2021-07-21T09:09:56.119076Z",
     "iopub.status.busy": "2021-07-21T09:09:56.118789Z",
     "iopub.status.idle": "2021-07-21T09:09:56.121270Z",
     "shell.execute_reply": "2021-07-21T09:09:56.121489Z"
    }
   },
   "outputs": [
    {
     "data": {
      "text/plain": [
       "array(['[]', \"['SHARP TURNS']\"], dtype=object)"
      ]
     },
     "execution_count": 9,
     "metadata": {},
     "output_type": "execute_result"
    }
   ],
   "source": [
    "# Convert column data to string to allow hashing and return all unique\n",
    "# validation errors.\n",
    "kb11_validated[\"VALIDATION_ERRORS\"].astype(str).unique()"
   ]
  },
  {
   "cell_type": "code",
   "execution_count": 10,
   "metadata": {
    "execution": {
     "iopub.execute_input": "2021-07-21T09:09:56.123677Z",
     "iopub.status.busy": "2021-07-21T09:09:56.122914Z",
     "iopub.status.idle": "2021-07-21T09:09:56.131900Z",
     "shell.execute_reply": "2021-07-21T09:09:56.132183Z"
    }
   },
   "outputs": [
    {
     "name": "stdout",
     "output_type": "stream",
     "text": [
      "Out of 707 traces, 1 were invalid.\n",
      "There were 1 error types. These were:\n",
      "SHARP TURNS\n",
      "\n"
     ]
    }
   ],
   "source": [
    "# Better description function is found in fractopo.cli\n",
    "from fractopo.cli import describe_results\n",
    "\n",
    "describe_results(kb11_validated, kb11_validation.ERROR_COLUMN)"
   ]
  },
  {
   "cell_type": "markdown",
   "metadata": {},
   "source": [
    "The KB11 dataset only contains `SHARP TURNS` errors which are normally non-disruptive in further analyses. \n",
    "\n",
    "See documentation: https://fractopo.readthedocs.io/en/latest/validation/errors.html"
   ]
  }
 ],
 "metadata": {
  "kernelspec": {
   "display_name": "Python 3 (ipykernel)",
   "language": "python",
   "name": "python3"
  },
  "language_info": {
   "codemirror_mode": {
    "name": "ipython",
    "version": 3
   },
   "file_extension": ".py",
   "mimetype": "text/x-python",
   "name": "python",
   "nbconvert_exporter": "python",
   "pygments_lexer": "ipython3",
   "version": "3.8.10"
  }
 },
 "nbformat": 4,
 "nbformat_minor": 4
}
