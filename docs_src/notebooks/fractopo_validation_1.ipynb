{
 "cells": [
  {
   "cell_type": "markdown",
   "metadata": {},
   "source": [
    "# Notebook - Fractopo – KB11 Trace Data Validation"
   ]
  },
  {
   "cell_type": "code",
   "execution_count": 1,
   "metadata": {
    "execution": {
     "iopub.execute_input": "2022-01-03T20:50:23.046661Z",
     "iopub.status.busy": "2022-01-03T20:50:23.045888Z",
     "iopub.status.idle": "2022-01-03T20:50:23.048646Z",
     "shell.execute_reply": "2022-01-03T20:50:23.049130Z"
    }
   },
   "outputs": [],
   "source": [
    "import warnings\n",
    "\n",
    "warnings.filterwarnings(\"ignore\")"
   ]
  },
  {
   "cell_type": "code",
   "execution_count": 2,
   "metadata": {
    "execution": {
     "iopub.execute_input": "2022-01-03T20:50:23.053360Z",
     "iopub.status.busy": "2022-01-03T20:50:23.052933Z",
     "iopub.status.idle": "2022-01-03T20:50:23.385466Z",
     "shell.execute_reply": "2022-01-03T20:50:23.384997Z"
    }
   },
   "outputs": [],
   "source": [
    "import geopandas as gpd"
   ]
  },
  {
   "cell_type": "code",
   "execution_count": 3,
   "metadata": {
    "execution": {
     "iopub.execute_input": "2022-01-03T20:50:23.388939Z",
     "iopub.status.busy": "2022-01-03T20:50:23.387543Z",
     "iopub.status.idle": "2022-01-03T20:50:23.391608Z",
     "shell.execute_reply": "2022-01-03T20:50:23.391225Z"
    }
   },
   "outputs": [],
   "source": [
    "# This cell's contents only for development purposes.\n",
    "from importlib.util import find_spec\n",
    "\n",
    "if find_spec(\"fractopo\") is None:\n",
    "    import sys\n",
    "\n",
    "    sys.path.append(\"../../\")"
   ]
  },
  {
   "cell_type": "code",
   "execution_count": 4,
   "metadata": {
    "execution": {
     "iopub.execute_input": "2022-01-03T20:50:23.396021Z",
     "iopub.status.busy": "2022-01-03T20:50:23.395631Z",
     "iopub.status.idle": "2022-01-03T20:50:24.342711Z",
     "shell.execute_reply": "2022-01-03T20:50:24.343007Z"
    }
   },
   "outputs": [],
   "source": [
    "from fractopo import Validation\n",
    "import matplotlib.pyplot as plt\n",
    "\n",
    "plt.close()"
   ]
  },
  {
   "cell_type": "markdown",
   "metadata": {},
   "source": [
    "## Data (KB11)"
   ]
  },
  {
   "cell_type": "code",
   "execution_count": 5,
   "metadata": {
    "execution": {
     "iopub.execute_input": "2022-01-03T20:50:24.347689Z",
     "iopub.status.busy": "2022-01-03T20:50:24.347292Z",
     "iopub.status.idle": "2022-01-03T20:50:25.944900Z",
     "shell.execute_reply": "2022-01-03T20:50:25.944517Z"
    }
   },
   "outputs": [
    {
     "name": "stderr",
     "output_type": "stream",
     "text": [
      "24413-WARNING-Skipping field VALIDATION_ERRORS: invalid type 5\n"
     ]
    }
   ],
   "source": [
    "# Trace and target area data available on GitHub\n",
    "trace_data_url = \"https://raw.githubusercontent.com/nialov/fractopo/master/tests/sample_data/KB11/KB11_traces.geojson\"\n",
    "area_data_url = \"https://raw.githubusercontent.com/nialov/fractopo/master/tests/sample_data/KB11/KB11_area.geojson\"\n",
    "\n",
    "# Use geopandas to load data from urls\n",
    "traces = gpd.read_file(trace_data_url)\n",
    "area = gpd.read_file(area_data_url)\n",
    "\n",
    "# Name the dataset\n",
    "name = \"KB11\""
   ]
  },
  {
   "cell_type": "markdown",
   "metadata": {},
   "source": [
    "## Validation (KB11)"
   ]
  },
  {
   "cell_type": "code",
   "execution_count": 6,
   "metadata": {
    "execution": {
     "iopub.execute_input": "2022-01-03T20:50:25.948725Z",
     "iopub.status.busy": "2022-01-03T20:50:25.948358Z",
     "iopub.status.idle": "2022-01-03T20:50:25.950530Z",
     "shell.execute_reply": "2022-01-03T20:50:25.950814Z"
    }
   },
   "outputs": [],
   "source": [
    "# Create validation object with fixing (i.e. modification of data) allowed.\n",
    "kb11_validation = Validation(traces, area, name=name, allow_fix=True)"
   ]
  },
  {
   "cell_type": "code",
   "execution_count": 7,
   "metadata": {
    "execution": {
     "iopub.execute_input": "2022-01-03T20:50:25.954204Z",
     "iopub.status.busy": "2022-01-03T20:50:25.953788Z",
     "iopub.status.idle": "2022-01-03T20:50:40.076542Z",
     "shell.execute_reply": "2022-01-03T20:50:40.076133Z"
    }
   },
   "outputs": [
    {
     "name": "stderr",
     "output_type": "stream",
     "text": [
      "24413-ERROR-Failed to split trace with splitter_trace.\n",
      "Traceback (most recent call last):\n",
      "  File \"/home/nialov/nikke-projects/Pipenv_projects/fractopo/.nox/notebooks-3-9/lib/python3.9/site-packages/fractopo/tval/trace_validation_utils.py\", line 130, in split_to_determine_triangle_errors\n",
      "    segments = split(trace, splitter_trace)\n",
      "  File \"/home/nialov/nikke-projects/Pipenv_projects/fractopo/.nox/notebooks-3-9/lib/python3.9/site-packages/shapely/ops.py\", line 569, in split\n",
      "    return GeometryCollection(split_func(geom, splitter))\n",
      "  File \"/home/nialov/nikke-projects/Pipenv_projects/fractopo/.nox/notebooks-3-9/lib/python3.9/site-packages/shapely/geometry/collection.py\", line 43, in __init__\n",
      "    geom, n = geos_geometrycollection_from_py(geoms)\n",
      "  File \"/home/nialov/nikke-projects/Pipenv_projects/fractopo/.nox/notebooks-3-9/lib/python3.9/site-packages/shapely/geometry/collection.py\", line 64, in geos_geometrycollection_from_py\n",
      "    L = len(ob)\n",
      "TypeError: object of type 'LineString' has no len()\n",
      "24413-ERROR-Failed to split trace with splitter_trace.\n",
      "Traceback (most recent call last):\n",
      "  File \"/home/nialov/nikke-projects/Pipenv_projects/fractopo/.nox/notebooks-3-9/lib/python3.9/site-packages/fractopo/tval/trace_validation_utils.py\", line 130, in split_to_determine_triangle_errors\n",
      "    segments = split(trace, splitter_trace)\n",
      "  File \"/home/nialov/nikke-projects/Pipenv_projects/fractopo/.nox/notebooks-3-9/lib/python3.9/site-packages/shapely/ops.py\", line 569, in split\n",
      "    return GeometryCollection(split_func(geom, splitter))\n",
      "  File \"/home/nialov/nikke-projects/Pipenv_projects/fractopo/.nox/notebooks-3-9/lib/python3.9/site-packages/shapely/geometry/collection.py\", line 43, in __init__\n",
      "    geom, n = geos_geometrycollection_from_py(geoms)\n",
      "  File \"/home/nialov/nikke-projects/Pipenv_projects/fractopo/.nox/notebooks-3-9/lib/python3.9/site-packages/shapely/geometry/collection.py\", line 64, in geos_geometrycollection_from_py\n",
      "    L = len(ob)\n",
      "TypeError: object of type 'LineString' has no len()\n"
     ]
    }
   ],
   "source": [
    "# Run actual validation and capture the outputted validated trace GeoDataFrame\n",
    "kb11_validated = kb11_validation.run_validation()"
   ]
  },
  {
   "cell_type": "markdown",
   "metadata": {},
   "source": [
    "## Validation results (KB11)"
   ]
  },
  {
   "cell_type": "code",
   "execution_count": 8,
   "metadata": {
    "execution": {
     "iopub.execute_input": "2022-01-03T20:50:40.081558Z",
     "iopub.status.busy": "2022-01-03T20:50:40.081151Z",
     "iopub.status.idle": "2022-01-03T20:50:40.084466Z",
     "shell.execute_reply": "2022-01-03T20:50:40.084143Z"
    }
   },
   "outputs": [
    {
     "data": {
      "text/plain": [
       "Index(['Name', 'Shape_Leng', 'geometry', 'VALIDATION_ERRORS'], dtype='object')"
      ]
     },
     "execution_count": 8,
     "metadata": {},
     "output_type": "execute_result"
    }
   ],
   "source": [
    "# Normal DataFrame methods are available for data inspection\n",
    "kb11_validated.columns"
   ]
  },
  {
   "cell_type": "code",
   "execution_count": 9,
   "metadata": {
    "execution": {
     "iopub.execute_input": "2022-01-03T20:50:40.088521Z",
     "iopub.status.busy": "2022-01-03T20:50:40.088139Z",
     "iopub.status.idle": "2022-01-03T20:50:40.091670Z",
     "shell.execute_reply": "2022-01-03T20:50:40.091983Z"
    }
   },
   "outputs": [
    {
     "data": {
      "text/plain": [
       "array(['[]', \"['STACKED TRACES']\", \"['SHARP TURNS']\"], dtype=object)"
      ]
     },
     "execution_count": 9,
     "metadata": {},
     "output_type": "execute_result"
    }
   ],
   "source": [
    "# Convert column data to string to allow hashing and return all unique\n",
    "# validation errors.\n",
    "kb11_validated[\"VALIDATION_ERRORS\"].astype(str).unique()"
   ]
  },
  {
   "cell_type": "code",
   "execution_count": 10,
   "metadata": {
    "execution": {
     "iopub.execute_input": "2022-01-03T20:50:40.096119Z",
     "iopub.status.busy": "2022-01-03T20:50:40.095702Z",
     "iopub.status.idle": "2022-01-03T20:50:40.131385Z",
     "shell.execute_reply": "2022-01-03T20:50:40.131088Z"
    }
   },
   "outputs": [
    {
     "data": {
      "text/html": [
       "<pre style=\"white-space:pre;overflow-x:auto;line-height:normal;font-family:Menlo,'DejaVu Sans Mono',consolas,'Courier New',monospace\"><span style=\"color: #808000; text-decoration-color: #808000\">Out of 707 traces, 3 were invalid.</span>\n",
       "</pre>\n"
      ],
      "text/plain": [
       "\u001b[33mOut of 707 traces, 3 were invalid.\u001b[0m\n"
      ]
     },
     "metadata": {},
     "output_type": "display_data"
    },
    {
     "data": {
      "text/html": [
       "<pre style=\"white-space:pre;overflow-x:auto;line-height:normal;font-family:Menlo,'DejaVu Sans Mono',consolas,'Courier New',monospace\"><span style=\"color: #800000; text-decoration-color: #800000; font-weight: bold\">There were 2 error types. These were:</span>\n",
       "<span style=\"color: #800000; text-decoration-color: #800000; font-weight: bold\">SHARP TURNS</span>\n",
       "<span style=\"color: #800000; text-decoration-color: #800000; font-weight: bold\">STACKED TRACES</span>\n",
       "\n",
       "</pre>\n"
      ],
      "text/plain": [
       "\u001b[1;31mThere were 2 error types. These were:\u001b[0m\n",
       "\u001b[1;31mSHARP TURNS\u001b[0m\n",
       "\u001b[1;31mSTACKED TRACES\u001b[0m\n",
       "\n"
      ]
     },
     "metadata": {},
     "output_type": "display_data"
    }
   ],
   "source": [
    "# Better description function is found in fractopo.cli\n",
    "from fractopo.cli import describe_results\n",
    "\n",
    "describe_results(kb11_validated, kb11_validation.ERROR_COLUMN)"
   ]
  },
  {
   "cell_type": "markdown",
   "metadata": {},
   "source": [
    "The KB11 dataset only contains `SHARP TURNS` errors which are normally non-disruptive in further analyses. \n",
    "\n",
    "See documentation: https://fractopo.readthedocs.io/en/latest/validation/errors.html"
   ]
  }
 ],
 "metadata": {
  "kernelspec": {
   "display_name": "Python 3 (ipykernel)",
   "language": "python",
   "name": "python3"
  },
  "language_info": {
   "codemirror_mode": {
    "name": "ipython",
    "version": 3
   },
   "file_extension": ".py",
   "mimetype": "text/x-python",
   "name": "python",
   "nbconvert_exporter": "python",
   "pygments_lexer": "ipython3",
   "version": "3.9.9"
  }
 },
 "nbformat": 4,
 "nbformat_minor": 4
}
