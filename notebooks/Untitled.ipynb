{
 "cells": [
  {
   "cell_type": "code",
   "execution_count": 1,
   "metadata": {},
   "outputs": [],
   "source": [
    "import sys\n",
    "sys.path.append(\"..\")"
   ]
  },
  {
   "cell_type": "code",
   "execution_count": 2,
   "metadata": {},
   "outputs": [
    {
     "name": "stderr",
     "output_type": "stream",
     "text": [
      "/home/nialov/.local/share/virtualenvs/fractopo-YImANkM_/lib/python3.8/site-packages/geopandas/_compat.py:84: UserWarning: The Shapely GEOS version (3.8.0-CAPI-1.13.1 ) is incompatible with the GEOS version PyGEOS was compiled with (3.8.1-CAPI-1.13.3). Conversions between both will be slow.\n",
      "  warnings.warn(\n"
     ]
    }
   ],
   "source": [
    "import geopandas as gpd\n",
    "from fractopo import branches_and_nodes\n",
    "from pathlib import Path\n",
    "import matplotlib.pyplot as plt\n",
    "from shapely.geometry import Polygon, LineString, Point, MultiLineString\n",
    "from tval import trace_validator, trace_builder"
   ]
  },
  {
   "cell_type": "code",
   "execution_count": 3,
   "metadata": {},
   "outputs": [],
   "source": [
    "#gdf = gpd.GeoDataFrame({\"geometry\": trace_builder.make_valid_traces()})\n",
    "gdf = gpd.read_file(\"../tests/sample_data/Inkoo_traces.gpkg\", layer=\"Inkoo_Infinity_Lineaments_traces\")\n",
    "snap_threshold = 0.001\n",
    "snap_threshold_multiplier = 1.1\n",
    "area_t_m = 5\n",
    "trace_validator.BaseValidator.set_snap_threshold_and_multipliers(snap_threshold, snap_threshold_multiplier, area_t_m)\n"
   ]
  },
  {
   "cell_type": "code",
   "execution_count": 8,
   "metadata": {},
   "outputs": [
    {
     "name": "stderr",
     "output_type": "stream",
     "text": [
      "../fractopo/branches_and_nodes.py:341: RuntimeWarning: invalid value encountered in arccos\n",
      "  rad_angle = np.arccos(dot_product)\n",
      "../fractopo/branches_and_nodes.py:341: RuntimeWarning: invalid value encountered in arccos\n",
      "  rad_angle = np.arccos(dot_product)\n",
      "../fractopo/branches_and_nodes.py:341: RuntimeWarning: invalid value encountered in arccos\n",
      "  rad_angle = np.arccos(dot_product)\n",
      "../fractopo/branches_and_nodes.py:341: RuntimeWarning: invalid value encountered in arccos\n",
      "  rad_angle = np.arccos(dot_product)\n",
      "../fractopo/branches_and_nodes.py:341: RuntimeWarning: invalid value encountered in arccos\n",
      "  rad_angle = np.arccos(dot_product)\n",
      "../fractopo/branches_and_nodes.py:341: RuntimeWarning: invalid value encountered in arccos\n",
      "  rad_angle = np.arccos(dot_product)\n",
      "../fractopo/branches_and_nodes.py:341: RuntimeWarning: invalid value encountered in arccos\n",
      "  rad_angle = np.arccos(dot_product)\n",
      "../fractopo/branches_and_nodes.py:341: RuntimeWarning: invalid value encountered in arccos\n",
      "  rad_angle = np.arccos(dot_product)\n",
      "../fractopo/branches_and_nodes.py:341: RuntimeWarning: invalid value encountered in arccos\n",
      "  rad_angle = np.arccos(dot_product)\n",
      "../fractopo/branches_and_nodes.py:341: RuntimeWarning: invalid value encountered in arccos\n",
      "  rad_angle = np.arccos(dot_product)\n"
     ]
    }
   ],
   "source": [
    "snapped_traces, _ = branches_and_nodes.snap_traces(gdf.geometry, snap_threshold)"
   ]
  },
  {
   "cell_type": "code",
   "execution_count": 5,
   "metadata": {},
   "outputs": [],
   "source": [
    "from shapely.ops import unary_union"
   ]
  },
  {
   "cell_type": "code",
   "execution_count": null,
   "metadata": {},
   "outputs": [],
   "source": [
    "unary_union(snapped_traces)"
   ]
  },
  {
   "cell_type": "code",
   "execution_count": null,
   "metadata": {},
   "outputs": [],
   "source": [
    "gpd.GeoDataFrame({\"geometry\": snapped_traces}).to_file(\"../dev/snapped_traces.gpkg\", driver=\"GPKG\")"
   ]
  },
  {
   "cell_type": "code",
   "execution_count": null,
   "metadata": {},
   "outputs": [],
   "source": [
    "det_nodes, _ = trace_validator.BaseValidator.determine_nodes(gpd.GeoDataFrame({\"geometry\": snapped_traces}))"
   ]
  },
  {
   "cell_type": "code",
   "execution_count": null,
   "metadata": {},
   "outputs": [],
   "source": [
    "nodes = branches_and_nodes.remove_identical_sindex(gpd.GeoSeries(det_nodes), snap_threshold)"
   ]
  },
  {
   "cell_type": "code",
   "execution_count": null,
   "metadata": {},
   "outputs": [],
   "source": [
    "node_identities = branches_and_nodes.get_node_identities(snapped_traces, nodes, snap_threshold)"
   ]
  },
  {
   "cell_type": "code",
   "execution_count": null,
   "metadata": {},
   "outputs": [],
   "source": [
    "branches = branches_and_nodes.split_traces_to_branches(snapped_traces, nodes, node_identities, snap_threshold)"
   ]
  },
  {
   "cell_type": "code",
   "execution_count": null,
   "metadata": {},
   "outputs": [],
   "source": [
    "branch_identities = branches_and_nodes.get_branch_identities(branches, nodes, node_identities, snap_threshold)"
   ]
  },
  {
   "cell_type": "code",
   "execution_count": null,
   "metadata": {},
   "outputs": [],
   "source": [
    "branch_gdf = gpd.GeoDataFrame({\"geometry\": branches, \"Type\": branch_identities})\n",
    "node_gdf = gpd.GeoDataFrame({\"geometry\": nodes, \"Type\": node_identities})"
   ]
  },
  {
   "cell_type": "code",
   "execution_count": null,
   "metadata": {},
   "outputs": [],
   "source": [
    "fig, ax = plt.subplots(figsize=(9, 9))\n",
    "branch_gdf.plot(ax=ax, column=\"Type\", label=\"Type\")\n",
    "#node_gdf.plot(ax=ax, column=\"Type\", label=\"Type\", zorder=10, legend=True)"
   ]
  },
  {
   "cell_type": "code",
   "execution_count": null,
   "metadata": {},
   "outputs": [],
   "source": [
    "branch_gdf.to_file(\"../dev/branches.gpkg\", driver=\"GPKG\")\n",
    "node_gdf.to_file(\"../dev/nodes.gpkg\", driver=\"GPKG\")"
   ]
  },
  {
   "cell_type": "code",
   "execution_count": null,
   "metadata": {},
   "outputs": [],
   "source": [
    "nodes = gpd.GeoSeries([\n",
    "    Point(0, 0), \n",
    "    Point(1,1), \n",
    "    Point(2, 2)\n",
    "])\n",
    "traces = gpd.GeoSeries([\n",
    "    LineString([(-2, 0), (2, 0)]),\n",
    "    LineString([(0, -2), (0, 2)]),\n",
    "    LineString([(10, -22), (10, -21)]),\n",
    "])\n",
    "\n",
    "node_identities = [\"X\", \"I\", \"I\"]\n",
    "snap_threshold = 0.001\n",
    "branches_and_nodes.split_traces_to_branches_with_traces(traces, nodes, node_identities, snap_threshold)"
   ]
  },
  {
   "cell_type": "code",
   "execution_count": null,
   "metadata": {},
   "outputs": [],
   "source": []
  }
 ],
 "metadata": {
  "kernelspec": {
   "display_name": "Python 3",
   "language": "python",
   "name": "python3"
  },
  "language_info": {
   "codemirror_mode": {
    "name": "ipython",
    "version": 3
   },
   "file_extension": ".py",
   "mimetype": "text/x-python",
   "name": "python",
   "nbconvert_exporter": "python",
   "pygments_lexer": "ipython3",
   "version": "3.8.6"
  }
 },
 "nbformat": 4,
 "nbformat_minor": 4
}
