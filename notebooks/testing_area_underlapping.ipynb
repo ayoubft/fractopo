{
 "cells": [
  {
   "cell_type": "code",
   "execution_count": 1,
   "metadata": {},
   "outputs": [],
   "source": [
    "from pathlib import Path\n",
    "import pathlib\n",
    "import geopandas as gpd\n",
    "from tval import trace_validator\n",
    "import time"
   ]
  },
  {
   "cell_type": "code",
   "execution_count": 3,
   "metadata": {},
   "outputs": [],
   "source": [
    "from shapely.geometry import Point, Polygon"
   ]
  },
  {
   "cell_type": "code",
   "execution_count": 2,
   "metadata": {},
   "outputs": [],
   "source": [
    "trace_validator.BaseValidator.set_snap_threshold_and_multiplier(0.001, 1.1)"
   ]
  },
  {
   "cell_type": "code",
   "execution_count": 5,
   "metadata": {},
   "outputs": [
    {
     "data": {
      "text/plain": [
       "True"
      ]
     },
     "execution_count": 5,
     "metadata": {},
     "output_type": "execute_result"
    }
   ],
   "source": [
    "Point(0.5, 0.5).within(Polygon([(-1, 1), (1, 1), (1, 0), (-1, 0)]))"
   ]
  },
  {
   "cell_type": "code",
   "execution_count": 7,
   "metadata": {},
   "outputs": [
    {
     "data": {
      "image/svg+xml": [
       "<svg xmlns=\"http://www.w3.org/2000/svg\" xmlns:xlink=\"http://www.w3.org/1999/xlink\" width=\"100.0\" height=\"100.0\" viewBox=\"-1.08 -0.08 2.16 1.1600000000000001\" preserveAspectRatio=\"xMinYMin meet\"><g transform=\"matrix(1,0,0,-1,0,1.0)\"><polyline fill=\"none\" stroke=\"#66cc99\" stroke-width=\"0.0432\" points=\"-1.0,1.0 1.0,1.0 1.0,0.0 -1.0,0.0 -1.0,1.0\" opacity=\"0.8\" /></g></svg>"
      ],
      "text/plain": [
       "<shapely.geometry.linestring.LineString at 0x7f8094657760>"
      ]
     },
     "execution_count": 7,
     "metadata": {},
     "output_type": "execute_result"
    }
   ],
   "source": [
    "Polygon([(-1, 1), (1, 1), (1, 0), (-1, 0)]).boundary"
   ]
  },
  {
   "cell_type": "code",
   "execution_count": 14,
   "metadata": {},
   "outputs": [],
   "source": [
    "p = Point(0.5, 1).buffer(0.001 * 1.1)"
   ]
  },
  {
   "cell_type": "code",
   "execution_count": 15,
   "metadata": {},
   "outputs": [],
   "source": [
    "pol = Polygon([(-1, 1), (1, 1), (1, 0), (-1, 0)])"
   ]
  },
  {
   "cell_type": "code",
   "execution_count": 16,
   "metadata": {},
   "outputs": [
    {
     "data": {
      "image/svg+xml": [
       "<svg xmlns=\"http://www.w3.org/2000/svg\" xmlns:xlink=\"http://www.w3.org/1999/xlink\" width=\"100.0\" height=\"100.0\" viewBox=\"0.49881200000000003 0.998812 0.0023759999999999337 0.0023760000000001558\" preserveAspectRatio=\"xMinYMin meet\"><g transform=\"matrix(1,0,0,-1,0,2.0)\"><path fill-rule=\"evenodd\" fill=\"#66cc99\" stroke=\"#555555\" stroke-width=\"4.7520000000003116e-05\" opacity=\"0.6\" d=\"M 0.5011,1.0 L 0.5010947031993395,0.9998921811456375 L 0.5010788638084436,0.9997854006457823 L 0.5010526343693055,0.9996806868550201 L 0.5010162674857624,0.9995790482243984 L 0.5009701133907832,0.9994814635894914 L 0.5009146165735328,0.9993888727436785 L 0.500850311498699,0.99930216738742 L 0.5007778174593052,0.9992221825406948 L 0.50069783261258,0.999149688501301 L 0.5006111272563215,0.9990853834264672 L 0.5005185364105086,0.9990298866092168 L 0.5004209517756016,0.9989837325142376 L 0.5003193131449799,0.9989473656306945 L 0.5002145993542177,0.9989211361915564 L 0.5001078188543625,0.9989052968006605 L 0.5,0.9989 L 0.4998921811456375,0.9989052968006605 L 0.49978540064578225,0.9989211361915564 L 0.4996806868550201,0.9989473656306945 L 0.4995790482243984,0.9989837325142376 L 0.4994814635894914,0.9990298866092168 L 0.49938887274367844,0.9990853834264672 L 0.49930216738742,0.999149688501301 L 0.4992221825406948,0.9992221825406948 L 0.499149688501301,0.99930216738742 L 0.4990853834264672,0.9993888727436785 L 0.4990298866092168,0.9994814635894914 L 0.4989837325142376,0.9995790482243984 L 0.4989473656306946,0.9996806868550201 L 0.4989211361915564,0.9997854006457823 L 0.4989052968006606,0.9998921811456375 L 0.4989,1.0 L 0.4989052968006606,1.0001078188543626 L 0.4989211361915564,1.0002145993542177 L 0.4989473656306946,1.00031931314498 L 0.4989837325142376,1.0004209517756015 L 0.4990298866092168,1.0005185364105087 L 0.4990853834264672,1.0006111272563216 L 0.499149688501301,1.00069783261258 L 0.4992221825406948,1.0007778174593052 L 0.49930216738742,1.000850311498699 L 0.49938887274367844,1.0009146165735328 L 0.4994814635894914,1.0009701133907831 L 0.4995790482243984,1.0010162674857623 L 0.4996806868550201,1.0010526343693054 L 0.49978540064578225,1.0010788638084436 L 0.4998921811456375,1.0010947031993394 L 0.5,1.0011 L 0.5001078188543625,1.0010947031993394 L 0.5002145993542177,1.0010788638084436 L 0.5003193131449799,1.0010526343693054 L 0.5004209517756016,1.0010162674857623 L 0.5005185364105086,1.0009701133907831 L 0.5006111272563215,1.0009146165735328 L 0.50069783261258,1.000850311498699 L 0.5007778174593052,1.0007778174593052 L 0.500850311498699,1.00069783261258 L 0.5009146165735328,1.0006111272563216 L 0.5009701133907832,1.0005185364105087 L 0.5010162674857624,1.0004209517756015 L 0.5010526343693055,1.00031931314498 L 0.5010788638084436,1.0002145993542177 L 0.5010947031993395,1.0001078188543626 L 0.5011,1.0 z\" /></g></svg>"
      ],
      "text/plain": [
       "<shapely.geometry.polygon.Polygon at 0x7f8094642df0>"
      ]
     },
     "execution_count": 16,
     "metadata": {},
     "output_type": "execute_result"
    }
   ],
   "source": [
    "p"
   ]
  },
  {
   "cell_type": "code",
   "execution_count": 17,
   "metadata": {},
   "outputs": [
    {
     "data": {
      "text/plain": [
       "True"
      ]
     },
     "execution_count": 17,
     "metadata": {},
     "output_type": "execute_result"
    }
   ],
   "source": [
    "p.intersects(pol.boundary)"
   ]
  },
  {
   "cell_type": "code",
   "execution_count": 19,
   "metadata": {},
   "outputs": [
    {
     "data": {
      "text/plain": [
       "3.9998955"
      ]
     },
     "execution_count": 19,
     "metadata": {},
     "output_type": "execute_result"
    }
   ],
   "source": [
    "4- 0.0001 * 1.1 * 0.95"
   ]
  },
  {
   "cell_type": "code",
   "execution_count": null,
   "metadata": {},
   "outputs": [],
   "source": []
  }
 ],
 "metadata": {
  "kernelspec": {
   "display_name": "Python 3",
   "language": "python",
   "name": "python3"
  },
  "language_info": {
   "codemirror_mode": {
    "name": "ipython",
    "version": 3
   },
   "file_extension": ".py",
   "mimetype": "text/x-python",
   "name": "python",
   "nbconvert_exporter": "python",
   "pygments_lexer": "ipython3",
   "version": "3.8.5"
  }
 },
 "nbformat": 4,
 "nbformat_minor": 4
}
