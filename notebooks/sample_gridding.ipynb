---
jupyter:
  jupytext:
    text_representation:
      extension: .md
      format_name: markdown
      format_version: '1.2'
      jupytext_version: 1.6.0
  kernelspec:
    display_name: Python 3
    language: python
    name: python3
---

```python
import geopandas as gpd
import shapely
from shapely.geometry import *
import numpy as np
   "metadata": {},
   "outputs": [],
   "source": [
    "import contour_grid"
   ]
  },
  {

```python
import warnings
warnings.filterwarnings('ignore', 'GeoSeries.notna', UserWarning)
```

```python
trace_list, branch_list, node_list, name_list = helper.get_layers_from_files()
```

# Start of analysis.

```python
for traces, branches, nodes, name in zip(trace_list, branch_list, node_list, name_list):
    print(name)
    grid_size = 2
    print(f"Grid size: {grid_size}")
    print(f"Started at {time.asctime()}")
    sample_grid = helper.create_grid(grid_size, branches)
    
    # fig, ax = helper.plot_base(traces, sample_grid)
    
    }
   ],
   "source": [
    "trace_list, branch_list, node_list, name_list = contour_grid.get_layers_from_files()"
   ]
  },
  {
```python
# sample_grids = []
# for traces, branches, nodes, name in zip(trace_list, branch_list, node_list, name_list):
  #  sample_grid = helper.create_grid(1, branches)
    # fig, ax = helper.plot_base(traces, sample_grid)
    # fig.savefig(f"results/imgs/{name}_traced_and_grid.png", dpi=150)
    
   # sample_grid_results = helper.sample_grid(sample_grid, traces, branches, nodes)
    #sample_grids.append(sample_grid_results)
    
```

```python
[print(len(b)) for b in branch_list]
print("traces")
[print(len(b)) for b in trace_list]
print("nodes")
[print(len(b)) for b in node_list]
```

```python
# for g, name in zip(sample_grids, name_list):
  #  grid = g[0]
   # grid.to_file(f"results/1m_grid/{name}_1m_grid.shp")
    #grid.to_file(f"results/1m_grid/{name}_1m_grid.gpkg")
```

```python
#for g, name in zip(sample_grids, name_list):
 #   ee_grid=g[1]
  #  if ee_grid is not None:
   #     ee_grid.to_file(f"results/1m_grid/ee/{name}_1m_ee_grid.gpkg")
    
```

```python
# Get test layer OG3
trace_list, branch_list, node_list, name_list = helper.get_test_layers()
```

```python
for traces, branches, nodes, name in zip(trace_list, branch_list, node_list, name_list):
    print(name)
    grid_size = 2.5
    print(f"Grid size: {grid_size}")
    print(f"Started {time.asctime()}")
    sample_grid = helper.create_grid(grid_size, branches)
    
    fig, ax = helper.plot_base(traces, sample_grid)
    
    sample_grid_results = helper.sample_grid(sample_grid, traces, branches, nodes)
    print(name)
    print(f"Ended {time.asctime()}")
```

```python
sample_grid_results.to_file("results/2_5_m_grid.gpkg")
```

```python
fig, axii = helper.plot_results(sample_grid_results, traces)
fig.savefig("results/imgs/2_5_m_grid.png", dpi=250)
```

```python
len(branches)
    "    grid_size = 2\n",
    "    print(f\"Grid size: {grid_size}\")\n",
    "    print(f\"Started at {time.asctime()}\")\n",
    "    sample_grid = contour_grid.create_grid(grid_size, branches)\n",
    "    \n",
    "    # fig, ax = contour_grid.plot_base(traces, sample_grid)\n",
    "    \n",
    "    sample_grid_results = contour_grid.sample_grid(sample_grid, traces, branches, nodes)\n",
    "    sample_grid_results.to_file(f\"results/All_2m/2m_grid_topology_{name}.gpkg\", layer=f\"2m_grid_topology_{name}\", driver=\"GPKG\")\n",
    "    print(name)\n",
    "    print(f\"Ended at {time.asctime()}\")\n"
```

```python
sample = sample_grid.geometry.iloc[15]
if any(branches.intersects(sample)):
    gpd.clip(branches, sample).plot()
```
   "source": [
    "# sample_grids = []\n",
    "# for traces, branches, nodes, name in zip(trace_list, branch_list, node_list, name_list):\n",
    "  #  sample_grid = contour_grid.create_grid(1, branches)\n",
    "    # fig, ax = contour_grid.plot_base(traces, sample_grid)\n",
    "    # fig.savefig(f\"results/imgs/{name}_traced_and_grid.png\", dpi=150)\n",
    "    \n",
    "   # sample_grid_results = contour_grid.sample_grid(sample_grid, traces, branches, nodes)\n",
    "    #sample_grids.append(sample_grid_results)\n",
    "    "
   ]

```

```python
fig, ax = plt.subplots()
gpd.clip(sample_traces, sample).plot(ax=ax, color='red', linewidth=1.9)
sample_traces.plot(ax=ax)
gpd.GeoDataFrame({"geometry": [sample]}, crs=branches.crs).boundary.plot(color='black', ax=ax)
gpd.clip(sample_nodes, sample).plot()
```

```python
sample_traces
```

# Some trace layers

```python
all_layers = helper.get_all_layers(r"data/Orrengrund.gdb")
```

# Last trace layers

```python
OG145_traces = gpd.read_file(r"data/merged/OG1-4-5_fractures.gpkg")
```

# Branches and nodes

```python
OG145_nodes = gpd.read_file(r"data/merged/nodes_OG1-4-5_fractures.gpkg")
OG145_branches = gpd.read_file(r"data/merged/branches_OG1-4-5_fractures.gpkg")
```

```python
topo_layers = helper.get_all_layers(r"data/Orrengrund_analysis.gdb")
```

```python
topo_layers.keys()
```

```python
all_layers.keys()
```

```python
og1 = all_layers["OG1_tulkinta"]
og1_b = topo_layers["OG1_tulkinta_branches"]
og1_n = topo_layers["OG1_tulkinta_nodes"]
```

```python
CC = "C - C"
CI = "C - I"
II = "I - I"
X = "X"
Y = "Y"
I = "I"
```

```python
sample_grid_10m = helper.create_grid(2.5, og1_b)
```

```python
helper.plot_base(og1_b, sample_grid_10m)
```

```python
sample_grid_10m_topo, EEs = helper.sample_grid(sample_grid_10m, og1, og1_b, og1_n)
```

```python
fig, axes = helper.plot_results(sample_grid_10m_topo)
plt.savefig("topos.png", dpi=200, bbox_inches='tight')

```

   "outputs": [],
   "source": [
    "# Get test layer OG3\n",
    "trace_list, branch_list, node_list, name_list = contour_grid.get_test_layers()"
   ]
  },
  {
    "    grid_size = 2.5\n",
    "    print(f\"Grid size: {grid_size}\")\n",
    "    print(f\"Started {time.asctime()}\")\n",
    "    sample_grid = contour_grid.create_grid(grid_size, branches)\n",
    "    \n",
    "    fig, ax = contour_grid.plot_base(traces, sample_grid)\n",
    "    \n",
    "    sample_grid_results = contour_grid.sample_grid(sample_grid, traces, branches, nodes)\n",
    "    print(name)\n",
    "    print(f\"Ended {time.asctime()}\")"
   ]
    }
   ],
   "source": [
    "fig, axii = contour_grid.plot_results(sample_grid_results, traces)\n",
    "fig.savefig(\"results/imgs/2_5_m_grid.png\", dpi=250)"
   ]
  },
    }
   ],
   "source": [
    "trace_list, branch_list, node_list, name_list = contour_grid.get_layers_from_files()"
   ]
  },
  {
   "metadata": {},
   "outputs": [],
   "source": [
    "all_layers = contour_grid.get_all_layers(r\"data/Orrengrund.gdb\")"
   ]
  },
  {
   "metadata": {},
   "outputs": [],
   "source": [
    "topo_layers = contour_grid.get_all_layers(r\"data/Orrengrund_analysis.gdb\")"
   ]
  },
  {
   "metadata": {},
   "outputs": [],
   "source": [
    "sample_grid_10m = contour_grid.create_grid(2.5, og1_b)"
   ]
  },
  {
    }
   ],
   "source": [
    "contour_grid.plot_base(og1_b, sample_grid_10m)"
   ]
  },
  {
    }
   ],
   "source": [
    "sample_grid_10m_topo, EEs = contour_grid.sample_grid(sample_grid_10m, og1, og1_b, og1_n)"
   ]
  },
  {
    }
   ],
   "source": [
    "fig, axes = contour_grid.plot_results(sample_grid_10m_topo)\n",
    "plt.savefig(\"topos.png\", dpi=200, bbox_inches='tight')\n"
   ]
  },
