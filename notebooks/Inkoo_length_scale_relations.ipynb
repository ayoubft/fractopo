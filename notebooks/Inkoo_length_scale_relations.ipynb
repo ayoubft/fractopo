{
 "cells": [
  {
   "cell_type": "code",
   "execution_count": 1,
   "metadata": {},
   "outputs": [],
   "source": [
    "import sys\n",
    "from pathlib import Path\n",
    "sys.path.append(str(Path(\"..\").resolve()))"
   ]
  },
  {
   "cell_type": "code",
   "execution_count": 2,
   "metadata": {},
   "outputs": [
    {
     "name": "stderr",
     "output_type": "stream",
     "text": [
      "/home/nialov/.local/share/virtualenvs/fractopo-YImANkM_/lib/python3.8/site-packages/geopandas/_compat.py:84: UserWarning: The Shapely GEOS version (3.8.0-CAPI-1.13.1 ) is incompatible with the GEOS version PyGEOS was compiled with (3.8.1-CAPI-1.13.3). Conversions between both will be slow.\n",
      "  warnings.warn(\n"
     ]
    }
   ],
   "source": [
    "import geopandas as gpd\n",
    "from shapely.geometry import Polygon"
   ]
  },
  {
   "cell_type": "code",
   "execution_count": 3,
   "metadata": {},
   "outputs": [
    {
     "data": {
      "image/png": "[encoded data removed]",
      "text/plain": [
       "<Figure size 432x288 with 1 Axes>"
      ]
     },
     "metadata": {
      "needs_background": "light"
     },
     "output_type": "display_data"
    }
   ],
   "source": [
    "from fractopo import branches_and_nodes, contour_grid\n",
    "from fractopo.tval import executor\n",
    "from fractopo.analysis import main"
   ]
  },
  {
   "cell_type": "code",
   "execution_count": 4,
   "metadata": {},
   "outputs": [],
   "source": [
    "trace_data = [\"/mnt/f/Users/nikke/Documents/projects/Academic_projects/nordback_inkoo/data_final/Inkoo_Infinity_Lineaments_traces_validated_22102020.gpkg\"]\n",
    "area_data = [\"/mnt/f/Users/nikke/Documents/projects/Academic_projects/nordback_inkoo/data_final/Infinity_Kopparnas_area.gpkg\"]\n",
    "\n",
    "assert all([Path(filepath).exists() for filepath in trace_data+area_data])"
   ]
  },
  {
   "cell_type": "code",
   "execution_count": 5,
   "metadata": {},
   "outputs": [],
   "source": [
    "traces = [gpd.read_file(data_file).set_crs(\"EPSG:3067\", allow_override=True) for data_file in trace_data]\n",
    "areas = [gpd.read_file(data_file).set_crs(\"EPSG:3067\", allow_override=True) for data_file in area_data]\n",
    "\n",
    "# Each trace dataset must have a target area\n",
    "assert len(traces) == len(areas)"
   ]
  },
  {
   "cell_type": "code",
   "execution_count": 6,
   "metadata": {},
   "outputs": [
    {
     "name": "stdout",
     "output_type": "stream",
     "text": [
      "Loop :1\n"
     ]
    },
    {
     "name": "stderr",
     "output_type": "stream",
     "text": [
      "/home/nialov/nikke-projects/Pipenv_projects/fractopo/fractopo/branches_and_nodes.py:851: UserWarning: CRS mismatch between the CRS of left geometries and the CRS of right geometries.\n",
      "Use `to_crs()` to reproject one of the input geometries to match the CRS of the other.\n",
      "\n",
      "Left CRS: None\n",
      "Right CRS: EPSG:3067\n",
      "\n",
      "  clipped_traces = gpd.clip(traces, areas)\n"
     ]
    }
   ],
   "source": [
    "# Assign snap_threshold\n",
    "snap_threshold = 0.001\n",
    "\n",
    "# Generate branches and nodes for each trace dataset\n",
    "branches, nodes = zip(\n",
    "    *[branches_and_nodes.branches_and_nodes(trace, area, snap_threshold) for trace, area in zip(traces, areas)]\n",
    ")"
   ]
  },
  {
   "cell_type": "code",
   "execution_count": 7,
   "metadata": {},
   "outputs": [],
   "source": [
    "analysis_name = \"Inkoo_length_scale_relations\"\n",
    "results_folder = \"../dev/\""
   ]
  },
  {
   "cell_type": "code",
   "execution_count": 8,
   "metadata": {},
   "outputs": [],
   "source": [
    "# All datasets must have names\n",
    "names = [\"Inkoo_Inf\"]\n",
    "\n",
    "assert len(names) == len(traces) == len(areas) == len(branches) == len(nodes)\n",
    "\n",
    "# Each group must have defined cut offs for traces and branches\n",
    "groups = [\"Inf_Lin\"]\n",
    "\n",
    "cut_offs_traces = [1.8]\n",
    "cut_offs_branches = [1.6]\n",
    "\n",
    "# Assign group to each dataset\n",
    "datasets_grouped = [\"Inf_Lin\"]\n",
    "\n",
    "assert len(groups) == len(cut_offs_traces) == len(cut_offs_branches)\n",
    "assert len(names) == len(datasets_grouped)"
   ]
  },
  {
   "cell_type": "code",
   "execution_count": 9,
   "metadata": {},
   "outputs": [],
   "source": [
    "set_names = [\"1\", \"2\", \"3\"]\n",
    "set_limits = [\n",
    "    (0, 30),\n",
    "    (30, 90),\n",
    "    (90, 180),\n",
    "]\n",
    "\n",
    "length_set_names = [\"0-500\", \"500-1000\", \"1000-5000\", \"5000-10000\", \"10000-50000\", \"50000-Inf\", ]\n",
    "length_set_limits = [\n",
    "    (0, 500),\n",
    "    (500, 1000),\n",
    "    (1000, 5000),\n",
    "    (5000, 10000),\n",
    "    (10000, 50000),\n",
    "    (50000, 100000000),\n",
    "]\n",
    "\n",
    "assert len(set_names) == len(set_limits)\n",
    "assert len(length_set_names) == len(length_set_limits)"
   ]
  },
  {
   "cell_type": "code",
   "execution_count": 10,
   "metadata": {},
   "outputs": [],
   "source": [
    "# Choose which analyses to perform.\n",
    "choose_your_analyses = {\n",
    "    \"Branches\": True,\n",
    "    \"LengthDistributions\": True,\n",
    "    \"Azimuths\": True,\n",
    "    \"XYI\": True,\n",
    "    \"BranchClassification\": True,\n",
    "    \"Topology\": True,\n",
    "    \"Cross-cuttingAbutting\": True,\n",
    "    \"Anisotropy\": True,\n",
    "    \"Hexbin\": True,\n",
    "}"
   ]
  },
  {
   "cell_type": "code",
   "execution_count": 11,
   "metadata": {
    "scrolled": true
   },
   "outputs": [
    {
     "name": "stderr",
     "output_type": "stream",
     "text": [
      "28814-INFO-Analysis Statistics logfile initialized.\n"
     ]
    },
    {
     "name": "stdout",
     "output_type": "stream",
     "text": [
      "Automatic pdb calling has been turned ON\n",
      "Earlier plots exist. Overwriting old ones.\n"
     ]
    },
    {
     "name": "stderr",
     "output_type": "stream",
     "text": [
      "28814-INFO-Analysis Settings and Inputs\n",
      "28814-INFO------------------------------------\n",
      "28814-INFO-Layer table DataFrame:\n",
      "         Name    Group                                                                                                                                                                                                                                                                                                                                                                                                                                                                                                                                                                                                                                                                                                                                                                                                                                                                                                                                                                                                                                                                                                                                                                                                                                                                                                                                                                                                                                                                                                                                                                                                                                                                                                                                                                                                                                                                                                                                                                                                                                                                                                                                                                                                                                                                                                                                                                                                                                                                                                                                                                                                                                                                                                                                                                                                                                                                                                                                                                                                                                                                                                                                                                                                                                                                                                                                                                                                                                                                                                                                                                                                                                                                                                                                                                                                                                                                                                                                                                                                                                                                                                                                                                                                                                                                                                                                                                                                                                                                                                                                                                                                                                                                                                                                                                                                                                                                                                                                                                                                                                                                                                                                                                                                                                                                                                                                                                                                                                                                                                                                                                                                                                                                                                                                                                                                                                                                                                                                                                                                                                                                                                                                                                                                                                                                                                                                                                                                                                                                                                                                                                                                                                                                                                                                                                                                                                                                                                                                                                                                                                                                                                                                                                                                                                                                                                                                                                                                                                                                                                                                                                                                                                                                                                                                                                                                                                                                                                                                                                                                                                                                                                                                                                                                                                                                                                                                                                                                                                                                                                                                                                                                                                                                                                                                                                                                                                                                                                                                                                                                                                                                                                                                                                                                                                                                                                                                                                                                                                                                                                                                                                                                                                                                                                                                                                                                                                                                                                                                                                                                                                                                                                                                                                                                                                                                                                                                                                                                                                                                                                                                                                                                                                                                                                                                                                                                                                                                                                                                                                                                                                                                                                                                                                                                                                                                                                                                                                                                                                                                                                                                                                                                                                                                                                                                                                                                                                                                                                                                                                                                                                                                                                                                                                                                                                                                                                                                                                                                                                                                                                                                                                                                                                                                                                                                                                                                                                                                                                                                                                                                                                                                                                                                                                                                                                                                                                                                                                                                                                                                                                                                                                                                                                                                                                                                                                                                                                                                                                                                                                                                                                                                                                                                                                                                                                                                                                                                                                                                                                                                                                                                                                                                                                                                                                                                 traceframe                                                                                                                                                                                                                                                                                                                                                                                                                                                                                                                                                                                                                                                                                                                                                                                                                                                                                                                                                                                                     areaframe                                                                                                                                                                                                                                                                                                                                                                                                                                                                                                                                                                                                                                                                                                                                                                                                                                                                                                                                                                                                                                                                                                                                                                                                                                                                                                                                                                                                    branchframe                                                                                                                                                                                                                                                                                                                                                                                                                                                                                                                                                     nodeframe\n",
      "0  Inkoo_Inf  Inf_Lin        OBJECTID Lineament_ID     Lineament_Name Data_Source  \\\n",
      "0            1     Lidar_C2               None       LiDAR   \n",
      "1            2     Lidar_C3  Porkkala-Mäntsälä       LiDAR   \n",
      "2            3     Lidar_C5               None       LiDAR   \n",
      "3            4    Lidar_C17               None       LiDAR   \n",
      "4            5    Lidar_C26               None       LiDAR   \n",
      "...        ...          ...                ...         ...   \n",
      "1868      1897  Lidar_D2942               None       LiDAR   \n",
      "1869      1898  Lidar_D2943               None       LiDAR   \n",
      "1870      1899  Lidar_D2944               None       LiDAR   \n",
      "1871      1900  Lidar_D2945               None       LiDAR   \n",
      "1872      1901  Lidar_D2946               None       LiDAR   \n",
      "\n",
      "                          Scale         Certainty Geological_Type Observation  \\\n",
      "0               1:200 000/small  1_Geoph_OR_LiDAR            None        None   \n",
      "1     1:500 000/1:200 000/small  1_Geoph_OR_LiDAR      Shear_zone        None   \n",
      "2               1:200 000/small  1_Geoph_OR_LiDAR            None        None   \n",
      "3               1:200 000/small  1_Geoph_OR_LiDAR            None        None   \n",
      "4     1:500 000/1:200 000/small  1_Geoph_OR_LiDAR            None        None   \n",
      "...                         ...               ...             ...         ...   \n",
      "1868                      Small  1_Geoph_OR_LiDAR            None        None   \n",
      "1869                      Small  1_Geoph_OR_LiDAR            None        None   \n",
      "1870                      Small  1_Geoph_OR_LiDAR            None        None   \n",
      "1871                      Small  1_Geoph_OR_LiDAR            None        None   \n",
      "1872                      Small  1_Geoph_OR_LiDAR            None        None   \n",
      "\n",
      "     Remarks      Operator                 Date Structure_Name Fault_System  \\\n",
      "0       None   Nordbäck N.  2019-05-13T00:00:00           None         None   \n",
      "1       None   Nordbäck N.  2019-05-13T00:00:00           None         None   \n",
      "2       None   Nordbäck N.  2019-05-13T00:00:00           None         None   \n",
      "3       None   Nordbäck N.  2019-05-13T00:00:00           None         None   \n",
      "4       None   Nordbäck N.  2019-05-13T00:00:00           None         None   \n",
      "...      ...           ...                  ...            ...          ...   \n",
      "1868    None  Nordbäck. N.  2020-01-21T00:00:00           None         None   \n",
      "1869    None  Nordbäck. N.  2020-01-21T00:00:00           None         None   \n",
      "1870    None  Nordbäck. N.  2020-01-21T00:00:00           None         None   \n",
      "1871    None  Nordbäck. N.  2020-01-21T00:00:00           None         None   \n",
      "1872    None  Nordbäck. N.  2020-01-21T00:00:00           None         None   \n",
      "\n",
      "       SHAPE_Length  Fault No VALIDATION_ERRORS error_column_backup  \\\n",
      "0      36391.147432       1.0                []                  []   \n",
      "1     176918.559555       2.0                []                  []   \n",
      "2      41198.652703       3.0                []                  []   \n",
      "3      22266.196810       4.0                []                  []   \n",
      "4      34504.183908       5.0                []                  []   \n",
      "...             ...       ...               ...                 ...   \n",
      "1868    1407.312651    1870.0                []                  []   \n",
      "1869    1485.913459    1871.0                []                  []   \n",
      "1870     529.127944    1872.0                []                  []   \n",
      "1871    1466.898123    1873.0                []                  []   \n",
      "1872    5456.787681    1874.0                []                  []   \n",
      "\n",
      "                                                                                                                                                                                                                                                                                                                                                                                                                                                                                                                                                                                                                                                                                                                                                                                                                                                                                                         geometry  \n",
      "0                                                                                                                                                                                                                                                                                                                                                                                                                                                                                                                                                                                                                                                                                                                             LINESTRING (354809.495 6653524.443, 352797.311 6657357.014, 350942.701 6662443.039, 349909.637 6664639.921, 347268.799 6672436.681, 344226.085 6677331.482, 339128.696 6686196.339)  \n",
      "1     LINESTRING (330214.489 6618151.289, 332331.160 6624633.594, 342137.732 6641268.691, 346750.981 6648446.141, 350058.279 6655457.614, 353371.269 6661212.074, 363372.366 6670697.152, 365261.094 6672458.550, 366028.939 6673677.957, 367015.816 6674792.903, 368444.569 6675851.239, 370415.524 6677265.490, 375146.347 6681677.382, 376703.329 6683063.736, 378433.281 6685026.124, 384201.209 6689894.467, 387640.799 6693334.057, 390157.448 6696809.834, 392349.374 6700935.812, 394585.489 6705819.176, 398853.740 6711465.982, 400569.591 6714005.045, 401626.873 6714912.562, 403035.259 6717104.488, 405443.485 6720269.845, 408734.311 6724491.070, 409864.943 6726143.950, 410698.073 6728078.002, 412335.213 6731072.721, 414818.865 6735229.595, 417027.013 6742138.781, 417264.448 6749453.531, 417047.374 6755583.911, 417550.387 6757435.915, 417131.390 6760539.400, 417216.076 6765394.736)  \n",
      "2                                                                                                                                                                                                                                                                                                                                                                                                                                                                                                                                                                                                     LINESTRING (310122.712 6656419.634, 311715.629 6656646.073, 314605.077 6656863.193, 318838.093 6656788.895, 321764.437 6656937.249, 323110.488 6657520.263, 325209.406 6657810.242, 334208.194 6657265.557, 338229.868 6657120.036, 340564.821 6657039.338, 342136.449 6657007.588, 351126.044 6657312.256)  \n",
      "3                                                                                                                                                                                                                                                                                                                                                                                                                                                                                                                                                                                                                                                     LINESTRING (330803.324 6673821.315, 332391.193 6672701.976, 333627.353 6671765.299, 335406.191 6670611.183, 339650.765 6668146.951, 345565.972 6665521.484, 346862.889 6664952.106, 348286.335 6664082.223, 348947.507 6663917.974, 350413.077 6663569.322)  \n",
      "4                                                                                                                                                                                                                                                                                                                                                                                                                                                                             LINESTRING (340335.718 6661719.233, 341965.356 6663996.288, 342240.950 6664228.070, 342479.075 6664585.259, 342613.868 6665013.373, 343122.014 6666379.137, 344220.788 6667878.970, 344827.817 6668769.790, 345058.515 6669250.995, 345992.853 6672926.056, 347051.188 6675009.654, 348993.804 6678667.394, 349716.732 6680896.421, 350171.116 6684191.801, 350135.585 6687851.499, 349696.034 6691252.596, 349715.696 6693760.560)  \n",
      "...                                                                                                                                                                                                                                                                                                                                                                                                                                                                                                                                                                                                                                                                                                                                                                                                                                                                                                           ...  \n",
      "1868                                                                                                                                                                                                                                                                                                                                                                                                                                                                                                                                                                                                                                                                                                                                                                                                  LINESTRING (344545.614 6658200.840, 343918.550 6658076.486, 343418.487 6658007.694, 343155.226 6658009.017)  \n",
      "1869                                                                                                                                                                                                                                                                                                                                                                                                                                                                                                                                                                                                                                                                                                                                                                                                                          LINESTRING (339668.325 6665584.046, 340519.970 6666015.324, 340995.202 6666252.867)  \n",
      "1870                                                                                                                                                                                                                                                                                                                                                                                                                                                                                                                                                                                                                                                                                                                                                                                                                                                  LINESTRING (344203.541 6669165.504, 343829.184 6669539.448)  \n",
      "1871                                                                                                                                                                                                                                                                                                                                                                                                                                                                                                                                                                                                                                                                                                                                                                                                                          LINESTRING (342656.593 6667816.602, 341593.078 6668569.882, 341489.891 6668696.882)  \n",
      "1872                                                                                                                                                                                                                                                                                                                                                                                                                                                                                                                                                                                                                                                                                                                                                                                                  LINESTRING (337546.207 6671447.891, 336092.380 6672086.201, 334989.065 6672713.265, 332822.123 6674149.955)  \n",
      "\n",
      "[1873 rows x 18 columns]     OBJECTID  SHAPE_Length    SHAPE_Area  Sample_No_  \\\n",
      "0         1  82200.415492  4.896424e+08           1   \n",
      "\n",
      "                                                                                                                                                                                                                                                                                                                                                                                                                                    geometry  \n",
      "0  MULTIPOLYGON (((353260.339 6651174.066, 350686.314 6651914.935, 347238.974 6652907.167, 341773.073 6652212.044, 335839.780 6654305.563, 331990.084 6659104.453, 333359.306 6666244.910, 334351.496 6670048.303, 337724.940 6672363.412, 339940.830 6673388.674, 344967.923 6673818.623, 351086.425 6674447.010, 353566.899 6674050.134, 357337.219 6671281.925, 357899.459 6660136.330, 357006.489 6654546.996, 353260.339 6651174.066)))                                                                                     geometry  \\\n",
      "0                             LINESTRING (354809.495 6653524.443, 354620.988 6653883.491)   \n",
      "1                             LINESTRING (354620.988 6653883.491, 354379.452 6654343.539)   \n",
      "2                             LINESTRING (354379.452 6654343.539, 354146.502 6654787.236)   \n",
      "3                             LINESTRING (354146.502 6654787.236, 353909.965 6655237.762)   \n",
      "4                             LINESTRING (353909.965 6655237.762, 353610.158 6655808.800)   \n",
      "...                                                                                   ...   \n",
      "5838                          LINESTRING (339668.325 6665584.046, 339784.355 6665642.804)   \n",
      "5839  LINESTRING (339784.355 6665642.804, 340519.970 6666015.324, 340995.202 6666252.867)   \n",
      "5840                          LINESTRING (344203.541 6669165.504, 343829.184 6669539.448)   \n",
      "5841  LINESTRING (342656.593 6667816.602, 341593.078 6668569.882, 341489.891 6668696.882)   \n",
      "5842                          LINESTRING (337546.207 6671447.891, 336841.648 6671757.231)   \n",
      "\n",
      "     Connection  \n",
      "0         C - C  \n",
      "1         C - C  \n",
      "2         C - C  \n",
      "3         C - C  \n",
      "4         C - C  \n",
      "...         ...  \n",
      "5838      C - C  \n",
      "5839      C - C  \n",
      "5840      C - C  \n",
      "5841      C - I  \n",
      "5842      C - E  \n",
      "\n",
      "[5843 rows x 2 columns]                              geometry Class\n",
      "0     POINT (354620.988 6653883.491)     X\n",
      "1     POINT (353909.965 6655237.762)     Y\n",
      "2     POINT (354379.452 6654343.539)     X\n",
      "3     POINT (354809.495 6653524.443)     Y\n",
      "4     POINT (354146.502 6654787.236)     X\n",
      "...                              ...   ...\n",
      "7701  POINT (342873.444 6658290.798)     I\n",
      "7703  POINT (342852.277 6658031.506)     I\n",
      "7705  POINT (344545.614 6658200.840)     I\n",
      "7712  POINT (341489.891 6668696.882)     I\n",
      "7714  POINT (336841.648 6671757.231)     E\n",
      "\n",
      "[4728 rows x 2 columns]\n",
      "28814-INFO-Results folder:\n",
      " ../dev/\n",
      "28814-INFO-Analysis name:\n",
      " Inkoo_length_scale_relations\n",
      "28814-INFO-Group names and Cut-offs DataFrame:\n",
      "      Group  CutOffTraces  CutOffBranches\n",
      "0  Inf_Lin           1.8             1.6\n",
      "28814-INFO-Set DataFrame:\n",
      "   Set  SetLimits\n",
      "0   1    (0, 30)\n",
      "1   2   (30, 90)\n",
      "2   3  (90, 180)\n",
      "28814-INFO-Chosen analyses from config.py file:\n",
      " {'Branches': True, 'LengthDistributions': True, 'Azimuths': True, 'XYI': True, 'BranchClassification': True, 'Topology': True, 'Cross-cuttingAbutting': True, 'Anisotropy': True, 'Hexbin': True}\n",
      "/home/nialov/nikke-projects/Pipenv_projects/fractopo/fractopo/analysis/multiple_target_areas.py:1372: SettingWithCopyWarning: \n",
      "A value is trying to be set on a copy of a slice from a DataFrame\n",
      "\n",
      "See the caveats in the documentation: https://pandas.pydata.org/pandas-docs/stable/user_guide/indexing.html#returning-a-view-versus-a-copy\n",
      "  frame.topology[idx] = topoframe\n",
      "/home/nialov/.local/share/virtualenvs/fractopo-YImANkM_/lib/python3.8/site-packages/geopandas/geodataframe.py:853: SettingWithCopyWarning: \n",
      "A value is trying to be set on a copy of a slice from a DataFrame.\n",
      "Try using .loc[row_indexer,col_indexer] = value instead\n",
      "\n",
      "See the caveats in the documentation: https://pandas.pydata.org/pandas-docs/stable/user_guide/indexing.html#returning-a-view-versus-a-copy\n",
      "  super(GeoDataFrame, self).__setitem__(key, value)\n",
      "/home/nialov/nikke-projects/Pipenv_projects/fractopo/fractopo/analysis/multiple_target_areas.py:1372: SettingWithCopyWarning: \n",
      "A value is trying to be set on a copy of a slice from a DataFrame\n",
      "\n",
      "See the caveats in the documentation: https://pandas.pydata.org/pandas-docs/stable/user_guide/indexing.html#returning-a-view-versus-a-copy\n",
      "  frame.topology[idx] = topoframe\n",
      "Calculating best minimal value for power law fit\n",
      "/home/nialov/.local/share/virtualenvs/fractopo-YImANkM_/lib/python3.8/site-packages/powerlaw.py:699: RuntimeWarning: invalid value encountered in true_divide\n",
      "  (CDF_diff**2) /\n",
      "28814-WARNING-findfont: Font family ['Calibri'] not found. Falling back to DejaVu Sans.\n",
      "28814-WARNING-findfont: Font family ['Calibri'] not found. Falling back to DejaVu Sans.\n",
      "28814-WARNING-findfont: Font family ['Calibri'] not found. Falling back to DejaVu Sans.\n",
      "28814-WARNING-findfont: Font family ['Calibri'] not found. Falling back to DejaVu Sans.\n",
      "28814-WARNING-findfont: Font family ['Calibri'] not found. Falling back to DejaVu Sans.\n",
      "28814-INFO-Statistics for all length distribution power-law fit plot: \n",
      "MSLE: 8.256398306960676e-11, R_squared: -5.9706622924346675\n",
      "28814-WARNING-findfont: Font family ['Calibri'] not found. Falling back to DejaVu Sans.\n",
      "28814-WARNING-findfont: Font family ['Calibri'] not found. Falling back to DejaVu Sans.\n",
      "Calculating best minimal value for power law fit\n",
      "/home/nialov/.local/share/virtualenvs/fractopo-YImANkM_/lib/python3.8/site-packages/powerlaw.py:699: RuntimeWarning: invalid value encountered in true_divide\n",
      "  (CDF_diff**2) /\n",
      "28814-INFO-Statistics for grouped length distribution power-law fit plot: \n",
      "MSLE: 8.256398306960676e-11, R_squared: -5.9706622924346675\n",
      "28814-WARNING-findfont: Font family ['Calibri'] not found. Falling back to DejaVu Sans.\n",
      "28814-WARNING-findfont: Font family ['Calibri'] not found. Falling back to DejaVu Sans.\n",
      "28814-WARNING-findfont: Font family ['Calibri'] not found. Falling back to DejaVu Sans.\n",
      "28814-WARNING-findfont: Font family ['Calibri'] not found. Falling back to DejaVu Sans.\n",
      "28814-WARNING-findfont: Font family ['Calibri'] not found. Falling back to DejaVu Sans.\n",
      "28814-WARNING-findfont: Font family ['Calibri'] not found. Falling back to DejaVu Sans.\n",
      "28814-WARNING-findfont: Font family ['Calibri'] not found. Falling back to DejaVu Sans.\n",
      "28814-WARNING-findfont: Font family ['Calibri'] not found. Falling back to DejaVu Sans.\n",
      "28814-WARNING-findfont: Font family ['Calibri'] not found. Falling back to DejaVu Sans.\n",
      "28814-WARNING-findfont: Font family ['Calibri'] not found. Falling back to DejaVu Sans.\n",
      "28814-WARNING-findfont: Font family ['Calibri'] not found. Falling back to DejaVu Sans.\n",
      "28814-WARNING-findfont: Font family ['Calibri'] not found. Falling back to DejaVu Sans.\n",
      "28814-WARNING-findfont: Font family ['Calibri'] not found. Falling back to DejaVu Sans.\n",
      "Calculating best minimal value for power law fit\n",
      "/home/nialov/.local/share/virtualenvs/fractopo-YImANkM_/lib/python3.8/site-packages/powerlaw.py:699: RuntimeWarning: invalid value encountered in true_divide\n",
      "  (CDF_diff**2) /\n",
      "/home/nialov/.local/share/virtualenvs/fractopo-YImANkM_/lib/python3.8/site-packages/powerlaw.py:699: RuntimeWarning: divide by zero encountered in true_divide\n",
      "  (CDF_diff**2) /\n",
      "/home/nialov/.local/share/virtualenvs/fractopo-YImANkM_/lib/python3.8/site-packages/powerlaw.py:699: RuntimeWarning: divide by zero encountered in true_divide\n",
      "  (CDF_diff**2) /\n",
      "28814-INFO-Statistics for all length distribution power-law fit plot: \n",
      "MSLE: 1.0846547336072494e-12, R_squared: 0.11046914517963347\n",
      "Calculating best minimal value for power law fit\n",
      "/home/nialov/.local/share/virtualenvs/fractopo-YImANkM_/lib/python3.8/site-packages/powerlaw.py:699: RuntimeWarning: invalid value encountered in true_divide\n",
      "  (CDF_diff**2) /\n",
      "/home/nialov/.local/share/virtualenvs/fractopo-YImANkM_/lib/python3.8/site-packages/powerlaw.py:699: RuntimeWarning: divide by zero encountered in true_divide\n",
      "  (CDF_diff**2) /\n",
      "/home/nialov/.local/share/virtualenvs/fractopo-YImANkM_/lib/python3.8/site-packages/powerlaw.py:699: RuntimeWarning: divide by zero encountered in true_divide\n",
      "  (CDF_diff**2) /\n",
      "28814-INFO-Statistics for grouped length distribution power-law fit plot: \n",
      "MSLE: 1.0846547336072494e-12, R_squared: 0.11046914517963347\n",
      "28814-WARNING-findfont: Font family ['Calibri'] not found. Falling back to DejaVu Sans.\n"
     ]
    }
   ],
   "source": [
    "%pdb\n",
    "# Analyze trace, branch and node data\n",
    "main.analyze_datasets(\n",
    "    traces,\n",
    "    areas,\n",
    "    branches,\n",
    "    nodes,\n",
    "    names,\n",
    "    groups,\n",
    "    cut_offs_traces,\n",
    "    cut_offs_branches,\n",
    "    datasets_grouped,\n",
    "    set_names,\n",
    "    set_limits,\n",
    "    length_set_names,\n",
    "    length_set_limits,\n",
    "    analysis_name,\n",
    "    results_folder,\n",
    "    choose_your_analyses,\n",
    ")"
   ]
  },
  {
   "cell_type": "code",
   "execution_count": 12,
   "metadata": {},
   "outputs": [],
   "source": [
    "# Whether to run contour grid sampling or not\n",
    "# WARNING: Low cell_width with areally large datasets will have very long processing times.\n",
    "# Be careful when running with multiscale datasets.\n",
    "run_contour_sampling = False"
   ]
  },
  {
   "cell_type": "code",
   "execution_count": 13,
   "metadata": {},
   "outputs": [],
   "source": [
    "if run_contour_sampling:\n",
    "    # Assign cell_width\n",
    "    cell_width = 2.0\n",
    "\n",
    "    # Create sampled contour grids\n",
    "    sampled_grids = [\n",
    "        contour_grid.run_grid_sampling(\n",
    "            trace, branch, node, cell_width\n",
    "        ) for trace, branch, node in zip(traces, branches, nodes)\n",
    "    ]\n",
    "    # Save sampled contour grids\n",
    "    [sampled_grid.to_file(f\"{results_folder}plots_{analysis_name}/grid_{name}.gpkg\", driver=\"GPKG\") for sampled_grid, name in zip(sampled_grids, names)]"
   ]
  },
  {
   "cell_type": "code",
   "execution_count": null,
   "metadata": {},
   "outputs": [],
   "source": []
  },
  {
   "cell_type": "code",
   "execution_count": null,
   "metadata": {},
   "outputs": [],
   "source": []
  }
 ],
 "metadata": {
  "kernelspec": {
   "display_name": "Python 3",
   "language": "python",
   "name": "python3"
  },
  "language_info": {
   "codemirror_mode": {
    "name": "ipython",
    "version": 3
   },
   "file_extension": ".py",
   "mimetype": "text/x-python",
   "name": "python",
   "nbconvert_exporter": "python",
   "pygments_lexer": "ipython3",
   "version": "3.8.6"
  }
 },
 "nbformat": 4,
 "nbformat_minor": 4
}
