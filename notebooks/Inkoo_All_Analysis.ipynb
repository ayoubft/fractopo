{
 "cells": [
  {
   "cell_type": "code",
   "execution_count": null,
   "metadata": {},
   "outputs": [],
   "source": [
    "# fractopo not installed in the venv -> Use local fractopo dir directly.\n",
    "import sys\n",
    "from pathlib import Path\n",
    "sys.path.append(str(Path(\"..\").resolve()))"
   ]
  },
  {
   "cell_type": "code",
   "execution_count": 2,
   "metadata": {},
   "outputs": [
    {
     "name": "stderr",
     "output_type": "stream",
     "text": [
      "/home/nialov/.local/share/virtualenvs/fractopo-YImANkM_/lib/python3.8/site-packages/geopandas/_compat.py:84: UserWarning: The Shapely GEOS version (3.8.0-CAPI-1.13.1 ) is incompatible with the GEOS version PyGEOS was compiled with (3.8.1-CAPI-1.13.3). Conversions between both will be slow.\n",
      "  warnings.warn(\n"
     ]
    }
   ],
   "source": [
    "import geopandas as gpd\n",
    "from shapely.geometry import Polygon"
   ]
  },
  {
   "cell_type": "code",
   "execution_count": 3,
   "metadata": {},
   "outputs": [
    {
     "data": {
      "image/png": "[encoded data removed]",
      "text/plain": [
       "<Figure size 432x288 with 1 Axes>"
      ]
     },
     "metadata": {
      "needs_background": "light"
     },
     "output_type": "display_data"
    }
   ],
   "source": [
    "from fractopo import branches_and_nodes, contour_grid\n",
    "from fractopo.tval import executor\n",
    "from fractopo.analysis import main"
   ]
  },
  {
   "cell_type": "code",
   "execution_count": 4,
   "metadata": {},
   "outputs": [],
   "source": [
    "trace_data = [\n",
    "    \"/mnt/f/Users/nikke/Documents/projects/Academic_projects/nordback_inkoo/data_final/Detaildrone_all_traces_validated_22102020.gpkg\",\n",
    "    \"/mnt/f/Users/nikke/Documents/projects/Academic_projects/nordback_inkoo/data_final/Drone_all_traces_validated_22102020.gpkg\",\n",
    "    \"/mnt/f/Users/nikke/Documents/projects/Academic_projects/nordback_inkoo/data_final/Inkoo_Infinity_Lineaments_traces_validated_22102020.gpkg\",\n",
    "    \"/mnt/f/Users/nikke/Documents/projects/Academic_projects/nordback_inkoo/data_final/Inkoo_200_integratedlineaments_traces_validated_22102020.gpkg\",\n",
    "    \"/mnt/f/Users/nikke/Documents/projects/Academic_projects/nordback_inkoo/data_final/SFin_500_integratedlineaments_traces_validated_22102020.gpkg\",\n",
    "]\n",
    "area_data = [\n",
    "    \"/mnt/f/Users/nikke/Documents/projects/Academic_projects/nordback_inkoo/data_final/Detaildrone_merged_all_area.gpkg\",\n",
    "    \"/mnt/f/Users/nikke/Documents/projects/Academic_projects/nordback_inkoo/data_final/Drone_erased_area.gpkg\",\n",
    "    \"/mnt/f/Users/nikke/Documents/projects/Academic_projects/nordback_inkoo/data_final/Infinity_Kopparnas_area.gpkg\",\n",
    "    \"/mnt/f/Users/nikke/Documents/projects/Academic_projects/nordback_inkoo/data_final/Inkoo_200_2020_area.gpkg\",\n",
    "    \"/mnt/f/Users/nikke/Documents/projects/Academic_projects/nordback_inkoo/data_final/SFin_500_area.gpkg\",\n",
    "]"
   ]
  },
  {
   "cell_type": "code",
   "execution_count": 5,
   "metadata": {},
   "outputs": [],
   "source": [
    "traces = [gpd.read_file(data_file).set_crs(\"EPSG:3067\", allow_override=True) for data_file in trace_data]\n",
    "areas = [gpd.read_file(data_file).set_crs(\"EPSG:3067\", allow_override=True) for data_file in area_data]\n",
    "\n",
    "# Each trace dataset must have a target area\n",
    "assert len(traces) == len(areas)"
   ]
  },
  {
   "cell_type": "code",
   "execution_count": null,
   "metadata": {},
   "outputs": [
    {
     "name": "stdout",
     "output_type": "stream",
     "text": [
      "Loop :1\n"
     ]
    },
    {
     "name": "stderr",
     "output_type": "stream",
     "text": [
      "/home/nialov/nikke-projects/Pipenv_projects/fractopo/fractopo/branches_and_nodes.py:851: UserWarning: CRS mismatch between the CRS of left geometries and the CRS of right geometries.\n",
      "Use `to_crs()` to reproject one of the input geometries to match the CRS of the other.\n",
      "\n",
      "Left CRS: None\n",
      "Right CRS: EPSG:3067\n",
      "\n",
      "  clipped_traces = gpd.clip(traces, areas)\n"
     ]
    },
    {
     "name": "stdout",
     "output_type": "stream",
     "text": [
      "Loop :1\n"
     ]
    },
    {
     "name": "stderr",
     "output_type": "stream",
     "text": [
      "/home/nialov/nikke-projects/Pipenv_projects/fractopo/fractopo/branches_and_nodes.py:851: UserWarning: CRS mismatch between the CRS of left geometries and the CRS of right geometries.\n",
      "Use `to_crs()` to reproject one of the input geometries to match the CRS of the other.\n",
      "\n",
      "Left CRS: None\n",
      "Right CRS: EPSG:3067\n",
      "\n",
      "  clipped_traces = gpd.clip(traces, areas)\n"
     ]
    }
   ],
   "source": [
    "# Assign snap_threshold\n",
    "snap_threshold = 0.001\n",
    "\n",
    "# Generate branches and nodes for each trace dataset\n",
    "branches, nodes = zip(\n",
    "    *[branches_and_nodes.branches_and_nodes(trace, area, snap_threshold) for trace, area in zip(traces, areas)]\n",
    ")"
   ]
  },
  {
   "cell_type": "code",
   "execution_count": null,
   "metadata": {},
   "outputs": [],
   "source": [
    "analysis_name = \"Inkoo_Analysis_05112020\"\n",
    "results_folder = \"/mnt/f/Users/nikke/Documents/projects/Academic_projects/nordback_inkoo/dev_data/\""
   ]
  },
  {
   "cell_type": "code",
   "execution_count": null,
   "metadata": {},
   "outputs": [],
   "source": [
    "# All datasets must have names\n",
    "names = [\n",
    "    \"Detaildrone\",\n",
    "    \"Drone_20m\",\n",
    "    \"Infinity_lineaments\",\n",
    "    \"200k_lineaments\",\n",
    "    \"500k_lineaments\"\n",
    "]\n",
    "\n",
    "assert len(names) == len(traces) == len(areas) == len(branches) == len(nodes)\n",
    "\n",
    "# Each group must have defined cut offs for traces and branches\n",
    "groups = [\n",
    "    \"Inkoo\",\n",
    "]\n",
    "\n",
    "cut_offs_traces = [1.8]\n",
    "cut_offs_branches = [1.6]\n",
    "\n",
    "# Assign group to each dataset\n",
    "datasets_grouped = [\n",
    "    \"Inkoo\", \n",
    "    \"Inkoo\", \n",
    "    \"Inkoo\", \n",
    "    \"Inkoo\", \n",
    "    \"Inkoo\", \n",
    "]\n",
    "\n",
    "assert len(groups) == len(cut_offs_traces) == len(cut_offs_branches)\n",
    "assert len(names) == len(datasets_grouped)"
   ]
  },
  {
   "cell_type": "code",
   "execution_count": null,
   "metadata": {},
   "outputs": [],
   "source": [
    "set_names = [\"1\", \"2\", \"3\"]\n",
    "set_limits = [\n",
    "    (0, 30),\n",
    "    (30, 90),\n",
    "    (90, 180),\n",
    "]\n",
    "\n",
    "assert len(set_names) == len(set_limits)"
   ]
  },
  {
   "cell_type": "code",
   "execution_count": null,
   "metadata": {},
   "outputs": [],
   "source": [
    "# Choose which analyses to perform.\n",
    "choose_your_analyses = {\n",
    "    \"Branches\": True,\n",
    "    \"LengthDistributions\": True,\n",
    "    \"Azimuths\": True,\n",
    "    \"XYI\": True,\n",
    "    \"BranchClassification\": True,\n",
    "    \"Topology\": True,\n",
    "    \"Cross-cuttingAbutting\": True,\n",
    "    \"Anisotropy\": True,\n",
    "    \"Hexbin\": True,\n",
    "}"
   ]
  },
  {
   "cell_type": "code",
   "execution_count": null,
   "metadata": {
    "scrolled": true
   },
   "outputs": [],
   "source": [
    "# Analyze trace, branch and node data\n",
    "main.analyze_datasets(\n",
    "    traces,\n",
    "    areas,\n",
    "    branches,\n",
    "    nodes,\n",
    "    names,\n",
    "    groups,\n",
    "    cut_offs_traces,\n",
    "    cut_offs_branches,\n",
    "    datasets_grouped,\n",
    "    set_names,\n",
    "    set_limits,\n",
    "    analysis_name,\n",
    "    results_folder,\n",
    "    choose_your_analyses,\n",
    ")"
   ]
  },
  {
   "cell_type": "code",
   "execution_count": null,
   "metadata": {},
   "outputs": [],
   "source": [
    "# Whether to run grid sampling or not\n",
    "# WARNING: Low cell_width with areally large datasets will have very long processing times.\n",
    "# Be careful when running with multiscale datasets.\n",
    "run_grid_sampling = False"
   ]
  },
  {
   "cell_type": "code",
   "execution_count": null,
   "metadata": {},
   "outputs": [],
   "source": [
    "if run_grid_sampling:\n",
    "    # Assign cell_width\n",
    "    cell_width = 2.0\n",
    "\n",
    "    # Create sampled contour grids\n",
    "    sampled_grids = [\n",
    "        contour_grid.run_grid_sampling(\n",
    "            trace, branch, node, cell_width\n",
    "        ) for trace, branch, node in zip(traces, branches, nodes)\n",
    "    ]\n",
    "    # Save sampled contour grids\n",
    "    [sampled_grid.to_file(f\"{results_folder}plots_{analysis_name}/grid_{name}.gpkg\", driver=\"GPKG\") for sampled_grid, name in zip(sampled_grids, names)]"
   ]
  },
  {
   "cell_type": "code",
   "execution_count": null,
   "metadata": {},
   "outputs": [],
   "source": []
  },
  {
   "cell_type": "code",
   "execution_count": null,
   "metadata": {},
   "outputs": [],
   "source": []
  }
 ],
 "metadata": {
  "kernelspec": {
   "display_name": "Python 3",
   "language": "python",
   "name": "python3"
  },
  "language_info": {
   "codemirror_mode": {
    "name": "ipython",
    "version": 3
   },
   "file_extension": ".py",
   "mimetype": "text/x-python",
   "name": "python",
   "nbconvert_exporter": "python",
   "pygments_lexer": "ipython3",
   "version": "3.8.6"
  }
 },
 "nbformat": 4,
 "nbformat_minor": 4
}
