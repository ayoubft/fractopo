{
 "cells": [
  {
   "cell_type": "code",
   "execution_count": 1,
   "metadata": {},
   "outputs": [],
   "source": [
    "import sys\n",
    "sys.path.append(\"..\")"
   ]
  },
  {
   "cell_type": "code",
   "execution_count": 2,
   "metadata": {},
   "outputs": [
    {
     "name": "stderr",
     "output_type": "stream",
     "text": [
      "/home/nialov/.local/share/virtualenvs/fractopo-YImANkM_/lib/python3.8/site-packages/geopandas/_compat.py:84: UserWarning: The Shapely GEOS version (3.8.0-CAPI-1.13.1 ) is incompatible with the GEOS version PyGEOS was compiled with (3.8.1-CAPI-1.13.3). Conversions between both will be slow.\n",
      "  warnings.warn(\n"
     ]
    }
   ],
   "source": [
    "import geopandas as gpd\n",
    "from fractopo import branches_and_nodes\n",
    "from pathlib import Path\n",
    "import matplotlib.pyplot as plt\n",
    "from shapely.geometry import Polygon, LineString, Point, MultiLineString\n",
    "from tval import trace_validator, trace_builder"
   ]
  },
  {
   "cell_type": "code",
   "execution_count": 3,
   "metadata": {},
   "outputs": [
    {
     "name": "stderr",
     "output_type": "stream",
     "text": [
      "../fractopo/branches_and_nodes.py:237: FutureWarning: Generated spatial index is empty and returned `None`. Future versions of GeoPandas will return zero-length spatial index instead of `None`. Use `len(gdf.sindex) > 0` or `if gdf.sindex` instead of `if gd.sindex is not None` to check for empty spatial indexes.\n",
      "  node_spatial_index = gpd.GeoSeries([p.buffer(snap_threshold) for p in nodes]).sindex\n"
     ]
    },
    {
     "data": {
      "text/plain": [
       "0       LINESTRING (-2.00000 0.00000, 0.00000 0.00000)\n",
       "1        LINESTRING (0.00000 0.00000, 2.00000 0.00000)\n",
       "2       LINESTRING (0.00000 -2.00000, 0.00000 0.00000)\n",
       "3        LINESTRING (0.00000 0.00000, 0.00000 2.00000)\n",
       "4    LINESTRING (10.00000 -22.00000, 10.00000 -21.0...\n",
       "dtype: geometry"
      ]
     },
     "execution_count": 3,
     "metadata": {},
     "output_type": "execute_result"
    }
   ],
   "source": [
    "nodes = gpd.GeoSeries([\n",
    "    Point(0, 0), \n",
    "    Point(1,1), \n",
    "    Point(2, 2)\n",
    "])\n",
    "traces = gpd.GeoSeries([\n",
    "    LineString([(-2, 0), (2, 0)]),\n",
    "    LineString([(0, -2), (0, 2)]),\n",
    "    LineString([(10, -22), (10, -21)]),\n",
    "])\n",
    "\n",
    "node_identities = [\"X\", \"I\", \"I\"]\n",
    "snap_threshold = 0.001\n",
    "branches_and_nodes.split_traces_to_branches_with_traces(traces, nodes, node_identities, snap_threshold)"
   ]
  },
  {
   "cell_type": "code",
   "execution_count": 4,
   "metadata": {},
   "outputs": [
    {
     "data": {
      "text/plain": [
       "3"
      ]
     },
     "execution_count": 4,
     "metadata": {},
     "output_type": "execute_result"
    }
   ],
   "source": [
    "len(nodes)"
   ]
  },
  {
   "cell_type": "code",
   "execution_count": 5,
   "metadata": {},
   "outputs": [],
   "source": [
    "from shapely.ops import unary_union, split"
   ]
  },
  {
   "cell_type": "code",
   "execution_count": 12,
   "metadata": {},
   "outputs": [],
   "source": [
    "res = split(traces.iloc[0], MultiLineString([traces.loc[1]]))"
   ]
  },
  {
   "cell_type": "code",
   "execution_count": 13,
   "metadata": {},
   "outputs": [
    {
     "data": {
      "text/plain": [
       "'GEOMETRYCOLLECTION (LINESTRING (-2 0, 0 0), LINESTRING (0 0, 2 0))'"
      ]
     },
     "execution_count": 13,
     "metadata": {},
     "output_type": "execute_result"
    }
   ],
   "source": [
    "res.wkt"
   ]
  },
  {
   "cell_type": "code",
   "execution_count": 8,
   "metadata": {},
   "outputs": [],
   "source": [
    "l = [1, 1 ,3]"
   ]
  },
  {
   "cell_type": "code",
   "execution_count": 9,
   "metadata": {},
   "outputs": [],
   "source": [
    "l.extend([23 ,354,6546])"
   ]
  },
  {
   "cell_type": "code",
   "execution_count": 10,
   "metadata": {},
   "outputs": [
    {
     "data": {
      "text/plain": [
       "[1, 1, 3, 23, 354, 6546]"
      ]
     },
     "execution_count": 10,
     "metadata": {},
     "output_type": "execute_result"
    }
   ],
   "source": [
    "l"
   ]
  },
  {
   "cell_type": "code",
   "execution_count": null,
   "metadata": {},
   "outputs": [],
   "source": []
  }
 ],
 "metadata": {
  "kernelspec": {
   "display_name": "Python 3",
   "language": "python",
   "name": "python3"
  },
  "language_info": {
   "codemirror_mode": {
    "name": "ipython",
    "version": 3
   },
   "file_extension": ".py",
   "mimetype": "text/x-python",
   "name": "python",
   "nbconvert_exporter": "python",
   "pygments_lexer": "ipython3",
   "version": "3.8.5"
  }
 },
 "nbformat": 4,
 "nbformat_minor": 4
}
