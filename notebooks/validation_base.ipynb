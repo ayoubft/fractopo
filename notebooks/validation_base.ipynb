{
 "cells": [
  {
   "cell_type": "markdown",
   "metadata": {},
   "source": [
    "# Basic validation notebook. Duplicate for your use."
   ]
  },
  {
   "cell_type": "code",
   "execution_count": null,
   "metadata": {},
   "outputs": [],
   "source": [
    "# Importing tval is from the parent directory of notebooks. The parent is appended\n",
    "# to PYTHONPATH\n",
    "import os, sys\n",
    "sys.path.append(\"..\")"
   ]
  },
  {
   "cell_type": "code",
   "execution_count": 1,
   "metadata": {},
   "outputs": [
    {
     "name": "stderr",
     "output_type": "stream",
     "text": [
      "/home/nialov/.local/share/virtualenvs/trace-validator-GOA3psTM/lib/python3.8/site-packages/geopandas/_compat.py:84: UserWarning: The Shapely GEOS version (3.8.0-CAPI-1.13.1 ) is incompatible with the GEOS version PyGEOS was compiled with (3.8.1-CAPI-1.13.3). Conversions between both will be slow.\n",
      "  warnings.warn(\n"
     ]
    },
    {
     "ename": "ModuleNotFoundError",
     "evalue": "No module named 'tval'",
     "output_type": "error",
     "traceback": [
      "\u001b[0;31m---------------------------------------------------------------------------\u001b[0m",
      "\u001b[0;31mModuleNotFoundError\u001b[0m                       Traceback (most recent call last)",
      "\u001b[0;32m<ipython-input-1-9543b55a9361>\u001b[0m in \u001b[0;36m<module>\u001b[0;34m\u001b[0m\n\u001b[1;32m      2\u001b[0m \u001b[0;32mimport\u001b[0m \u001b[0mpathlib\u001b[0m\u001b[0;34m\u001b[0m\u001b[0;34m\u001b[0m\u001b[0m\n\u001b[1;32m      3\u001b[0m \u001b[0;32mimport\u001b[0m \u001b[0mgeopandas\u001b[0m \u001b[0;32mas\u001b[0m \u001b[0mgpd\u001b[0m\u001b[0;34m\u001b[0m\u001b[0;34m\u001b[0m\u001b[0m\n\u001b[0;32m----> 4\u001b[0;31m \u001b[0;32mfrom\u001b[0m \u001b[0mtval\u001b[0m \u001b[0;32mimport\u001b[0m \u001b[0mtrace_validator\u001b[0m\u001b[0;34m\u001b[0m\u001b[0;34m\u001b[0m\u001b[0m\n\u001b[0m\u001b[1;32m      5\u001b[0m \u001b[0;32mimport\u001b[0m \u001b[0mtime\u001b[0m\u001b[0;34m\u001b[0m\u001b[0;34m\u001b[0m\u001b[0m\n",
      "\u001b[0;31mModuleNotFoundError\u001b[0m: No module named 'tval'"
     ]
    }
   ],
   "source": [
    "from pathlib import Path\n",
    "import pathlib\n",
    "import geopandas as gpd\n",
    "from tval import trace_validator\n",
    "import time"
   ]
  },
  {
   "cell_type": "code",
   "execution_count": null,
   "metadata": {},
   "outputs": [],
   "source": [
    "# Setup snap thresholds here\n",
    "snap_threshold = 0.001\n",
    "snap_threshold_multiplier = 1.1\n",
    "area_edge_snap_multiplier = 5"
   ]
  },
  {
   "cell_type": "code",
   "execution_count": null,
   "metadata": {},
   "outputs": [],
   "source": [
    "trace_validator.BaseValidator.set_snap_threshold_and_multipliers(snap_threshold, snap_threshold_multiplier, area_edge_snap_multiplier)"
   ]
  },
  {
   "cell_type": "code",
   "execution_count": null,
   "metadata": {},
   "outputs": [],
   "source": [
    "# Add trace and area filepaths to traces and areas list\n",
    "traces = [\n",
    "    Path(\"\"),\n",
    "               ]\n",
    "areas = [\n",
    "    Path(\"\"), \n",
    "]\n",
    "\n",
    "# All files should exist\n",
    "assert all([p.exists() for p in traces+areas])"
   ]
  },
  {
   "cell_type": "code",
   "execution_count": null,
   "metadata": {},
   "outputs": [],
   "source": [
    "# For use after validation if debugging or further analysis is wanted\n",
    "gdfs = []\n",
    "\n",
    "print(f\"Validating with snap threshold: {snap_threshold} and multiplier: {snap_threshold_multiplier}\")\n",
    "for trace, area in zip(traces, areas):\n",
    "\n",
    "    print(f\"Validating {trace}\")\n",
    "    trace_gdf = gpd.read_file(trace, mode=\"r\")\n",
    "    # [print(t) if t.is_empty or t is None else \"\" for t in trace_gdf.geometry]\n",
    "    if trace_validator.BaseValidator.ERROR_COLUMN in trace_gdf.columns:\n",
    "        print(f\"Error column already in gdf. Old will be backed up ({trace})\")\n",
    "        trace_gdf[f\"error_column_backup\"] = trace_gdf[trace_validator.BaseValidator.ERROR_COLUMN]\n",
    "        trace_gdf[trace_validator.BaseValidator.ERROR_COLUMN] = [\n",
    "            [] for _ in trace_gdf.index\n",
    "        ]\n",
    "    area_gdf = gpd.read_file(area, mode=\"r\")\n",
    "    for validator in (\n",
    "    trace_validator.GeomNullValidator\n",
    "    , trace_validator.GeomTypeValidator\n",
    "    , trace_validator.MultiJunctionValidator\n",
    "    , trace_validator.VNodeValidator\n",
    "    , trace_validator.MultipleCrosscutValidator\n",
    "    , trace_validator.UnderlappingSnapValidator\n",
    "    , trace_validator.TargetAreaSnapValidator\n",
    "    ):\n",
    "        print(f\"Validating with {validator}\")\n",
    "        print(f\"Start time is {time.asctime()}\")\n",
    "        # change auto_fix here. By default True. Null geometries will be removed even if auto_fix is False\n",
    "        trace_gdf = validator.execute(trace_gdf, area_gdf, auto_fix=True, parallel=True)\n",
    "        gdfs.append(trace_gdf.copy())\n",
    "    # When saving to GPKG, validation error column is transformed to str type\n",
    "    trace_gdf.astype(\n",
    "        {trace_validator.BaseValidator.ERROR_COLUMN: 'str'}\n",
    "    ).to_file(\n",
    "        Path(f\"\"), driver=\"GPKG\"\n",
    "    )"
   ]
  }
 ],
 "metadata": {
  "kernelspec": {
   "display_name": "Python 3",
   "language": "python",
   "name": "python3"
  },
  "language_info": {
   "codemirror_mode": {
    "name": "ipython",
    "version": 3
   },
   "file_extension": ".py",
   "mimetype": "text/x-python",
   "name": "python",
   "nbconvert_exporter": "python",
   "pygments_lexer": "ipython3",
   "version": "3.8.5"
  }
 },
 "nbformat": 4,
 "nbformat_minor": 4
}
