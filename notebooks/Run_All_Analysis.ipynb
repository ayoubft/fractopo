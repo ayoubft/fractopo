{
 "cells": [
  {
   "cell_type": "code",
   "execution_count": 1,
   "metadata": {},
   "outputs": [],
   "source": [
    "import sys\n",
    "from pathlib import Path\n",
    "sys.path.append(str(Path(\"..\").resolve()))"
   ]
  },
  {
   "cell_type": "code",
   "execution_count": 2,
   "metadata": {},
   "outputs": [
    {
     "name": "stderr",
     "output_type": "stream",
     "text": [
      "/home/nialov/.local/share/virtualenvs/fractopo-YImANkM_/lib/python3.8/site-packages/geopandas/_compat.py:84: UserWarning: The Shapely GEOS version (3.8.0-CAPI-1.13.1 ) is incompatible with the GEOS version PyGEOS was compiled with (3.8.1-CAPI-1.13.3). Conversions between both will be slow.\n",
      "  warnings.warn(\n"
     ]
    }
   ],
   "source": [
    "import geopandas as gpd\n",
    "from shapely.geometry import Polygon"
   ]
  },
  {
   "cell_type": "code",
   "execution_count": 3,
   "metadata": {},
   "outputs": [
    {
     "data": {
      "image/png": "[encoded data removed]",
      "text/plain": [
       "<Figure size 432x288 with 1 Axes>"
      ]
     },
     "metadata": {
      "needs_background": "light"
     },
     "output_type": "display_data"
    }
   ],
   "source": [
    "from fractopo import branches_and_nodes, contour_grid\n",
    "from fractopo.tval import executor\n",
    "from fractopo.analysis import main"
   ]
  },
  {
   "cell_type": "code",
   "execution_count": 4,
   "metadata": {},
   "outputs": [],
   "source": [
    "trace_data = [\"../tests/sample_data/KB11_traces.shp\"]\n",
    "area_data = [\"../tests/sample_data/KB11_area.shp\"]"
   ]
  },
  {
   "cell_type": "code",
   "execution_count": 5,
   "metadata": {},
   "outputs": [
    {
     "name": "stderr",
     "output_type": "stream",
     "text": [
      "16350-INFO-Failed to auto identify EPSG: 7\n"
     ]
    }
   ],
   "source": [
    "traces = [gpd.read_file(data_file).set_crs(\"EPSG:3067\", allow_override=True) for data_file in trace_data]\n",
    "areas = [gpd.read_file(data_file).set_crs(\"EPSG:3067\", allow_override=True) for data_file in area_data]\n",
    "\n",
    "# Each trace dataset must have a target area\n",
    "assert len(traces) == len(areas)"
   ]
  },
  {
   "cell_type": "code",
   "execution_count": 6,
   "metadata": {},
   "outputs": [
    {
     "name": "stdout",
     "output_type": "stream",
     "text": [
      "Loop :1\n"
     ]
    },
    {
     "name": "stderr",
     "output_type": "stream",
     "text": [
      "/home/nialov/nikke-projects/Pipenv_projects/fractopo/fractopo/branches_and_nodes.py:851: UserWarning: CRS mismatch between the CRS of left geometries and the CRS of right geometries.\n",
      "Use `to_crs()` to reproject one of the input geometries to match the CRS of the other.\n",
      "\n",
      "Left CRS: None\n",
      "Right CRS: EPSG:3067\n",
      "\n",
      "  clipped_traces = gpd.clip(traces, areas)\n"
     ]
    }
   ],
   "source": [
    "# Assign snap_threshold\n",
    "snap_threshold = 0.001\n",
    "\n",
    "# Generate branches and nodes for each trace dataset\n",
    "branches, nodes = zip(\n",
    "    *[branches_and_nodes.branches_and_nodes(trace, area, snap_threshold) for trace, area in zip(traces, areas)]\n",
    ")"
   ]
  },
  {
   "cell_type": "code",
   "execution_count": 7,
   "metadata": {},
   "outputs": [],
   "source": [
    "analysis_name = \"KB11_sample\"\n",
    "results_folder = \"../dev/\""
   ]
  },
  {
   "cell_type": "code",
   "execution_count": 8,
   "metadata": {},
   "outputs": [],
   "source": [
    "# All datasets must have names\n",
    "names = [\"KB11\"]\n",
    "\n",
    "assert len(names) == len(traces) == len(areas) == len(branches) == len(nodes)\n",
    "\n",
    "# Each group must have defined cut offs for traces and branches\n",
    "groups = [\"KB\"]\n",
    "\n",
    "cut_offs_traces = [1.8]\n",
    "cut_offs_branches = [1.6]\n",
    "\n",
    "# Assign group to each dataset\n",
    "datasets_grouped = [\"KB\"]\n",
    "\n",
    "assert len(groups) == len(cut_offs_traces) == len(cut_offs_branches)\n",
    "assert len(names) == len(datasets_grouped)"
   ]
  },
  {
   "cell_type": "code",
   "execution_count": 9,
   "metadata": {},
   "outputs": [],
   "source": [
    "set_names = [\"1\", \"2\", \"3\"]\n",
    "set_limits = [\n",
    "    (0, 30),\n",
    "    (30, 90),\n",
    "    (90, 180),\n",
    "]\n",
    "\n",
    "assert len(set_names) == len(set_limits)"
   ]
  },
  {
   "cell_type": "code",
   "execution_count": 10,
   "metadata": {},
   "outputs": [],
   "source": [
    "# Choose which analyses to perform.\n",
    "choose_your_analyses = {\n",
    "    \"Branches\": True,\n",
    "    \"LengthDistributions\": True,\n",
    "    \"Azimuths\": True,\n",
    "    \"XYI\": True,\n",
    "    \"BranchClassification\": True,\n",
    "    \"Topology\": True,\n",
    "    \"Cross-cuttingAbutting\": True,\n",
    "    \"Anisotropy\": True,\n",
    "    \"Hexbin\": True,\n",
    "}"
   ]
  },
  {
   "cell_type": "code",
   "execution_count": 11,
   "metadata": {
    "scrolled": true
   },
   "outputs": [
    {
     "name": "stderr",
     "output_type": "stream",
     "text": [
      "16350-INFO-Analysis Statistics logfile initialized.\n",
      "16350-INFO-Analysis Settings and Inputs\n",
      "16350-INFO------------------------------------\n",
      "16350-INFO-Layer table DataFrame:\n",
      "    Name Group                                                                                                                                                                                                                                                                                                                                                                                                                                                                                                                                                                                                                                                                                                                                                                                                                                                                                                                                                                                                                                                                                                                                                                                                                                                                                                                                                                                                                                                                                                                                                                                                                                                                                                                                                                                                                                                                                                                                                                                                                                                                                                                                                                                                                                                                                                                                                                                                                                                                                                                                                                                                                                                                                                                                                                                                                                                                                                                                                                                                                                                                                                                                                                                                                                                                                                                                                                                                                                                                                                                                                                                                                                                                                                                                                                                                                                                                                                                                                                                                                                                                                                                                                                                                                                                                                                                                                                                                                                                                                                                                                                                                                                                                                                                                                                                                                                                                                                                                                                                                                                                                                                                                                                                                                                                                                                                                                                                                                                                                                                                                                                                                                                                                                                                                                                                                                                                                                                                                                                                                                                                                                                                                                                                                                                                                                                                                                                                                                                                                                                                                                                                                                                                                                                                                                                                                                                                                                                                                                                                                                                                                                                                                                                                                                                                                                                                                                                                                                                                                                                                                                                                                                                                                                                                                                                                                                                                                                                                                                                                                                                                                                                                                                                                                                                                                                                                                                                                                                                                                                                                                                                                                                                                                                                                                                                                                                                                                                                                                                                                                                                                                                                                                                                                                                                                                                                                                                                                                                                                                                                                                                                                                                                                                                                                                                                                                                                                                                                                                                                                                                                                                                                                                                                                                                                                                                                                                                                                                                                                                                                                                                                                                                                                                                                                                                                traceframe                                                                                                                                                                                                                                                                                                                                                                                                                                                                                                                                                                                                                                                                                                                                                                                                                                                                                                                                                                                                                                                                                                                                                                                                                                                                                                                                                                                                                                                                                                                                                                                                                                                                                                                                                                                                                                                                                                                                                                                                                                                                                                                                                                                                                                                                                                                                                                                                                                                                                                                                                                                                                                                                                                                                                                                                                                                                                                                                                                                                                                                                                                                                                                                                                                                                                                                                                                                                                                                                                                                                                                                                                                                                                                                                                                                                                                                                                                                                                                                                                                                                                                                                                                                                                                                                                                                                                                                                                                                                                                                                                                                                                                                                                                                                                                                                                                                                                                                                                                                                                                                                                                                                                                                                                                                                                                                                                                                                                                                                                                                                                                                                                                                                                                                                                                                                                                                                                                                                                                                                                                                                                                                                                                                                                                                                                                                                                                                                                                                                                                                                                                                                                                                                                                                                                                                                                                                                                                                                                                                                                                                                                                                                                                                                                                                                                                                                                                                                                                                                                                                                                                                                                                                                                                                                                                                                                                                                                                                                                                                                                                                                                                                                                                                                                                                                                                                                                                                                                                                                                                                                                                                                                                                                                                                                                                                                                                                                                                                                                                                                                                                                                                                                                                                                                                                                                                                                                                                                                                                                                                                                                                                                                                                                                                                                                                                                                                                                                                                                                                                                                                                                                                                                                                                                                                                                                                                                                                                                                                                                                                                                                                                                                                                                                                                                                                                                                                                                                                                                                                                                                                                                                                                                                                                                                                                                                                                                                                                                                                                                                                                                                 areaframe                                                                                                                                                                                                                                                                                                                                                                                                                                                                                                                                                                                                                                                                                                                                                                                                                                                                                                                                                                                                                                                                                                                                                                                                                                                                                                                                                                                                                                                                                                                                                                                                                                                                                                    branchframe                                                                                                                                                                                                                                                                                                                                                                                                                                                                                                                                                     nodeframe\n",
      "0  KB11    KB       Name  Shape_Leng  \\\n",
      "0    None   25.109633   \n",
      "1    None    1.855976   \n",
      "2    None    1.159473   \n",
      "3    None    0.429100   \n",
      "4    None   10.389636   \n",
      "..    ...         ...   \n",
      "703  None    0.500111   \n",
      "704  None    1.556659   \n",
      "705  None    0.808886   \n",
      "706  None    1.336329   \n",
      "707  None    0.593133   \n",
      "\n",
      "                                                                                                                                                                                                                                                                                                                                                                                                                                                                                                                                                                                                                                                                                                                                                                                                                                                        geometry  \n",
      "0    LINESTRING (466000.282 6691582.099, 466001.711 6691582.814, 466003.127 6691583.515, 466004.754 6691583.898, 466005.468 6691584.057, 466006.196 6691584.242, 466007.069 6691584.507, 466008.087 6691584.851, 466008.590 6691585.023, 466009.252 6691585.235, 466010.231 6691585.420, 466011.236 6691585.631, 466011.990 6691585.777, 466013.287 6691586.200, 466014.345 6691586.597, 466014.754 6691586.703, 466015.198 6691586.835, 466015.823 6691587.094, 466016.209 6691587.152, 466016.849 6691587.438, 466017.511 6691587.692, 466017.950 6691587.856, 466018.400 6691588.052, 466018.654 6691588.100, 466018.976 6691588.237, 466019.500 6691588.391, 466019.865 6691588.544, 466020.410 6691588.740, 466021.003 6691589.041, 466021.958 6691589.498, 466022.520 6691589.736, 466022.831 6691589.882, 466023.221 6691590.192, 466023.499 6691590.781)  \n",
      "1                                                                                                                                                                                                                                                                                                                                                                                                                                                                                                                                                                                                                                                                            LINESTRING (466003.127 6691583.515, 466003.291 6691583.385, 466003.497 6691582.829, 466003.632 6691582.460, 466003.660 6691582.282, 466003.644 6691582.040, 466003.584 6691581.809)  \n",
      "2                                                                                                                                                                                                                                                                                                                                                                                                                                                                                                                                                                                                                                                                                                    LINESTRING (466007.238 6691584.564, 466007.204 6691584.814, 466007.160 6691585.012, 466007.216 6691585.207, 466007.319 6691585.306, 466007.601 6691585.528)  \n",
      "3                                                                                                                                                                                                                                                                                                                                                                                                                                                                                                                                                                                                                                                                                                                                                    LINESTRING (466007.319 6691585.306, 466007.355 6691585.473, 466007.446 6691585.643, 466007.486 6691585.695)  \n",
      "4                                                                                                                                                                                                                                                                            LINESTRING (466005.679 6691583.032, 466005.922 6691582.821, 466006.148 6691582.460, 466006.374 6691582.004, 466006.509 6691581.805, 466006.620 6691581.409, 466006.680 6691581.139, 466006.751 6691580.797, 466006.854 6691580.484, 466006.981 6691580.182, 466007.212 6691579.563, 466007.398 6691579.242, 466007.601 6691578.515, 466007.767 6691577.984, 466008.232 6691577.285, 466008.577 6691576.670, 466009.069 6691575.987, 466009.208 6691575.884, 466009.327 6691575.547, 466009.398 6691575.340, 466009.752 6691574.999, 466010.220 6691574.427, 466010.518 6691574.039)  \n",
      "..                                                                                                                                                                                                                                                                                                                                                                                                                                                                                                                                                                                                                                                                                                                                                                                                                                                           ...  \n",
      "703                                                                                                                                                                                                                                                                                                                                                                                                                                                                                                                                                                                                                                                                                                                                                                          LINESTRING (466014.777 6691586.832, 466014.748 6691586.398, 466014.726 6691586.337)  \n",
      "704                                                                                                                                                                                                                                                                                                                                                                                                                                                                                                                                                                                                                                                                          LINESTRING (466022.098 6691577.933, 466022.194 6691577.964, 466022.325 6691578.019, 466022.563 6691578.003, 466022.821 6691578.039, 466023.480 6691577.960, 466023.630 6691577.960)  \n",
      "705                                                                                                                                                                                                                                                                                                                                                                                                                                                                                                                                                                                                                                                                                                                                                  LINESTRING (466021.381 6691579.312, 466021.654 6691579.460, 466021.979 6691579.515, 466022.146 6691579.539)  \n",
      "706                                                                                                                                                                                                                                                                                                                                                                                                                                                                                                                                                                                                                                                                                                  LINESTRING (466022.126 6691579.257, 466022.158 6691579.480, 466022.146 6691579.539, 466022.110 6691579.928, 466022.075 6691580.436, 466022.063 6691580.587)  \n",
      "707                                                                                                                                                                                                                                                                                                                                                                                                                                                                                                                                                                                                                                                                                                                                                  LINESTRING (466021.960 6691581.305, 466021.666 6691581.182, 466021.538 6691581.184, 466021.428 6691581.281)  \n",
      "\n",
      "[708 rows x 3 columns]     Name  Shape_Leng   Shape_Area  \\\n",
      "0  None  222.181419  1237.899041   \n",
      "\n",
      "                                                                                                                                                                                                                                                                                                                                                                                                                                                                                                                                                                                                                                                                                                                                                                                                                                                                                                                                                                                                                                                                                                                                                                                                                                                                                                                                                                                                                                                                                                                                                                                                                                                                                                                                                                                                                                                                                                                                                                                                                                                                                                                                                                                                                                                                                                                                                                                                                                                                                                                                                                                                                                                                                                                                                                                                                                                                                                                                                                                                                                                                                                                                                                                                                                                                                                                                                                                                                                                                                                                                                                                                                                                                                                                                                                                                                                                                                                                                                                                                                                                                                                                                                                                                                                                                                                                                                                                                                                                                                                                                                                                                                                                                                                                                                                                                                                                                                                                                                                                                                                                                                                                                                                                                                                                                                                                                                                                                                                                                                                                                                                                                                                                                                                                             geometry  \n",
      "0  POLYGON ((465993.935 6691596.802, 465995.036 6691598.617, 465996.486 6691599.802, 465998.031 6691599.527, 465999.902 6691599.101, 466000.878 6691596.796, 466001.069 6691597.103, 466000.942 6691597.844, 466001.757 6691598.289, 466001.979 6691599.474, 466002.122 6691600.670, 466002.777 6691601.126, 466003.484 6691601.056, 466004.007 6691601.444, 466005.428 6691601.552, 466007.028 6691601.500, 466008.468 6691601.448, 466010.056 6691601.429, 466011.048 6691602.264, 466012.859 6691602.109, 466015.229 6691601.167, 466016.552 6691600.903, 466016.901 6691600.500, 466017.536 6691599.696, 466017.907 6691598.500, 466018.118 6691597.537, 466018.288 6691596.892, 466018.563 6691596.436, 466019.304 6691596.225, 466019.187 6691594.912, 466018.775 6691594.659, 466019.293 6691593.685, 466020.182 6691594.119, 466020.955 6691594.394, 466020.786 6691594.838, 466020.881 6691595.537, 466020.754 6691595.992, 466020.807 6691596.648, 466021.071 6691596.839, 466021.262 6691597.146, 466020.965 6691597.368, 466021.569 6691597.728, 466021.272 6691598.267, 466021.569 6691598.543, 466021.664 6691599.008, 466021.505 6691599.347, 466021.505 6691599.770, 466021.759 6691599.961, 466021.664 6691600.098, 466022.193 6691600.500, 466022.616 6691600.490, 466022.881 6691600.606, 466023.167 6691600.426, 466023.929 6691600.056, 466024.680 6691601.178, 466024.934 6691601.749, 466024.902 6691602.130, 466024.659 6691602.966, 466024.839 6691603.369, 466024.426 6691603.771, 466025.252 6691606.311, 466025.633 6691606.110, 466026.172 6691605.760, 466026.680 6691605.475, 466027.252 6691605.284, 466028.014 6691604.755, 466028.543 6691604.141, 466028.681 6691603.591, 466028.660 6691602.956, 466028.787 6691602.681, 466029.464 6691602.511, 466029.760 6691602.331, 466030.342 6691601.686, 466031.009 6691601.315, 466031.189 6691600.977, 466031.591 6691600.395, 466031.951 6691600.363, 466032.067 6691600.088, 466032.184 6691599.897, 466032.014 6691599.495, 466032.353 6691599.220, 466032.575 6691599.199, 466032.946 6691599.347, 466033.126 6691599.357, 466033.263 6691599.114, 466033.464 6691598.670, 466034.015 6691598.765, 466034.057 6691598.606, 466034.184 6691598.320, 466034.724 6691598.151, 466035.274 6691597.706, 466035.803 6691596.849, 466035.920 6691596.447, 466035.973 6691596.193, 466036.142 6691595.950, 466036.078 6691595.791, 466036.343 6691595.579, 466036.629 6691595.389, 466036.692 6691594.902, 466036.523 6691594.606, 466036.989 6691593.473, 466037.285 6691592.552, 466038.177 6691590.716, 466033.858 6691592.101, 466031.191 6691593.107, 466031.017 6691591.547, 466033.077 6691587.215, 466038.976 6691589.072, 466039.105 6691588.806, 466040.269 6691587.483, 466040.767 6691584.985, 466041.518 6691585.080, 466045.540 6691581.186, 466044.397 6691580.762, 466045.127 6691579.641, 466046.101 6691580.011, 466047.138 6691579.651, 466047.974 6691579.217, 466048.620 6691577.556, 466048.122 6691577.037, 466046.852 6691576.423, 466047.265 6691575.503, 466046.344 6691574.508, 466044.132 6691573.735, 466043.730 6691573.545, 466043.360 6691573.185, 466042.693 6691572.317, 466042.248 6691571.216, 466041.698 6691569.735, 466040.957 6691568.825, 466039.613 6691568.877, 466039.582 6691567.660, 466038.989 6691566.496, 466038.195 6691565.470, 466037.804 6691564.612, 466035.941 6691563.395, 466034.152 6691562.908, 466031.686 6691563.289, 466030.162 6691563.311, 466027.845 6691563.628, 466026.807 6691563.935, 466025.093 6691564.358, 466023.886 6691564.507, 466022.447 6691565.343, 466021.442 6691565.766, 466020.277 6691566.761, 466019.283 6691567.459, 466018.563 6691568.338, 466017.865 6691568.814, 466017.060 6691568.994, 466016.605 6691568.740, 466016.309 6691569.428, 466015.928 6691570.020, 466015.695 6691570.602, 466016.023 6691570.666, 466015.981 6691570.962, 466016.150 6691571.153, 466015.727 6691571.566, 466014.425 6691571.534, 466013.906 6691572.486, 466014.097 6691572.751, 466013.589 6691574.000, 466013.896 6691574.084, 466013.324 6691574.984, 466012.509 6691574.804, 466010.869 6691574.391, 466010.054 6691575.968, 466009.673 6691576.519, 466009.334 6691576.974, 466008.742 6691578.095, 466008.265 6691578.699, 466008.604 6691579.334, 466008.297 6691579.969, 466007.323 6691578.985, 466006.911 6691580.064, 466006.519 6691580.138, 466006.011 6691579.895, 466005.461 6691580.360, 466005.167 6691581.125, 466004.797 6691581.667, 466004.347 6691582.091, 466004.440 6691582.792, 466005.022 6691583.202, 466005.379 6691583.057, 466006.040 6691583.004, 466005.577 6691583.321, 466005.961 6691583.520, 466005.643 6691583.810, 466003.831 6691583.453, 466003.778 6691582.051, 466002.667 6691582.977, 466002.535 6691583.546, 466002.521 6691584.181, 466003.117 6691585.186, 466004.043 6691586.126, 466003.791 6691587.158, 466003.566 6691587.978, 466003.566 6691588.454, 466003.355 6691588.467, 466002.984 6691589.142, 466002.720 6691589.380, 466002.601 6691590.134, 466003.222 6691590.346, 466003.249 6691590.743, 466003.156 6691591.232, 466003.103 6691591.801, 466003.077 6691592.251, 466002.852 6691592.515, 466002.601 6691592.648, 466002.548 6691592.925, 466002.495 6691593.058, 466002.455 6691593.375, 466002.124 6691593.521, 466001.741 6691593.732, 466001.529 6691594.209, 466001.317 6691594.328, 466000.722 6691594.301, 466000.246 6691594.222, 465999.426 6691593.574, 465998.764 6691592.291, 465998.235 6691590.161, 465997.772 6691590.094, 465997.269 6691589.962, 465997.044 6691590.174, 465996.423 6691590.346, 465996.568 6691590.994, 465995.351 6691590.875, 465994.729 6691593.785, 465993.935 6691596.802))                                                                                                             geometry  \\\n",
      "0                                                     LINESTRING (466002.602 6691583.255, 466003.127 6691583.515)   \n",
      "1     LINESTRING (466003.127 6691583.515, 466004.754 6691583.898, 466005.468 6691584.057, 466005.950 6691584.180)   \n",
      "2     LINESTRING (466005.950 6691584.180, 466006.196 6691584.242, 466007.069 6691584.507, 466007.238 6691584.564)   \n",
      "3                             LINESTRING (466007.238 6691584.564, 466008.087 6691584.851, 466008.087 6691584.851)   \n",
      "4                                                     LINESTRING (466008.087 6691584.851, 466008.138 6691584.868)   \n",
      "...                                                                                                           ...   \n",
      "2073  LINESTRING (466021.381 6691579.312, 466021.654 6691579.460, 466021.979 6691579.515, 466022.146 6691579.539)   \n",
      "2074                          LINESTRING (466022.126 6691579.257, 466022.158 6691579.480, 466022.146 6691579.539)   \n",
      "2075  LINESTRING (466022.146 6691579.539, 466022.110 6691579.928, 466022.075 6691580.436, 466022.063 6691580.587)   \n",
      "2076                          LINESTRING (466021.960 6691581.305, 466021.666 6691581.182, 466021.538 6691581.184)   \n",
      "2077                                                  LINESTRING (466021.538 6691581.184, 466021.428 6691581.281)   \n",
      "\n",
      "     Connection  \n",
      "0         C - E  \n",
      "1         C - C  \n",
      "2         C - C  \n",
      "3         C - C  \n",
      "4         C - C  \n",
      "...         ...  \n",
      "2073      C - C  \n",
      "2074      C - I  \n",
      "2075      C - I  \n",
      "2076      C - I  \n",
      "2077      C - I  \n",
      "\n",
      "[2078 rows x 2 columns]                              geometry Class\n",
      "0     POINT (466015.177 6691586.828)     Y\n",
      "1     POINT (466005.950 6691584.180)     X\n",
      "2     POINT (466003.127 6691583.515)     Y\n",
      "3     POINT (466010.231 6691585.420)     Y\n",
      "4     POINT (466014.584 6691586.659)     X\n",
      "...                              ...   ...\n",
      "2778  POINT (466022.146 6691579.539)     Y\n",
      "2780  POINT (466022.126 6691579.257)     I\n",
      "2781  POINT (466022.063 6691580.587)     I\n",
      "2783  POINT (466021.960 6691581.305)     I\n",
      "2784  POINT (466021.428 6691581.281)     I\n",
      "\n",
      "[1686 rows x 2 columns]\n",
      "16350-INFO-Results folder:\n",
      " ../dev/\n",
      "16350-INFO-Analysis name:\n",
      " KB11_sample\n",
      "16350-INFO-Group names and Cut-offs DataFrame:\n",
      "   Group  CutOffTraces  CutOffBranches\n",
      "0    KB           1.8             1.6\n",
      "16350-INFO-Set DataFrame:\n",
      "   Set  SetLimits\n",
      "0   1    (0, 30)\n",
      "1   2   (30, 90)\n",
      "2   3  (90, 180)\n",
      "16350-INFO-Chosen analyses from config.py file:\n",
      " {'Branches': True, 'LengthDistributions': True, 'Azimuths': True, 'XYI': True, 'BranchClassification': True, 'Topology': True, 'Cross-cuttingAbutting': True, 'Anisotropy': True, 'Hexbin': True}\n",
      "/home/nialov/.local/share/virtualenvs/fractopo-YImANkM_/lib/python3.8/site-packages/geopandas/geodataframe.py:853: SettingWithCopyWarning: \n",
      "A value is trying to be set on a copy of a slice from a DataFrame.\n",
      "Try using .loc[row_indexer,col_indexer] = value instead\n",
      "\n",
      "See the caveats in the documentation: https://pandas.pydata.org/pandas-docs/stable/user_guide/indexing.html#returning-a-view-versus-a-copy\n",
      "  super(GeoDataFrame, self).__setitem__(key, value)\n",
      "/home/nialov/nikke-projects/Pipenv_projects/fractopo/fractopo/analysis/multiple_target_areas.py:1364: SettingWithCopyWarning: \n",
      "A value is trying to be set on a copy of a slice from a DataFrame\n",
      "\n",
      "See the caveats in the documentation: https://pandas.pydata.org/pandas-docs/stable/user_guide/indexing.html#returning-a-view-versus-a-copy\n",
      "  frame.topology[idx] = topoframe\n",
      "/home/nialov/.local/share/virtualenvs/fractopo-YImANkM_/lib/python3.8/site-packages/geopandas/geodataframe.py:853: SettingWithCopyWarning: \n",
      "A value is trying to be set on a copy of a slice from a DataFrame.\n",
      "Try using .loc[row_indexer,col_indexer] = value instead\n",
      "\n",
      "See the caveats in the documentation: https://pandas.pydata.org/pandas-docs/stable/user_guide/indexing.html#returning-a-view-versus-a-copy\n",
      "  super(GeoDataFrame, self).__setitem__(key, value)\n",
      "/home/nialov/nikke-projects/Pipenv_projects/fractopo/fractopo/analysis/multiple_target_areas.py:1364: SettingWithCopyWarning: \n",
      "A value is trying to be set on a copy of a slice from a DataFrame\n",
      "\n",
      "See the caveats in the documentation: https://pandas.pydata.org/pandas-docs/stable/user_guide/indexing.html#returning-a-view-versus-a-copy\n",
      "  frame.topology[idx] = topoframe\n",
      "Calculating best minimal value for power law fit\n",
      "/home/nialov/.local/share/virtualenvs/fractopo-YImANkM_/lib/python3.8/site-packages/powerlaw.py:699: RuntimeWarning: invalid value encountered in true_divide\n",
      "  (CDF_diff**2) /\n",
      "16350-WARNING-findfont: Font family ['Calibri'] not found. Falling back to DejaVu Sans.\n",
      "16350-WARNING-findfont: Font family ['Calibri'] not found. Falling back to DejaVu Sans.\n",
      "16350-WARNING-findfont: Font family ['Calibri'] not found. Falling back to DejaVu Sans.\n",
      "16350-WARNING-findfont: Font family ['Calibri'] not found. Falling back to DejaVu Sans.\n",
      "16350-WARNING-findfont: Font family ['Calibri'] not found. Falling back to DejaVu Sans.\n",
      "16350-WARNING-findfont: Font family ['Calibri'] not found. Falling back to DejaVu Sans.\n",
      "16350-INFO-Statistics for all length distribution power-law fit plot: \n",
      "MSLE: 0.00032224319362371867, R_squared: 0.8519003604937583\n",
      "16350-WARNING-findfont: Font family ['Calibri'] not found. Falling back to DejaVu Sans.\n",
      "16350-WARNING-findfont: Font family ['Calibri'] not found. Falling back to DejaVu Sans.\n",
      "Calculating best minimal value for power law fit\n",
      "/home/nialov/.local/share/virtualenvs/fractopo-YImANkM_/lib/python3.8/site-packages/powerlaw.py:699: RuntimeWarning: invalid value encountered in true_divide\n",
      "  (CDF_diff**2) /\n",
      "16350-INFO-Statistics for grouped length distribution power-law fit plot: \n",
      "MSLE: 0.00032224319362371867, R_squared: 0.8519003604937583\n",
      "16350-WARNING-findfont: Font family ['Calibri'] not found. Falling back to DejaVu Sans.\n",
      "16350-WARNING-findfont: Font family ['Calibri'] not found. Falling back to DejaVu Sans.\n",
      "16350-WARNING-findfont: Font family ['Calibri'] not found. Falling back to DejaVu Sans.\n",
      "16350-WARNING-findfont: Font family ['Calibri'] not found. Falling back to DejaVu Sans.\n",
      "16350-WARNING-findfont: Font family ['Calibri'] not found. Falling back to DejaVu Sans.\n",
      "16350-WARNING-findfont: Font family ['Calibri'] not found. Falling back to DejaVu Sans.\n",
      "16350-WARNING-findfont: Font family ['Calibri'] not found. Falling back to DejaVu Sans.\n",
      "16350-WARNING-findfont: Font family ['Calibri'] not found. Falling back to DejaVu Sans.\n",
      "16350-WARNING-findfont: Font family ['Calibri'] not found. Falling back to DejaVu Sans.\n",
      "16350-WARNING-findfont: Font family ['Calibri'] not found. Falling back to DejaVu Sans.\n",
      "16350-WARNING-findfont: Font family ['Calibri'] not found. Falling back to DejaVu Sans.\n",
      "16350-WARNING-findfont: Font family ['Calibri'] not found. Falling back to DejaVu Sans.\n",
      "Calculating best minimal value for power law fit\n",
      "/home/nialov/.local/share/virtualenvs/fractopo-YImANkM_/lib/python3.8/site-packages/powerlaw.py:699: RuntimeWarning: invalid value encountered in true_divide\n",
      "  (CDF_diff**2) /\n",
      "16350-INFO-Statistics for all length distribution power-law fit plot: \n",
      "MSLE: 0.0003976109120293107, R_squared: 0.8455069675903589\n",
      "Calculating best minimal value for power law fit\n",
      "/home/nialov/.local/share/virtualenvs/fractopo-YImANkM_/lib/python3.8/site-packages/powerlaw.py:699: RuntimeWarning: invalid value encountered in true_divide\n",
      "  (CDF_diff**2) /\n",
      "16350-INFO-Statistics for grouped length distribution power-law fit plot: \n",
      "MSLE: 0.0003976109120293107, R_squared: 0.8455069675903589\n",
      "16350-WARNING-findfont: Font family ['Calibri'] not found. Falling back to DejaVu Sans.\n"
     ]
    }
   ],
   "source": [
    "# Analyze trace, branch and node data\n",
    "main.analyze_datasets(\n",
    "    traces,\n",
    "    areas,\n",
    "    branches,\n",
    "    nodes,\n",
    "    names,\n",
    "    groups,\n",
    "    cut_offs_traces,\n",
    "    cut_offs_branches,\n",
    "    datasets_grouped,\n",
    "    set_names,\n",
    "    set_limits,\n",
    "    analysis_name,\n",
    "    results_folder,\n",
    "    choose_your_analyses,\n",
    ")"
   ]
  },
  {
   "cell_type": "code",
   "execution_count": null,
   "metadata": {},
   "outputs": [],
   "source": [
    "# Whether to run contour grid sampling or not\n",
    "# WARNING: Low cell_width with areally large datasets will have very long processing times.\n",
    "# Be careful when running with multiscale datasets.\n",
    "run_contour_sampling = False"
   ]
  },
  {
   "cell_type": "code",
   "execution_count": 13,
   "metadata": {},
   "outputs": [],
   "source": [
    "if run_contour_sampling:\n",
    "    # Assign cell_width\n",
    "    cell_width = 2.0\n",
    "\n",
    "    # Create sampled contour grids\n",
    "    sampled_grids = [\n",
    "        contour_grid.run_grid_sampling(\n",
    "            trace, branch, node, cell_width\n",
    "        ) for trace, branch, node in zip(traces, branches, nodes)\n",
    "    ]\n",
    "    # Save sampled contour grids\n",
    "    [sampled_grid.to_file(f\"{results_folder}plots_{analysis_name}/grid_{name}.gpkg\", driver=\"GPKG\") for sampled_grid, name in zip(sampled_grids, names)]"
   ]
  },
  {
   "cell_type": "code",
   "execution_count": 14,
   "metadata": {},
   "outputs": [
    {
     "data": {
      "text/plain": [
       "[None]"
      ]
     },
     "execution_count": 14,
     "metadata": {},
     "output_type": "execute_result"
    }
   ],
   "source": []
  },
  {
   "cell_type": "code",
   "execution_count": null,
   "metadata": {},
   "outputs": [],
   "source": []
  }
 ],
 "metadata": {
  "kernelspec": {
   "display_name": "Python 3",
   "language": "python",
   "name": "python3"
  },
  "language_info": {
   "codemirror_mode": {
    "name": "ipython",
    "version": 3
   },
   "file_extension": ".py",
   "mimetype": "text/x-python",
   "name": "python",
   "nbconvert_exporter": "python",
   "pygments_lexer": "ipython3",
   "version": "3.8.6"
  }
 },
 "nbformat": 4,
 "nbformat_minor": 4
}
