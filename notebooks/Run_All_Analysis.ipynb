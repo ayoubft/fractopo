{
 "cells": [
  {
   "cell_type": "code",
   "execution_count": null,
   "metadata": {},
   "outputs": [],
   "source": [
    "import sys\n",
    "from pathlib import Path\n",
    "sys.path.append(str(Path(\"..\").resolve()))"
   ]
  },
  {
   "cell_type": "code",
   "execution_count": null,
   "metadata": {},
   "outputs": [],
   "source": [
    "import geopandas as gpd\n",
    "from shapely.geometry import Polygon"
   ]
  },
  {
   "cell_type": "code",
   "execution_count": null,
   "metadata": {},
   "outputs": [],
   "source": [
    "from fractopo import branches_and_nodes, contour_grid\n",
    "from fractopo.tval import executor\n",
    "from fractopo.analysis import main"
   ]
  },
  {
   "cell_type": "code",
   "execution_count": null,
   "metadata": {},
   "outputs": [],
   "source": [
    "trace_data = [\"../tests/sample_data/KB11_traces.shp\"]\n",
    "area_data = [\"../tests/sample_data/KB11_area.shp\"]\n",
    "\n",
    "assert all([Path(filepath).exists() for filepath in trace_data+area_data])"
   ]
  },
  {
   "cell_type": "code",
   "execution_count": null,
   "metadata": {},
   "outputs": [],
   "source": [
    "traces = [gpd.read_file(data_file).set_crs(\"EPSG:3067\", allow_override=True) for data_file in trace_data]\n",
    "areas = [gpd.read_file(data_file).set_crs(\"EPSG:3067\", allow_override=True) for data_file in area_data]\n",
    "\n",
    "# Each trace dataset must have a target area\n",
    "assert len(traces) == len(areas)"
   ]
  },
  {
   "cell_type": "code",
   "execution_count": null,
   "metadata": {},
   "outputs": [],
   "source": [
    "# Assign snap_threshold\n",
    "snap_threshold = 0.001\n",
    "\n",
    "# Generate branches and nodes for each trace dataset\n",
    "branches, nodes = zip(\n",
    "    *[branches_and_nodes.branches_and_nodes(trace, area, snap_threshold) for trace, area in zip(traces, areas)]\n",
    ")"
   ]
  },
  {
   "cell_type": "code",
   "execution_count": null,
   "metadata": {},
   "outputs": [],
   "source": [
    "analysis_name = \"KB11_sample\"\n",
    "results_folder = \"../dev/\""
   ]
  },
  {
   "cell_type": "code",
   "execution_count": null,
   "metadata": {},
   "outputs": [],
   "source": [
    "# All datasets must have names\n",
    "names = [\"KB11\"]\n",
    "\n",
    "assert len(names) == len(traces) == len(areas) == len(branches) == len(nodes)\n",
    "\n",
    "# Each group must have defined cut offs for traces and branches\n",
    "groups = [\"KB\"]\n",
    "\n",
    "cut_offs_traces = [1.8]\n",
    "cut_offs_branches = [1.6]\n",
    "\n",
    "# Assign group to each dataset\n",
    "datasets_grouped = [\"KB\"]\n",
    "\n",
    "assert len(groups) == len(cut_offs_traces) == len(cut_offs_branches)\n",
    "assert len(names) == len(datasets_grouped)"
   ]
  },
  {
   "cell_type": "code",
   "execution_count": null,
   "metadata": {},
   "outputs": [],
   "source": [
    "set_names = [\"1\", \"2\", \"3\"]\n",
    "set_limits = [\n",
    "    (0, 30),\n",
    "    (30, 90),\n",
    "    (90, 180),\n",
    "]\n",
    "\n",
    "length_set_names = [\"0-5\", \"5-10\", \"15-10000\"]\n",
    "length_set_limits = [\n",
    "    (0, 5),\n",
    "    (5, 10),\n",
    "    (15, 10000),\n",
    "]\n",
    "\n",
    "assert len(set_names) == len(set_limits)\n",
    "assert len(length_set_names) == len(length_set_limits)"
   ]
  },
  {
   "cell_type": "code",
   "execution_count": null,
   "metadata": {},
   "outputs": [],
   "source": [
    "# Choose which analyses to perform.\n",
    "choose_your_analyses = {\n",
    "    \"Branches\": True,\n",
    "    \"LengthDistributions\": True,\n",
    "    \"Azimuths\": True,\n",
    "    \"XYI\": True,\n",
    "    \"BranchClassification\": True,\n",
    "    \"Topology\": True,\n",
    "    \"Cross-cuttingAbutting\": True,\n",
    "    \"Anisotropy\": True,\n",
    "    \"Hexbin\": True,\n",
    "}"
   ]
  },
  {
   "cell_type": "code",
   "execution_count": null,
   "metadata": {
    "scrolled": true
   },
   "outputs": [],
   "source": [
    "# Analyze trace, branch and node data\n",
    "main.analyze_datasets(\n",
    "    traces,\n",
    "    areas,\n",
    "    branches,\n",
    "    nodes,\n",
    "    names,\n",
    "    groups,\n",
    "    cut_offs_traces,\n",
    "    cut_offs_branches,\n",
    "    datasets_grouped,\n",
    "    set_names,\n",
    "    set_limits,\n",
    "    length_set_names,\n",
    "    length_set_limits,\n",
    "    analysis_name,\n",
    "    results_folder,\n",
    "    choose_your_analyses,\n",
    ")"
   ]
  },
  {
   "cell_type": "code",
   "execution_count": null,
   "metadata": {},
   "outputs": [],
   "source": [
    "# Whether to run contour grid sampling or not\n",
    "# WARNING: Low cell_width with areally large datasets will have very long processing times.\n",
    "# Be careful when running with multiscale datasets.\n",
    "run_contour_sampling = False"
   ]
  },
  {
   "cell_type": "code",
   "execution_count": null,
   "metadata": {},
   "outputs": [],
   "source": [
    "if run_contour_sampling:\n",
    "    # Assign cell_width\n",
    "    cell_width = 2.0\n",
    "\n",
    "    # Create sampled contour grids\n",
    "    sampled_grids = [\n",
    "        contour_grid.run_grid_sampling(\n",
    "            trace, branch, node, cell_width\n",
    "        ) for trace, branch, node in zip(traces, branches, nodes)\n",
    "    ]\n",
    "    # Save sampled contour grids\n",
    "    [sampled_grid.to_file(f\"{results_folder}plots_{analysis_name}/grid_{name}.gpkg\", driver=\"GPKG\") for sampled_grid, name in zip(sampled_grids, names)]"
   ]
  },
  {
   "cell_type": "code",
   "execution_count": null,
   "metadata": {},
   "outputs": [],
   "source": []
  },
  {
   "cell_type": "code",
   "execution_count": null,
   "metadata": {},
   "outputs": [],
   "source": []
  }
 ],
 "metadata": {
  "kernelspec": {
   "display_name": "Python 3",
   "language": "python",
   "name": "python3"
  },
  "language_info": {
   "codemirror_mode": {
    "name": "ipython",
    "version": 3
   },
   "file_extension": ".py",
   "mimetype": "text/x-python",
   "name": "python",
   "nbconvert_exporter": "python",
   "pygments_lexer": "ipython3",
   "version": "3.8.6"
  }
 },
 "nbformat": 4,
 "nbformat_minor": 4
}
