{
 "cells": [
  {
   "cell_type": "code",
   "execution_count": 1,
   "metadata": {},
   "outputs": [],
   "source": [
    "from pathlib import Path\n",
    "import pathlib\n",
    "import geopandas as gpd\n",
    "from tval import trace_validator\n",
    "import time"
   ]
  },
  {
   "cell_type": "code",
   "execution_count": 2,
   "metadata": {},
   "outputs": [],
   "source": [
    "trace_validator.BaseValidator.set_snap_threshold_and_multiplier(0.001, 1.1)"
   ]
  },
  {
   "cell_type": "code",
   "execution_count": null,
   "metadata": {},
   "outputs": [
    {
     "name": "stdout",
     "output_type": "stream",
     "text": [
      "Validating tests/sample_data/Orrengrund/OG5_fractures.gpkg\n",
      "Validating with <class 'tval.trace_validator.GeomTypeValidator'>\n",
      "Start time is Wed Aug 19 08:27:41 2020\n",
      "Validating with <class 'tval.trace_validator.MultiJunctionValidator'>\n",
      "Start time is Wed Aug 19 08:27:41 2020\n",
      "Validating with <class 'tval.trace_validator.VNodeValidator'>\n",
      "Start time is Wed Aug 19 08:53:21 2020\n",
      "Validating with <class 'tval.trace_validator.MultipleCrosscutValidator'>\n",
      "Start time is Wed Aug 19 09:18:08 2020\n",
      "Validating with <class 'tval.trace_validator.UnderlappingSnapValidator'>\n",
      "Start time is Wed Aug 19 09:42:50 2020\n",
      "Validating tests/sample_data/Orrengrund/OG1_tulkinta.gpkg\n",
      "Validating with <class 'tval.trace_validator.GeomTypeValidator'>\n",
      "Start time is Wed Aug 19 09:42:50 2020\n",
      "Validating with <class 'tval.trace_validator.MultiJunctionValidator'>\n",
      "Start time is Wed Aug 19 09:42:51 2020\n",
      "Validating with <class 'tval.trace_validator.VNodeValidator'>\n",
      "Start time is Wed Aug 19 09:50:36 2020\n",
      "Validating with <class 'tval.trace_validator.MultipleCrosscutValidator'>\n",
      "Start time is Wed Aug 19 09:58:04 2020\n",
      "Validating with <class 'tval.trace_validator.UnderlappingSnapValidator'>\n",
      "Start time is Wed Aug 19 10:05:42 2020\n",
      "Validating tests/sample_data/Orrengrund/OG2_tulkinta.gpkg\n",
      "Validating with <class 'tval.trace_validator.GeomTypeValidator'>\n",
      "Start time is Wed Aug 19 10:05:42 2020\n",
      "Validating with <class 'tval.trace_validator.MultiJunctionValidator'>\n",
      "Start time is Wed Aug 19 10:05:43 2020\n",
      "Validating with <class 'tval.trace_validator.VNodeValidator'>\n",
      "Start time is Wed Aug 19 10:12:47 2020\n",
      "Validating with <class 'tval.trace_validator.MultipleCrosscutValidator'>\n",
      "Start time is Wed Aug 19 10:19:42 2020\n",
      "Validating with <class 'tval.trace_validator.UnderlappingSnapValidator'>\n",
      "Start time is Wed Aug 19 10:26:41 2020\n",
      "Validating tests/sample_data/Orrengrund/OG4_fractures_ML.gpkg\n",
      "Validating with <class 'tval.trace_validator.GeomTypeValidator'>\n",
      "Start time is Wed Aug 19 10:26:42 2020\n",
      "Validating with <class 'tval.trace_validator.MultiJunctionValidator'>\n",
      "Start time is Wed Aug 19 10:26:43 2020\n",
      "Validating with <class 'tval.trace_validator.VNodeValidator'>\n",
      "Start time is Wed Aug 19 11:48:06 2020\n",
      "Validating with <class 'tval.trace_validator.MultipleCrosscutValidator'>\n",
      "Start time is Wed Aug 19 13:05:22 2020\n",
      "Validating with <class 'tval.trace_validator.UnderlappingSnapValidator'>\n",
      "Start time is Wed Aug 19 14:24:02 2020\n",
      "Validating tests/sample_data/Orrengrund/OG6_fractures_HW.gpkg\n",
      "Validating with <class 'tval.trace_validator.GeomTypeValidator'>\n",
      "Start time is Wed Aug 19 14:24:03 2020\n",
      "Validating with <class 'tval.trace_validator.MultiJunctionValidator'>\n",
      "Start time is Wed Aug 19 14:24:04 2020\n",
      "Validating with <class 'tval.trace_validator.VNodeValidator'>\n",
      "Start time is Wed Aug 19 14:33:34 2020\n",
      "Validating with <class 'tval.trace_validator.MultipleCrosscutValidator'>\n",
      "Start time is Wed Aug 19 14:42:26 2020\n",
      "Validating with <class 'tval.trace_validator.UnderlappingSnapValidator'>\n",
      "Start time is Wed Aug 19 14:51:29 2020\n",
      "Validating tests/sample_data/Orrengrund/BS_20m_HW.gpkg\n",
      "Validating with <class 'tval.trace_validator.GeomTypeValidator'>\n",
      "Start time is Wed Aug 19 14:51:30 2020\n",
      "Validating with <class 'tval.trace_validator.MultiJunctionValidator'>\n",
      "Start time is Wed Aug 19 14:51:31 2020\n",
      "Validating with <class 'tval.trace_validator.VNodeValidator'>\n",
      "Start time is Wed Aug 19 18:32:54 2020\n",
      "Validating with <class 'tval.trace_validator.MultipleCrosscutValidator'>\n",
      "Start time is Wed Aug 19 22:06:35 2020\n"
     ]
    }
   ],
   "source": [
    "gdfs = []\n",
    "for dataset in [f for f in Path().glob(\"tests/sample_data/Orrengrund/*.gpkg\")]:\n",
    "    print(f\"Validating {dataset}\")\n",
    "    gdf = gpd.read_file(dataset)\n",
    "    for validator in (\n",
    "    trace_validator.GeomTypeValidator\n",
    "    , trace_validator.MultiJunctionValidator\n",
    "    , trace_validator.VNodeValidator\n",
    "    , trace_validator.MultipleCrosscutValidator\n",
    "                  , trace_validator.UnderlappingSnapValidator\n",
    "    ):\n",
    "        print(f\"Validating with {validator}\")\n",
    "        print(f\"Start time is {time.asctime()}\")\n",
    "        gdf = validator.execute(gdf, auto_fix=False)\n",
    "        gdfs.append(gdf.copy())\n",
    "        gdf.astype(\n",
    "            {trace_validator.BaseValidator.ERROR_COLUMN: 'str'}\n",
    "        ).to_file(\n",
    "            Path(f\"dev/{dataset.stem}_validated.gpkg\"), driver=\"GPKG\"\n",
    "        )"
   ]
  },
  {
   "cell_type": "code",
   "execution_count": null,
   "metadata": {},
   "outputs": [],
   "source": [
    "dataset.name"
   ]
  },
  {
   "cell_type": "code",
   "execution_count": null,
   "metadata": {},
   "outputs": [],
   "source": [
    "# [val for val in gdf.VALIDATION_ERRORS if len(val) > 0]"
   ]
  },
  {
   "cell_type": "code",
   "execution_count": null,
   "metadata": {},
   "outputs": [],
   "source": [
    "# gdf.astype({trace_validator.BaseValidator.ERROR_COLUMN: 'str'}).to_file(Path(\"dev/kb11_validated.gpkg\"), driver=\"GPKG\")"
   ]
  },
  {
   "cell_type": "code",
   "execution_count": null,
   "metadata": {},
   "outputs": [],
   "source": []
  }
 ],
 "metadata": {
  "kernelspec": {
   "display_name": "Python 3",
   "language": "python",
   "name": "python3"
  },
  "language_info": {
   "codemirror_mode": {
    "name": "ipython",
    "version": 3
   },
   "file_extension": ".py",
   "mimetype": "text/x-python",
   "name": "python",
   "nbconvert_exporter": "python",
   "pygments_lexer": "ipython3",
   "version": "3.8.5"
  }
 },
 "nbformat": 4,
 "nbformat_minor": 4
}
