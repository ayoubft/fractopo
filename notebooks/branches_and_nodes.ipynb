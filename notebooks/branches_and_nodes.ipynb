{
 "cells": [
  {
   "cell_type": "code",
   "execution_count": 1,
   "metadata": {},
   "outputs": [
    {
     "name": "stderr",
     "output_type": "stream",
     "text": [
      "/home/nialov/.local/share/virtualenvs/trace-validator-GOA3psTM/lib/python3.8/site-packages/geopandas/_compat.py:84: UserWarning: The Shapely GEOS version (3.8.0-CAPI-1.13.1 ) is incompatible with the GEOS version PyGEOS was compiled with (3.8.1-CAPI-1.13.3). Conversions between both will be slow.\n",
      "  warnings.warn(\n"
     ]
    }
   ],
   "source": [
    "import tval\n",
    "from tval import trace_validator, trace_builder\n",
    "import geopandas as gpd\n",
    "import shapely\n",
    "from shapely.geometry import LineString, Point, MultiPoint\n",
    "from shapely.ops import snap, split\n",
    "import shapely\n",
    "import pandas as pd\n",
    "import numpy as np\n",
    "import matplotlib.pyplot as plt"
   ]
  },
  {
   "cell_type": "code",
   "execution_count": 2,
   "metadata": {},
   "outputs": [],
   "source": [
    "snap_threshold = 0.002"
   ]
  },
  {
   "cell_type": "code",
   "execution_count": 3,
   "metadata": {},
   "outputs": [],
   "source": [
    "trace_validator.BaseValidator.set_snap_threshold_and_multipliers(0.001, 1.1, 1.1)"
   ]
  },
  {
   "cell_type": "code",
   "execution_count": 4,
   "metadata": {},
   "outputs": [],
   "source": [
    "geoms = [\n",
    "    LineString([(-1, 0), (1, 0)]),\n",
    "    LineString([(0, -1), (0, 1)]),\n",
    "    LineString([(-1.01, -1), (-1.01, 1)]),\n",
    "]\n",
    "gdf = gpd.GeoDataFrame({\"geometry\": geoms})"
   ]
  },
  {
   "cell_type": "code",
   "execution_count": 5,
   "metadata": {},
   "outputs": [],
   "source": [
    "gdf = gpd.read_file(\"dev/Inkoo_traces.gpkg\", layer=\"Inkoo_Infinity_Lineaments_traces\")\n",
    "valid_geoseries = trace_builder.main()[0]\n",
    "#gdf = gpd.GeoDataFrame({\"geometry\": valid_geoseries})"
   ]
  },
  {
   "cell_type": "code",
   "execution_count": 6,
   "metadata": {},
   "outputs": [
    {
     "data": {
      "text/plain": [
       "1537.4799286285645"
      ]
     },
     "execution_count": 6,
     "metadata": {},
     "output_type": "execute_result"
    }
   ],
   "source": [
    "gdf.geometry.length.mean()"
   ]
  },
  {
   "cell_type": "code",
   "execution_count": 7,
   "metadata": {},
   "outputs": [],
   "source": [
    "nodes, _ = trace_validator.BaseValidator.determine_nodes(gdf)"
   ]
  },
  {
   "cell_type": "code",
   "execution_count": 8,
   "metadata": {},
   "outputs": [
    {
     "data": {
      "text/plain": [
       "(0.99, 0.99, 1.01, 1.01)"
      ]
     },
     "execution_count": 8,
     "metadata": {},
     "output_type": "execute_result"
    }
   ],
   "source": [
    "geosrs = gpd.GeoSeries(nodes)\n",
    "Point(1,1).buffer(0.01).bounds"
   ]
  },
  {
   "cell_type": "code",
   "execution_count": 9,
   "metadata": {},
   "outputs": [],
   "source": [
    "def remove_identical(geosrs):\n",
    "    geosrs.reset_index(inplace=True, drop=True)\n",
    "\n",
    "    marked_for_death = []\n",
    "    for idx, p in enumerate(geosrs):\n",
    "        if idx in marked_for_death:\n",
    "            continue\n",
    "        \n",
    "        inter = geosrs.drop(idx).intersection(p.buffer(snap_threshold))\n",
    "        colliding = inter.loc[[True if not i.is_empty else False for i in inter]]\n",
    "        if len(colliding) > 0:\n",
    "            index_to_list = colliding.index.to_list()\n",
    "            assert len(index_to_list) > 0\n",
    "            assert all([isinstance(i, int) for i in index_to_list])\n",
    "            marked_for_death.extend(index_to_list)\n",
    "    return geosrs.drop(marked_for_death)"
   ]
  },
  {
   "cell_type": "code",
   "execution_count": 10,
   "metadata": {},
   "outputs": [],
   "source": [
    "def remove_identical_sindex(geosrs):\n",
    "    geosrs.reset_index(inplace=True, drop=True)\n",
    "    spatial_index = geosrs.sindex\n",
    "    marked_for_death = []\n",
    "    for idx, p in enumerate(geosrs):\n",
    "        if idx in marked_for_death:\n",
    "            continue\n",
    "        p_candidate_idxs = list(spatial_index.intersection(p.buffer(snap_threshold).bounds))\n",
    "        p_candidate_idxs.remove(idx)\n",
    "        p_candidates = geosrs.iloc[p_candidate_idxs]\n",
    "        inter = p_candidates.intersects(p.buffer(snap_threshold))\n",
    "        colliding = inter.loc[inter]\n",
    "        if len(colliding) > 0:\n",
    "            index_to_list = colliding.index.to_list()\n",
    "            assert len(index_to_list) > 0\n",
    "            assert all([isinstance(i, int) for i in index_to_list])\n",
    "            marked_for_death.extend(index_to_list)\n",
    "    return geosrs.drop(marked_for_death)"
   ]
  },
  {
   "cell_type": "code",
   "execution_count": 11,
   "metadata": {},
   "outputs": [],
   "source": [
    "def get_node_identities(geosrs, traces):\n",
    "    identities = []\n",
    "    for i, p in enumerate(geosrs):\n",
    "        inter_with_traces = traces.intersection(p.buffer(snap_threshold))\n",
    "        # If theres 2 intersections -> X or Y\n",
    "        # 1 (must be) -> I\n",
    "        # Point + LineString -> Y\n",
    "        # LineString + Linestring -> X or Y\n",
    "        inter_with_traces_geoms = [iwt for iwt in inter_with_traces if not iwt.is_empty]\n",
    "        if len(inter_with_traces_geoms) >= 3:\n",
    "            print(inter_with_traces_geoms)\n",
    "        assert len(inter_with_traces_geoms) < 3\n",
    "        assert len(inter_with_traces_geoms) > 0\n",
    "\n",
    "        if len(inter_with_traces_geoms) == 1:\n",
    "            identities.append(\"I\")\n",
    "            continue\n",
    "        if any([isinstance(iwt, shapely.geometry.Point) for iwt in inter_with_traces]):\n",
    "            identities.append(\"Y\")\n",
    "            continue\n",
    "        # print(inter_with_traces_geoms)\n",
    "        #assert len(inter_with_traces_geoms) == 2\n",
    "\n",
    "        all_inter_endpoints = [pt for sublist in map(trace_validator.BaseValidator.get_trace_endpoints, inter_with_traces_geoms) for pt in sublist]\n",
    "        if any([p.intersects(ep) for ep in all_inter_endpoints]):\n",
    "            # Y-node\n",
    "            identities.append(\"Y\")\n",
    "            continue\n",
    "        else:\n",
    "            identities.append(\"X\")\n",
    "            continue\n",
    "    return identities\n",
    "        "
   ]
  },
  {
   "cell_type": "code",
   "execution_count": 12,
   "metadata": {},
   "outputs": [],
   "source": [
    "def find_y_nodes_and_snap_em(traces, nodes, node_ids):\n",
    "    snapped = []\n",
    "    assert len(nodes) == len(node_ids)\n",
    "    for n, n_id in zip(nodes, node_ids):\n",
    "        if n_id == \"X\" or n_id == \"I\":\n",
    "            # print(n, n_id)\n",
    "            snapped.append(n)\n",
    "            continue\n",
    "        #elif n.distance(t) > 0.02:\n",
    "        distances = np.array([t.distance(n) for t in traces])\n",
    "        distances_less_than = distances < snap_threshold\n",
    "        if any(distances_less_than):\n",
    "            assert len(distances[distances_less_than]) < 3\n",
    "            #print(distances[distances_less_than])\n",
    "            traces_nearby = traces.loc[distances_less_than]\n",
    "            assert any([tn.intersects(n) for tn in traces_nearby])\n",
    "            #print(traces_nearby, n, n_id)\n",
    "            # There can be two nearby <- perfectly snapped Y-node\n",
    "            assert len([tn for tn in traces_nearby if tn.intersects(n)]) < 3\n",
    "            assert len(traces_nearby) != 0\n",
    "            if all([tn.intersects(n) for tn in traces_nearby]):\n",
    "                # Both traces in a Y-node intersect -> no snapping required\n",
    "                snapped.append(n)\n",
    "            for tn in traces_nearby:\n",
    "                if not tn.intersects(n):\n",
    "                    #print(f\"Doesnt intersect {n}\")\n",
    "                    inter_projected = tn.interpolate(tn.project(n))\n",
    "                    #print(n, n_id)\n",
    "                    snapped.append(inter_projected)\n",
    "                    \n",
    "                    \n",
    "\n",
    "            \n",
    "        else:\n",
    "            #print(n, n_id)\n",
    "            snapped.append(n)\n",
    "    assert len(nodes) == len(snapped)\n",
    "    return snapped\n",
    "            \n",
    "            \n",
    "            "
   ]
  },
  {
   "cell_type": "code",
   "execution_count": 13,
   "metadata": {},
   "outputs": [],
   "source": [
    "def split_to_branches(traces, nodes, node_identifiers) -> list:\n",
    "    #print(len(traces))\n",
    "    completed = []\n",
    "    new_traces = traces.copy()\n",
    "    for idx, trace in enumerate(traces):\n",
    "        #print(trace)\n",
    "        for node, node_id in zip(nodes, node_identifiers):\n",
    "\n",
    "            if trace.distance(node) > 5 * snap_threshold:\n",
    "                # If node has nothing to do with trace, do nothing\n",
    "                continue\n",
    "            \n",
    "            if node_id == \"I\":\n",
    "                # I-nodes do not split\n",
    "                continue\n",
    "            elif node_id == \"X\" or node_id == \"Y\":\n",
    "                #print(node, trace, node_id)\n",
    "                endpoints = trace_validator.BaseValidator.get_trace_endpoints(trace)\n",
    "                if any([ep.buffer(snap_threshold).intersects(node) for ep in endpoints]):\n",
    "                    #print(node, trace, node_id)\n",
    "                    # Trace has already been split by this node or it's an endpoint if the abutting trace in a Y-node\n",
    "                    continue\n",
    "                \n",
    "                if node.intersects(trace):\n",
    "                    #print(\"split!\", idx)\n",
    "                    # If they already match -> Just split\n",
    "                    split_parts = split(trace, node)\n",
    "                    split_parts = [sp for sp in split_parts]\n",
    "                    #print(node, trace, split_parts)\n",
    "                    #assert idx not in to_remove\n",
    "                    #print(\"Popping\", idx, trace.wkt, node.wkt)\n",
    "                    #print([ep.wkt for ep in endpoints])\n",
    "                    new_traces.pop(idx)\n",
    "                    completed.append(idx)\n",
    "                    #print([sp.wkt for sp in split_parts], trace)\n",
    "                    new_traces.extend(split_to_branches(split_parts, nodes, node_identifiers))\n",
    "                    break\n",
    "                else:\n",
    "                    raise Exception(f\"No intersection. {node.wkt, trace.wkt}\")\n",
    "    #print(\"Removing\")\n",
    "    #print(traces)\n",
    "\n",
    "    #assert len(removed) == len(to_remove)\n",
    "    #traces = [trace for trace in traces if trace not in should_be_removed]\n",
    "    #print(\"Removed\")\n",
    "    #print(traces)\n",
    "    return new_traces\n",
    "    "
   ]
  },
  {
   "cell_type": "code",
   "execution_count": 14,
   "metadata": {},
   "outputs": [],
   "source": [
    "#geosrs = remove_identical(geosrs)\n",
    "geosrs_sindex = remove_identical_sindex(geosrs)\n",
    "#assert len(geosrs) == len(geosrs_sindex)\n",
    "#print(geosrs, geosrs_sindex)"
   ]
  },
  {
   "cell_type": "code",
   "execution_count": null,
   "metadata": {},
   "outputs": [
    {
     "name": "stdout",
     "output_type": "stream",
     "text": [
      "rem ident\n"
     ]
    }
   ],
   "source": [
    "#geosrs = remove_identical(geosrs)\n",
    "#geosrs_sindex = remove_identical_sindex(geosrs)\n",
    "geosrs = geosrs_sindex\n",
    "\n",
    "print(\"rem ident\")\n",
    "node_identifiers = get_node_identities(geosrs, gdf.geometry)\n",
    "print(\"nodes identified\")\n",
    "geosrs = find_y_nodes_and_snap_em(gdf.geometry, geosrs, node_identifiers)\n",
    "print(\"found y nodes\")\n",
    "splited = [split(geom, MultiPoint([p for p in geosrs])) for geom in gdf.geometry]\n",
    "print(\"splited\")\n",
    "splited = gpd.GeoSeries([g for subgroup in splited for g in subgroup])"
   ]
  },
  {
   "cell_type": "code",
   "execution_count": null,
   "metadata": {},
   "outputs": [],
   "source": [
    "gpd.GeoSeries(geosrs).to_file(\"dev/nodes.gpkg\", driver=\"GPKG\")\n",
    "splited.to_file(\"dev/splited.gpkg\", driver=\"GPKG\")"
   ]
  },
  {
   "cell_type": "code",
   "execution_count": null,
   "metadata": {},
   "outputs": [],
   "source": []
  },
  {
   "cell_type": "code",
   "execution_count": null,
   "metadata": {},
   "outputs": [],
   "source": []
  },
  {
   "cell_type": "code",
   "execution_count": null,
   "metadata": {},
   "outputs": [],
   "source": [
    "branches = gpd.GeoSeries(branches)"
   ]
  },
  {
   "cell_type": "code",
   "execution_count": null,
   "metadata": {},
   "outputs": [],
   "source": [
    "color_dict = {\"X\": \"red\", \"Y\": \"blue\", \"I\": \"purple\"}\n",
    "fig, ax = plt.subplots(figsize=(9,9))\n",
    "geosrs.plot(ax=ax, color=[color_dict[n] for n in node_identifiers])\n",
    "gdf.plot(ax=ax)\n",
    "branches.plot(ax=ax, linestyle=\"--\", linewidth=2, color=\"brown\")"
   ]
  },
  {
   "cell_type": "code",
   "execution_count": null,
   "metadata": {},
   "outputs": [],
   "source": [
    "len(branches)"
   ]
  },
  {
   "cell_type": "code",
   "execution_count": null,
   "metadata": {},
   "outputs": [],
   "source": [
    "gdf.geometry.intersects(Point(1,1))"
   ]
  },
  {
   "cell_type": "code",
   "execution_count": null,
   "metadata": {},
   "outputs": [],
   "source": [
    "gdf.geometry.intersection(Point(1,1))"
   ]
  },
  {
   "cell_type": "code",
   "execution_count": null,
   "metadata": {},
   "outputs": [],
   "source": []
  }
 ],
 "metadata": {
  "kernelspec": {
   "display_name": "Python 3",
   "language": "python",
   "name": "python3"
  },
  "language_info": {
   "codemirror_mode": {
    "name": "ipython",
    "version": 3
   },
   "file_extension": ".py",
   "mimetype": "text/x-python",
   "name": "python",
   "nbconvert_exporter": "python",
   "pygments_lexer": "ipython3",
   "version": "3.8.5"
  }
 },
 "nbformat": 4,
 "nbformat_minor": 4
}
