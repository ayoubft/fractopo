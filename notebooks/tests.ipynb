{
 "cells": [
  {
   "cell_type": "code",
   "execution_count": 1,
   "metadata": {},
   "outputs": [],
   "source": [
    "import sys\n",
    "sys.path.insert(0, \"..\")"
   ]
  },
  {
   "cell_type": "code",
   "execution_count": 2,
   "metadata": {},
   "outputs": [
    {
     "name": "stderr",
     "output_type": "stream",
     "text": [
      "/home/nialov/.local/share/virtualenvs/fractopo-YImANkM_/lib/python3.8/site-packages/geopandas/_compat.py:84: UserWarning: The Shapely GEOS version (3.8.0-CAPI-1.13.1 ) is incompatible with the GEOS version PyGEOS was compiled with (3.8.1-CAPI-1.13.3). Conversions between both will be slow.\n",
      "  warnings.warn(\n"
     ]
    }
   ],
   "source": [
    "import numpy as np\n",
    "import geopandas as gpd\n",
    "from fractopo import branches_and_nodes\n",
    "from pathlib import Path\n",
    "import matplotlib.pyplot as plt\n",
    "from shapely.geometry import Polygon, LineString, Point\n",
    "from tval import trace_validator, trace_builder\n",
    "from tests import test_branches_and_nodes"
   ]
  },
  {
   "cell_type": "code",
   "execution_count": 3,
   "metadata": {},
   "outputs": [
    {
     "name": "stdout",
     "output_type": "stream",
     "text": [
      "Automatic pdb calling has been turned ON\n"
     ]
    }
   ],
   "source": [
    "%pdb"
   ]
  },
  {
   "cell_type": "code",
   "execution_count": 4,
   "metadata": {},
   "outputs": [
    {
     "name": "stdout",
     "output_type": "stream",
     "text": [
      "[(-10.0, 0.0), (-5.0, 1e-05), (10.0, 0.0)]\n",
      "LINESTRING (-10 0, -5 1e-05, 10 0)\n",
      "POINT (-4 0.0005) POINT (-5 1e-05) POINT (-10 0)\n",
      "POINT (-4 0.0005) POINT (-5 1e-05) POINT (10 0)\n",
      "[(-10.0, 0.0), (-5.0, 1e-05), (-4.0, 0.0005), (10.0, 0.0)]\n",
      "LINESTRING (-10 0, -5 1e-05, -4 0.0005, 10 0)\n",
      "POINT (-3 0.0007) POINT (-4 0.0005) POINT (-5 1e-05)\n",
      "POINT (-3 0.0007) POINT (-4 0.0005) POINT (10 0)\n",
      "[(-10.0, 0.0), (-5.0, 1e-05), (-4.0, 0.0005), (-3.0, 0.0007), (10.0, 0.0)]\n",
      "LINESTRING (-10 0, -5 1e-05, -4 0.0005, -3 0.0007, 10 0)\n",
      "POINT (-2 0.0009000000000000001) POINT (-3 0.0007) POINT (-4 0.0005)\n",
      "POINT (-2 0.0009000000000000001) POINT (-3 0.0007) POINT (10 0)\n",
      "[(-10.0, 0.0), (-5.0, 1e-05), (-4.0, 0.0005), (-3.0, 0.0007), (-2.0, 0.0009000000000000001), (10.0, 0.0)]\n",
      "LINESTRING (-10 0, -5 1e-05, -4 0.0005, -3 0.0007, -2 0.0009000000000000001, 10 0)\n",
      "POINT (2 -0.0009000000000000001) POINT (-2 0.0009000000000000001) POINT (-3 0.0007)\n",
      "POINT (2 -0.0009000000000000001) POINT (-2 0.0009000000000000001) POINT (10 0)\n",
      "[(-10.0, 0.0), (-5.0, 1e-05), (-4.0, 0.0005), (-3.0, 0.0007), (-2.0, 0.0009000000000000001), (2.0, -0.0009000000000000001), (10.0, 0.0)]\n",
      "LINESTRING (-10 0, -5 1e-05, -4 0.0005, -3 0.0007, -2 0.0009000000000000001, 2 -0.0009000000000000001, 10 0)\n",
      "POINT (3 -0.0007) POINT (2 -0.0009000000000000001) POINT (-2 0.0009000000000000001)\n",
      "POINT (3 -0.0007) POINT (2 -0.0009000000000000001) POINT (10 0)\n",
      "[(-10.0, 0.0), (-5.0, 1e-05), (-4.0, 0.0005), (-3.0, 0.0007), (-2.0, 0.0009000000000000001), (2.0, -0.0009000000000000001), (3.0, -0.0007), (10.0, 0.0)]\n",
      "LINESTRING (-10 0, -5 1e-05, -4 0.0005, -3 0.0007, -2 0.0009000000000000001, 2 -0.0009000000000000001, 3 -0.0007, 10 0)\n",
      "POINT (4 -0.0005) POINT (3 -0.0007) POINT (2 -0.0009000000000000001)\n",
      "POINT (4 -0.0005) POINT (3 -0.0007) POINT (10 0)\n",
      "[(-10.0, 0.0), (-5.0, 1e-05), (-4.0, 0.0005), (-3.0, 0.0007), (-2.0, 0.0009000000000000001), (2.0, -0.0009000000000000001), (3.0, -0.0007), (4.0, -0.0005), (10.0, 0.0)]\n",
      "LINESTRING (-10 0, -5 1e-05, -4 0.0005, -3 0.0007, -2 0.0009000000000000001, 2 -0.0009000000000000001, 3 -0.0007, 4 -0.0005, 10 0)\n",
      "POINT (5 -1e-05) POINT (4 -0.0005) POINT (3 -0.0007)\n",
      "POINT (5 -1e-05) POINT (4 -0.0005) POINT (10 0)\n",
      "[(-10.0, 0.0), (-5.0, 1e-05), (-4.0, 0.0005), (-3.0, 0.0007), (-2.0, 0.0009000000000000001), (2.0, -0.0009000000000000001), (3.0, -0.0007), (4.0, -0.0005), (5.0, -1e-05), (10.0, 0.0)]\n",
      "LINESTRING (-10 0, -5 1e-05, -4 0.0005, -3 0.0007, -2 0.0009000000000000001, 2 -0.0009000000000000001, 3 -0.0007, 4 -0.0005, 5 -1e-05, 10 0)\n"
     ]
    }
   ],
   "source": [
    "nice_traces, snapped_traces = test_branches_and_nodes.test_nice_traces()"
   ]
  },
  {
   "cell_type": "code",
   "execution_count": 6,
   "metadata": {},
   "outputs": [],
   "source": [
    "nice_traces.to_file(\"../dev/asd.gpkg\", driver=\"GPKG\")"
   ]
  },
  {
   "cell_type": "code",
   "execution_count": null,
   "metadata": {},
   "outputs": [],
   "source": []
  }
 ],
 "metadata": {
  "kernelspec": {
   "display_name": "Python 3",
   "language": "python",
   "name": "python3"
  },
  "language_info": {
   "codemirror_mode": {
    "name": "ipython",
    "version": 3
   },
   "file_extension": ".py",
   "mimetype": "text/x-python",
   "name": "python",
   "nbconvert_exporter": "python",
   "pygments_lexer": "ipython3",
   "version": "3.8.5"
  }
 },
 "nbformat": 4,
 "nbformat_minor": 4
}
