{
 "cells": [
  {
   "cell_type": "code",
   "execution_count": 1,
   "metadata": {},
   "outputs": [],
   "source": [
    "# Importing tval is from the parent directory of notebooks. The parent is appended\n",
    "# to PYTHONPATH\n",
    "import os, sys\n",
    "sys.path.append(\"..\")"
   ]
  },
  {
   "cell_type": "code",
   "execution_count": 19,
   "metadata": {},
   "outputs": [],
   "source": [
    "import shapely\n",
    "from shapely.geometry import LineString, MultiLineString, Point, MultiPoint, Polygon, MultiPolygon\n",
    "from shapely.ops import split\n",
    "import geopandas as gpd\n",
    "import pandas as pd\n",
    "from tval import trace_builder\n",
    "from tval import trace_validator\n",
    "from typing import Union"
   ]
  },
  {
   "cell_type": "code",
   "execution_count": 31,
   "metadata": {},
   "outputs": [
    {
     "data": {
      "text/plain": [
       "False"
      ]
     },
     "execution_count": 31,
     "metadata": {},
     "output_type": "execute_result"
    }
   ],
   "source": [
    "ls1 = LineString([(0,0), (0, 5)])\n",
    "ls2 = LineString([(-2, 4), (0.001, 2.5), (-2, 0)])\n",
    "ls3 = LineString([(0.000001, 1), (-2, 2), (0.0000001, 3)])\n",
    "ms = MultiLineString([\n",
    "    LineString([(0.00001,0), (0.000001, 1), (2, 2)]),\n",
    "    LineString([(2,6), (3, 1)]),\n",
    "])\n",
    "ls1_buffer = ls1.buffer(0.001)\n",
    "ls1.overlaps(ms)"
   ]
  },
  {
   "cell_type": "code",
   "execution_count": 21,
   "metadata": {},
   "outputs": [],
   "source": [
    "def segmentize_ls(ls):\n",
    "    points = [Point(c) for c in ls.coords]\n",
    "    segmentized = []\n",
    "    for idx, p in enumerate(points):\n",
    "        if idx == len(points) -1:\n",
    "            break\n",
    "        else:\n",
    "            segmentized.append(LineString([p, points[idx+1]]))\n",
    "    return segmentized"
   ]
  },
  {
   "cell_type": "code",
   "execution_count": 22,
   "metadata": {},
   "outputs": [],
   "source": [
    "def segment_within_buffer(ls_buffer, ms):\n",
    "    all_segments = []\n",
    "    for ls in ms:\n",
    "        all_segments.extend(segmentize_ls(ls))\n",
    "    for seg in all_segments:\n",
    "        if seg.within(ls_buffer):\n",
    "            return True\n",
    "    return False"
   ]
  },
  {
   "cell_type": "code",
   "execution_count": 23,
   "metadata": {},
   "outputs": [
    {
     "data": {
      "text/plain": [
       "True"
      ]
     },
     "execution_count": 23,
     "metadata": {},
     "output_type": "execute_result"
    }
   ],
   "source": [
    "segment_within_buffer(ls1_buffer, ms)"
   ]
  },
  {
   "cell_type": "code",
   "execution_count": 27,
   "metadata": {},
   "outputs": [],
   "source": [
    "def split_to_determine_triangle_errors(trace, splitter_trace, snap_threshold, snap_threshold_triangle_multiplier):\n",
    "    assert isinstance(trace, LineString)\n",
    "    assert isinstance(splitter_trace, LineString)\n",
    "    segments = split(trace, splitter_trace)\n",
    "    if len(segments) > 2:\n",
    "        seg_lengths = [seg.length for seg in segments]\n",
    "        for seg_length in seg_lengths:\n",
    "            if snap_threshold < seg_length < snap_threshold * snap_threshold_triangle_multiplier:\n",
    "                return True\n",
    "    return False\n",
    "    "
   ]
  },
  {
   "cell_type": "code",
   "execution_count": 32,
   "metadata": {},
   "outputs": [
    {
     "data": {
      "text/plain": [
       "False"
      ]
     },
     "execution_count": 32,
     "metadata": {},
     "output_type": "execute_result"
    }
   ],
   "source": [
    "split_to_determine_triangle_errors(ls1, ls3, 0.001, 10)"
   ]
  },
  {
   "cell_type": "code",
   "execution_count": null,
   "metadata": {},
   "outputs": [],
   "source": []
  }
 ],
 "metadata": {
  "kernelspec": {
   "display_name": "Python 3",
   "language": "python",
   "name": "python3"
  },
  "language_info": {
   "codemirror_mode": {
    "name": "ipython",
    "version": 3
   },
   "file_extension": ".py",
   "mimetype": "text/x-python",
   "name": "python",
   "nbconvert_exporter": "python",
   "pygments_lexer": "ipython3",
   "version": "3.8.5"
  }
 },
 "nbformat": 4,
 "nbformat_minor": 4
}
