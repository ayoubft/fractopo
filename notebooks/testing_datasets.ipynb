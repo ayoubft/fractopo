{
 "cells": [
  {
   "cell_type": "code",
   "execution_count": 1,
   "metadata": {},
   "outputs": [],
   "source": [
    "from pathlib import Path\n",
    "import pathlib\n",
    "import geopandas as gpd\n",
    "from tval import trace_validator\n",
    "import time"
   ]
  },
  {
   "cell_type": "code",
   "execution_count": 2,
   "metadata": {},
   "outputs": [],
   "source": [
    "trace_validator.BaseValidator.set_snap_threshold_and_multiplier(0.001, 2)"
   ]
  },
  {
   "cell_type": "code",
   "execution_count": null,
   "metadata": {},
   "outputs": [],
   "source": []
  },
  {
   "cell_type": "code",
   "execution_count": 3,
   "metadata": {},
   "outputs": [
    {
     "name": "stdout",
     "output_type": "stream",
     "text": [
      "Validating dev/data_22062020/traces/Detaildrone_all_170420_new.gpkg\n",
      "Validating with <class 'tval.trace_validator.GeomTypeValidator'>\n",
      "Start time is Tue Sep  1 21:37:56 2020\n",
      "Unable to convert MultiLineString to LineString. MultiLineString probably consists of disjointed segments.\n",
      "Unable to convert MultiLineString to LineString. MultiLineString probably consists of disjointed segments.\n",
      "Unable to convert MultiLineString to LineString. MultiLineString probably consists of disjointed segments.\n",
      "Validating with <class 'tval.trace_validator.MultiJunctionValidator'>\n",
      "Start time is Tue Sep  1 21:37:57 2020\n",
      "MultiJunctionValidator cannot automatically fix MULTI JUNCTION.\n",
      "Validating with <class 'tval.trace_validator.VNodeValidator'>\n",
      "Start time is Tue Sep  1 21:38:49 2020\n",
      "VNodeValidator cannot automatically fix V NODE.\n",
      "Validating with <class 'tval.trace_validator.MultipleCrosscutValidator'>\n",
      "Start time is Tue Sep  1 21:39:23 2020\n",
      "MultipleCrosscutValidator cannot automatically fix MULTIPLE CROSSCUTS.\n",
      "Validating with <class 'tval.trace_validator.UnderlappingSnapValidator'>\n",
      "Start time is Tue Sep  1 21:39:43 2020\n",
      "UnderlappingSnapValidator cannot automatically fix UNDERLAPPING SNAP.\n",
      "Validating with <class 'tval.trace_validator.TargetAreaSnapValidator'>\n",
      "Start time is Tue Sep  1 21:39:53 2020\n",
      "TargetAreaSnapValidator cannot automatically fix TRACE UNDERLAPS TARGET AREA.\n"
     ]
    }
   ],
   "source": [
    "gdfs = []\n",
    "\n",
    "lidar_traces = [\n",
    "    Path(\"dev/data_22062020/traces/SFin_500_integratedlineaments_korjattu150420.gpkg\"),\n",
    "                Path(\"dev/data_22062020/traces/Inkoo_200_integratedlineaments_korjattu140420.gpkg\"),\n",
    "                Path(\"dev/data_22062020/traces/Inkoo_Infinity_Lineaments.gpkg\"),\n",
    "               ]\n",
    "lidar_areas = [\n",
    "    Path(\"dev/data_22062020/areas/SFin_500_area.gpkg\"), \n",
    "    Path(\"dev/data_22062020/areas/Inkoo_200_area_2020.gpkg\"),\n",
    "    Path(\"dev/data_22062020/areas/Infinity_Kopparnas.gpkg\"), \n",
    "]\n",
    "\n",
    "traces_20m = [\n",
    "    #Path(\"dev/data_22062020/traces/Drone_all_korjattu150420.gpkg\"), \n",
    "    Path(\"dev/data_22062020/traces/Detaildrone_all_170420_new.gpkg\"), \n",
    "]\n",
    "\n",
    "areas_20m = [\n",
    "    Path(\"dev/data_22062020/areas/Drone_area_erased.gpkg\"),\n",
    "    Path(\"dev/data_22062020/areas/Detaildrone_area_merged_all.gpkg\"),\n",
    "]\n",
    "\n",
    "\n",
    "for traces, area in zip(traces_20m, areas_20m):\n",
    "    print(f\"Validating {traces}\")\n",
    "    trace_gdf = gpd.read_file(traces)\n",
    "    if trace_validator.BaseValidator.ERROR_COLUMN in trace_gdf.columns:\n",
    "        print(f\"Error column already in gdf. Old will be backed up in {traces}\")\n",
    "        trace_gdf[f\"error_column_backup\"] = trace_gdf[trace_validator.BaseValidator.ERROR_COLUMN]\n",
    "        trace_gdf[trace_validator.BaseValidator.ERROR_COLUMN] = [\n",
    "            [] for _ in trace_gdf.index\n",
    "        ]\n",
    "    area_gdf = gpd.read_file(area)\n",
    "    for validator in (\n",
    "    trace_validator.GeomTypeValidator\n",
    "    , trace_validator.MultiJunctionValidator\n",
    "    , trace_validator.VNodeValidator\n",
    "    , trace_validator.MultipleCrosscutValidator\n",
    "    , trace_validator.UnderlappingSnapValidator\n",
    "    , trace_validator.TargetAreaSnapValidator\n",
    "    ):\n",
    "        print(f\"Validating with {validator}\")\n",
    "        print(f\"Start time is {time.asctime()}\")\n",
    "        try:\n",
    "            trace_gdf = validator.execute(trace_gdf, area_gdf, auto_fix=True)\n",
    "        except NotImplementedError:\n",
    "            print(f\"Cannot automatically fix {validator.ERROR}\")\n",
    "            trace_gdf = validator.execute(trace_gdf, area_gdf, auto_fix=False)\n",
    "        gdfs.append(trace_gdf.copy())\n",
    "    trace_gdf.astype(\n",
    "        {trace_validator.BaseValidator.ERROR_COLUMN: 'str'}\n",
    "    ).to_file(\n",
    "        Path(f\"dev/{traces.stem}_validated_01092020_2.gpkg\"), driver=\"GPKG\"\n",
    "    )"
   ]
  },
  {
   "cell_type": "code",
   "execution_count": null,
   "metadata": {},
   "outputs": [],
   "source": []
  }
 ],
 "metadata": {
  "kernelspec": {
   "display_name": "Python 3",
   "language": "python",
   "name": "python3"
  },
  "language_info": {
   "codemirror_mode": {
    "name": "ipython",
    "version": 3
   },
   "file_extension": ".py",
   "mimetype": "text/x-python",
   "name": "python",
   "nbconvert_exporter": "python",
   "pygments_lexer": "ipython3",
   "version": "3.8.5"
  }
 },
 "nbformat": 4,
 "nbformat_minor": 4
}
