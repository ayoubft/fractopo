{
 "cells": [
  {
   "cell_type": "markdown",
   "metadata": {},
   "source": [
    "# Ahvenanmaa Geta infinity lineaments"
   ]
  },
  {
   "cell_type": "code",
   "execution_count": null,
   "metadata": {},
   "outputs": [],
   "source": [
    "import os, sys\n",
    "sys.path.append(\"..\")"
   ]
  },
  {
   "cell_type": "code",
   "execution_count": 2,
   "metadata": {},
   "outputs": [
    {
     "name": "stderr",
     "output_type": "stream",
     "text": [
      "/home/nialov/.local/share/virtualenvs/trace-validator-GOA3psTM/lib/python3.8/site-packages/geopandas/_compat.py:84: UserWarning: The Shapely GEOS version (3.8.0-CAPI-1.13.1 ) is incompatible with the GEOS version PyGEOS was compiled with (3.8.1-CAPI-1.13.3). Conversions between both will be slow.\n",
      "  warnings.warn(\n"
     ]
    }
   ],
   "source": [
    "from pathlib import Path\n",
    "import pathlib\n",
    "import geopandas as gpd\n",
    "from tval import trace_validator\n",
    "import time"
   ]
  },
  {
   "cell_type": "code",
   "execution_count": 3,
   "metadata": {},
   "outputs": [],
   "source": [
    "# Setup snap thresholds here\n",
    "snap_threshold = 0.001\n",
    "snap_threshold_multiplier = 1.1\n",
    "area_edge_snap_multiplier = 5"
   ]
  },
  {
   "cell_type": "raw",
   "metadata": {},
   "source": [
    "trace_validator.BaseValidator.set_snap_threshold_and_multipliers(snap_threshold, snap_threshold_multiplier, area_edge_snap_multiplier)"
   ]
  },
  {
   "cell_type": "raw",
   "metadata": {},
   "source": [
    "# Add trace and area filepaths to traces and areas list\n",
    "traces = [\n",
    "    Path(\"/mnt/f/Users/nikke/Documents/projects/Academic_projects/gtk_ahvenanmaa/Ahvenanmaa_LiDAR/Ahvenanmaa_LiDAR_traces/Geta_LiDAR_lineaments_infinity_scale_traces.geojson\"),\n",
    "               ]\n",
    "areas = [\n",
    "    Path(\"/mnt/f/Users/nikke/Documents/projects/Academic_projects/gtk_ahvenanmaa/Ahvenanmaa_LiDAR/Ahvenanmaa_LiDAR_areas/Geta_LiDAR_lineaments_infinity_scale_area.gpkg\"), \n",
    "]\n",
    "\n",
    "# All files should exist\n",
    "assert all([p.exists() for p in traces+areas])"
   ]
  },
  {
   "cell_type": "raw",
   "metadata": {},
   "source": [
    "# For use after validation if debugging or further analysis is wanted\n",
    "gdfs = []\n",
    "\n",
    "print(f\"Validating with snap threshold: {snap_threshold} and multiplier: {snap_threshold_multiplier}\")\n",
    "for trace, area in zip(traces, areas):\n",
    "\n",
    "    print(f\"Validating {trace}\")\n",
    "    trace_gdf = gpd.read_file(trace, mode=\"r\")\n",
    "    # [print(t) if t.is_empty or t is None else \"\" for t in trace_gdf.geometry]\n",
    "    if trace_validator.BaseValidator.ERROR_COLUMN in trace_gdf.columns:\n",
    "        print(f\"Error column already in gdf. Old will be backed up ({trace})\")\n",
    "        trace_gdf[f\"error_column_backup\"] = trace_gdf[trace_validator.BaseValidator.ERROR_COLUMN]\n",
    "        trace_gdf[trace_validator.BaseValidator.ERROR_COLUMN] = [\n",
    "            [] for _ in trace_gdf.index\n",
    "        ]\n",
    "    area_gdf = gpd.read_file(area, mode=\"r\")\n",
    "    for validator in (\n",
    "    trace_validator.GeomNullValidator\n",
    "    , trace_validator.GeomTypeValidator\n",
    "    , trace_validator.MultiJunctionValidator\n",
    "    , trace_validator.VNodeValidator\n",
    "    , trace_validator.MultipleCrosscutValidator\n",
    "    , trace_validator.UnderlappingSnapValidator\n",
    "    , trace_validator.TargetAreaSnapValidator\n",
    "    ):\n",
    "        print(f\"Validating with {validator}\")\n",
    "        print(f\"Start time is {time.asctime()}\")\n",
    "        # change auto_fix here. By default True. Null geometries will be removed even if auto_fix is False\n",
    "        trace_gdf = validator.execute(trace_gdf, area_gdf, auto_fix=True, parallel=True)\n",
    "        gdfs.append(trace_gdf.copy())\n",
    "    # When saving to GPKG, validation error column is transformed to str type\n",
    "    trace_gdf.astype(\n",
    "        {trace_validator.BaseValidator.ERROR_COLUMN: 'str'}\n",
    "    ).to_file(\n",
    "        Path(f\"/mnt/f/Users/nikke/Documents/projects/Academic_projects/gtk_ahvenanmaa/Ahvenanmaa_LiDAR/Ahvenanmaa_LiDAR_traces/Geta_LiDAR_lineaments_infinity_scale_traces_validated.gpkg\"), driver=\"GPKG\"\n",
    "    )"
   ]
  },
  {
   "cell_type": "code",
   "execution_count": 4,
   "metadata": {},
   "outputs": [],
   "source": [
    "import numpy as np"
   ]
  },
  {
   "cell_type": "code",
   "execution_count": 5,
   "metadata": {},
   "outputs": [],
   "source": [
    "gdf = gpd.read_file(\"/mnt/f/Users/nikke/Documents/projects/Academic_projects/gtk_ahvenanmaa/Ahvenanmaa_LiDAR/Ahvenanmaa_LiDAR_traces/Geta_LiDAR_lineaments_infinity_scale_traces_validated.gpkg\")"
   ]
  },
  {
   "cell_type": "code",
   "execution_count": 6,
   "metadata": {},
   "outputs": [
    {
     "data": {
      "text/html": [
       "<div>\n",
       "<style scoped>\n",
       "    .dataframe tbody tr th:only-of-type {\n",
       "        vertical-align: middle;\n",
       "    }\n",
       "\n",
       "    .dataframe tbody tr th {\n",
       "        vertical-align: top;\n",
       "    }\n",
       "\n",
       "    .dataframe thead th {\n",
       "        text-align: right;\n",
       "    }\n",
       "</style>\n",
       "<table border=\"1\" class=\"dataframe\">\n",
       "  <thead>\n",
       "    <tr style=\"text-align: right;\">\n",
       "      <th></th>\n",
       "      <th>OBJECTID</th>\n",
       "      <th>Lineament_ID</th>\n",
       "      <th>Lineament_Name</th>\n",
       "      <th>Data_Source</th>\n",
       "      <th>Scale</th>\n",
       "      <th>Certainty</th>\n",
       "      <th>Geological_Type</th>\n",
       "      <th>Observation</th>\n",
       "      <th>Remarks</th>\n",
       "      <th>Operator</th>\n",
       "      <th>Date</th>\n",
       "      <th>Structure_Name</th>\n",
       "      <th>Fault_System</th>\n",
       "      <th>SHAPE_Length</th>\n",
       "      <th>VALIDATION_ERRORS</th>\n",
       "      <th>geometry</th>\n",
       "    </tr>\n",
       "  </thead>\n",
       "  <tbody>\n",
       "    <tr>\n",
       "      <th>0</th>\n",
       "      <td>251.0</td>\n",
       "      <td>LiDAR_A246</td>\n",
       "      <td>None</td>\n",
       "      <td>LiDAR</td>\n",
       "      <td>1:500 000/1:200 000</td>\n",
       "      <td>1_Geoph_OR_LiDAR</td>\n",
       "      <td>None</td>\n",
       "      <td>None</td>\n",
       "      <td>None</td>\n",
       "      <td>Kraatz S.</td>\n",
       "      <td>2020-06-17T00:00:00</td>\n",
       "      <td>None</td>\n",
       "      <td>None</td>\n",
       "      <td>37266.895093</td>\n",
       "      <td>[]</td>\n",
       "      <td>LINESTRING (91580.109 6717268.093, 100505.404 ...</td>\n",
       "    </tr>\n",
       "    <tr>\n",
       "      <th>1</th>\n",
       "      <td>256.0</td>\n",
       "      <td>LiDAR_A251</td>\n",
       "      <td>None</td>\n",
       "      <td>LiDAR</td>\n",
       "      <td>1:500 000/1:200 000</td>\n",
       "      <td>1_Geoph_OR_LiDAR</td>\n",
       "      <td>None</td>\n",
       "      <td>None</td>\n",
       "      <td>None</td>\n",
       "      <td>Kraatz S.</td>\n",
       "      <td>2020-06-18T00:00:00</td>\n",
       "      <td>None</td>\n",
       "      <td>None</td>\n",
       "      <td>24925.409207</td>\n",
       "      <td>[]</td>\n",
       "      <td>LINESTRING (88164.323 6704140.141, 91537.099 6...</td>\n",
       "    </tr>\n",
       "    <tr>\n",
       "      <th>2</th>\n",
       "      <td>261.0</td>\n",
       "      <td>LiDAR_C255</td>\n",
       "      <td>None</td>\n",
       "      <td>LiDAR</td>\n",
       "      <td>1:500 000/1:200 000</td>\n",
       "      <td>1_Geoph_OR_LiDAR</td>\n",
       "      <td>None</td>\n",
       "      <td>None</td>\n",
       "      <td>A-&gt;C</td>\n",
       "      <td>Kraatz S.</td>\n",
       "      <td>2020-06-18T00:00:00</td>\n",
       "      <td>None</td>\n",
       "      <td>None</td>\n",
       "      <td>24121.249821</td>\n",
       "      <td>[]</td>\n",
       "      <td>LINESTRING (101401.696 6695046.745, 101712.509...</td>\n",
       "    </tr>\n",
       "    <tr>\n",
       "      <th>3</th>\n",
       "      <td>870.0</td>\n",
       "      <td>LiDAR_B1505</td>\n",
       "      <td>South-Finland_Shearzone</td>\n",
       "      <td>LiDAR</td>\n",
       "      <td>1:200 000</td>\n",
       "      <td>1_Geoph_OR_LiDAR</td>\n",
       "      <td>Shear_zone</td>\n",
       "      <td>None</td>\n",
       "      <td>None</td>\n",
       "      <td>Kraatz S.</td>\n",
       "      <td>2020-06-17T00:00:00</td>\n",
       "      <td>None</td>\n",
       "      <td>None</td>\n",
       "      <td>61211.451796</td>\n",
       "      <td>[]</td>\n",
       "      <td>LINESTRING (98815.452 6727588.839, 107626.094 ...</td>\n",
       "    </tr>\n",
       "    <tr>\n",
       "      <th>4</th>\n",
       "      <td>878.0</td>\n",
       "      <td>LiDAR_C1512</td>\n",
       "      <td>None</td>\n",
       "      <td>LiDAR</td>\n",
       "      <td>1:200 000</td>\n",
       "      <td>1_Geoph_OR_LiDAR</td>\n",
       "      <td>None</td>\n",
       "      <td>None</td>\n",
       "      <td>None</td>\n",
       "      <td>Kraatz S.</td>\n",
       "      <td>2020-06-17T00:00:00</td>\n",
       "      <td>None</td>\n",
       "      <td>None</td>\n",
       "      <td>13749.234433</td>\n",
       "      <td>[]</td>\n",
       "      <td>LINESTRING (100374.387 6713481.752, 100381.964...</td>\n",
       "    </tr>\n",
       "  </tbody>\n",
       "</table>\n",
       "</div>"
      ],
      "text/plain": [
       "   OBJECTID Lineament_ID           Lineament_Name Data_Source  \\\n",
       "0     251.0   LiDAR_A246                     None       LiDAR   \n",
       "1     256.0   LiDAR_A251                     None       LiDAR   \n",
       "2     261.0   LiDAR_C255                     None       LiDAR   \n",
       "3     870.0  LiDAR_B1505  South-Finland_Shearzone       LiDAR   \n",
       "4     878.0  LiDAR_C1512                     None       LiDAR   \n",
       "\n",
       "                 Scale         Certainty Geological_Type Observation Remarks  \\\n",
       "0  1:500 000/1:200 000  1_Geoph_OR_LiDAR            None        None    None   \n",
       "1  1:500 000/1:200 000  1_Geoph_OR_LiDAR            None        None    None   \n",
       "2  1:500 000/1:200 000  1_Geoph_OR_LiDAR            None        None    A->C   \n",
       "3            1:200 000  1_Geoph_OR_LiDAR      Shear_zone        None    None   \n",
       "4            1:200 000  1_Geoph_OR_LiDAR            None        None    None   \n",
       "\n",
       "    Operator                 Date Structure_Name Fault_System  SHAPE_Length  \\\n",
       "0  Kraatz S.  2020-06-17T00:00:00           None         None  37266.895093   \n",
       "1  Kraatz S.  2020-06-18T00:00:00           None         None  24925.409207   \n",
       "2  Kraatz S.  2020-06-18T00:00:00           None         None  24121.249821   \n",
       "3  Kraatz S.  2020-06-17T00:00:00           None         None  61211.451796   \n",
       "4  Kraatz S.  2020-06-17T00:00:00           None         None  13749.234433   \n",
       "\n",
       "  VALIDATION_ERRORS                                           geometry  \n",
       "0                []  LINESTRING (91580.109 6717268.093, 100505.404 ...  \n",
       "1                []  LINESTRING (88164.323 6704140.141, 91537.099 6...  \n",
       "2                []  LINESTRING (101401.696 6695046.745, 101712.509...  \n",
       "3                []  LINESTRING (98815.452 6727588.839, 107626.094 ...  \n",
       "4                []  LINESTRING (100374.387 6713481.752, 100381.964...  "
      ]
     },
     "execution_count": 6,
     "metadata": {},
     "output_type": "execute_result"
    }
   ],
   "source": [
    "gdf.head()"
   ]
  },
  {
   "cell_type": "code",
   "execution_count": 7,
   "metadata": {},
   "outputs": [],
   "source": [
    "lin_id = 'Lineament_ID'\n",
    "date = 'Date'\n",
    "operator = 'Operator'\n",
    "certainty = 'Certainty'\n",
    "scale = 'Scale'\n",
    "geol_type = 'Geological_Type'\n",
    "data_source = 'Data_Source'\n",
    "remarks = \"Remarks\""
   ]
  },
  {
   "cell_type": "code",
   "execution_count": 8,
   "metadata": {},
   "outputs": [],
   "source": [
    "cols = (lin_id,\n",
    "date,\n",
    "operator,\n",
    "certainty,\n",
    "scale,\n",
    "geol_type,\n",
    "data_source,\n",
    "remarks,)\n"
   ]
  },
  {
   "cell_type": "code",
   "execution_count": 9,
   "metadata": {},
   "outputs": [],
   "source": [
    "assert all([col in gdf.columns for col in cols])"
   ]
  },
  {
   "cell_type": "code",
   "execution_count": 10,
   "metadata": {},
   "outputs": [],
   "source": [
    "put_date = '2020-09-22T00:00:00'\n",
    "put_scale = 'Infinity'\n",
    "put_scale_200k = '1:200 000/Infinity'\n",
    "put_scale_500k = '1:500 000/1:200 000/Infinity'\n",
    "put_certainty = '1_Geoph_OR_LiDAR'\n",
    "put_data_source = 'LiDAR'\n",
    "put_operator = \"Ovaskainen N.\""
   ]
  },
  {
   "cell_type": "code",
   "execution_count": 11,
   "metadata": {},
   "outputs": [],
   "source": [
    "def remarks_det(linid, remarks_str):\n",
    "    if remarks_str is None:\n",
    "        remarks_str = \"\"\n",
    "    if not isinstance(remarks_str, str):\n",
    "        raise TypeError(f\"remarks_str not str: {remarks_str}\")\n",
    "    if linid is not None:\n",
    "        assert isinstance(linid, str)\n",
    "        if \"_B\" in linid:\n",
    "            return f\"B->C {remarks_str}\"\n",
    "        elif \"_A\" in linid:\n",
    "            return f\"A->C {remarks_str}\"\n",
    "        elif len(remarks_str) == 0:\n",
    "            return f\"B->C {remarks_str}\"\n",
    "        else:\n",
    "            return remarks_str\n",
    "    else:\n",
    "        return remarks_str\n",
    "    \n",
    "def scale_det(scale_str):\n",
    "    if scale_str is not None:\n",
    "        assert isinstance(scale_str, str)\n",
    "        if \"500\" in scale_str:\n",
    "            return put_scale_500k\n",
    "        elif \"200\" in scale_str:\n",
    "            return put_scale_200k\n",
    "        else:\n",
    "            raise ValueError(f\"Unknown scale: {scale_str}\")\n",
    "    else:\n",
    "        return put_scale\n",
    "\n",
    "def linid_det(linid, num):\n",
    "    if linid is not None:\n",
    "        assert isinstance(linid, str)\n",
    "        if \"_B\" in linid:\n",
    "            return linid.replace(\"_B\", \"_C\")\n",
    "        if \"_A\" in linid:\n",
    "            return linid.replace(\"_A\", \"_C\")\n",
    "        else:\n",
    "            return linid\n",
    "    else:\n",
    "        next_num = next(num)\n",
    "        assert isinstance(next_num, int)\n",
    "        assert next_num > 29999\n",
    "        return f\"LiDAR_D{next_num}\""
   ]
  },
  {
   "cell_type": "code",
   "execution_count": 12,
   "metadata": {},
   "outputs": [],
   "source": [
    "def genera(start, end):\n",
    "    for i in range(start, end):\n",
    "        yield i\n",
    "gene = genera(30000, 50000)"
   ]
  },
  {
   "cell_type": "code",
   "execution_count": 13,
   "metadata": {},
   "outputs": [],
   "source": [
    "new_gdf = gdf.copy()"
   ]
  },
  {
   "cell_type": "code",
   "execution_count": 14,
   "metadata": {},
   "outputs": [],
   "source": [
    "new_gdf[remarks] = [remarks_det(linid, r) for linid, r in zip(new_gdf[lin_id], new_gdf[remarks])]\n",
    "new_gdf[lin_id] = [linid_det(linid, gene) for num, linid in enumerate(new_gdf[lin_id])]\n",
    "new_gdf[date] = [put_date if val is None else val for val in new_gdf[date]]\n",
    "new_gdf[operator] = [put_operator for val in new_gdf[operator]]\n",
    "new_gdf[certainty] = [put_certainty if val is None else val for val in new_gdf[certainty]]\n",
    "new_gdf[data_source] = [put_data_source if val is None else val for val in new_gdf[data_source]]\n",
    "new_gdf[scale] = [scale_det(s) for s in new_gdf[scale]]"
   ]
  },
  {
   "cell_type": "code",
   "execution_count": 18,
   "metadata": {},
   "outputs": [],
   "source": [
    "new_gdf.crs = \"EPSG:3067\""
   ]
  },
  {
   "cell_type": "code",
   "execution_count": 19,
   "metadata": {},
   "outputs": [],
   "source": [
    "new_gdf.to_file(\"/mnt/f/Users/nikke/Documents/projects/Academic_projects/gtk_ahvenanmaa/Ahvenanmaa_LiDAR/Ahvenanmaa_LiDAR_traces/Geta_LiDAR_lineaments_infinity_scale_traces_final.gpkg\", driver=\"GPKG\")"
   ]
  },
  {
   "cell_type": "code",
   "execution_count": 17,
   "metadata": {},
   "outputs": [
    {
     "data": {
      "text/plain": [
       "[False,\n",
       " False,\n",
       " False,\n",
       " True,\n",
       " False,\n",
       " True,\n",
       " True,\n",
       " True,\n",
       " False,\n",
       " True,\n",
       " True,\n",
       " False,\n",
       " False,\n",
       " True,\n",
       " True,\n",
       " False,\n",
       " False,\n",
       " True,\n",
       " True,\n",
       " False,\n",
       " False,\n",
       " True,\n",
       " True,\n",
       " True,\n",
       " True,\n",
       " True,\n",
       " False,\n",
       " True,\n",
       " False,\n",
       " False,\n",
       " False,\n",
       " True,\n",
       " True,\n",
       " False,\n",
       " True,\n",
       " False,\n",
       " True,\n",
       " False,\n",
       " True]"
      ]
     },
     "execution_count": 17,
     "metadata": {},
     "output_type": "execute_result"
    }
   ],
   "source": [
    "[\"B\" in lid for lid in gdf[lin_id] if lid is not None]"
   ]
  },
  {
   "cell_type": "code",
   "execution_count": null,
   "metadata": {},
   "outputs": [],
   "source": []
  }
 ],
 "metadata": {
  "kernelspec": {
   "display_name": "Python 3",
   "language": "python",
   "name": "python3"
  },
  "language_info": {
   "codemirror_mode": {
    "name": "ipython",
    "version": 3
   },
   "file_extension": ".py",
   "mimetype": "text/x-python",
   "name": "python",
   "nbconvert_exporter": "python",
   "pygments_lexer": "ipython3",
   "version": "3.8.5"
  }
 },
 "nbformat": 4,
 "nbformat_minor": 4
}
