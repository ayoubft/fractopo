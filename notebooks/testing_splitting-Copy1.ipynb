{
 "cells": [
  {
   "cell_type": "code",
   "execution_count": null,
   "metadata": {},
   "outputs": [],
   "source": [
    "import sys\n",
    "sys.path.append(\"..\")"
   ]
  },
  {
   "cell_type": "code",
   "execution_count": 2,
   "metadata": {},
   "outputs": [
    {
     "name": "stderr",
     "output_type": "stream",
     "text": [
      "/home/nialov/.local/share/virtualenvs/fractopo-YImANkM_/lib/python3.8/site-packages/geopandas/_compat.py:84: UserWarning: The Shapely GEOS version (3.8.0-CAPI-1.13.1 ) is incompatible with the GEOS version PyGEOS was compiled with (3.8.1-CAPI-1.13.3). Conversions between both will be slow.\n",
      "  warnings.warn(\n"
     ]
    }
   ],
   "source": [
    "import geopandas as gpd\n",
    "from fractopo import branches_and_nodes\n",
    "from pathlib import Path\n",
    "import matplotlib.pyplot as plt\n",
    "from shapely.geometry import Polygon, LineString, Point, MultiLineString, MultiPoint\n",
    "from shapely.wkt import loads\n",
    "from tval import trace_validator, trace_builder"
   ]
  },
  {
   "cell_type": "code",
   "execution_count": 3,
   "metadata": {},
   "outputs": [
    {
     "name": "stdout",
     "output_type": "stream",
     "text": [
      "Automatic pdb calling has been turned ON\n"
     ]
    }
   ],
   "source": [
    "#gdf = gpd.GeoDataFrame({\"geometry\": trace_builder.make_valid_traces()})\n",
    "gdf = gpd.read_file(\"../tests/sample_data/Inkoo_traces.gpkg\", layer=\"Drone_all_traces\")\n",
    "snap_threshold = 0.001\n",
    "snap_threshold_multiplier = 1.1\n",
    "area_t_m = 5\n",
    "trace_validator.BaseValidator.set_snap_threshold_and_multipliers(snap_threshold, snap_threshold_multiplier, area_t_m)\n",
    "%pdb"
   ]
  },
  {
   "cell_type": "code",
   "execution_count": 4,
   "metadata": {},
   "outputs": [
    {
     "name": "stderr",
     "output_type": "stream",
     "text": [
      "../fractopo/branches_and_nodes.py:381: RuntimeWarning: invalid value encountered in arccos\n",
      "  rad_angle = np.arccos(dot_product)\n",
      "../fractopo/branches_and_nodes.py:381: RuntimeWarning: invalid value encountered in arccos\n",
      "  rad_angle = np.arccos(dot_product)\n",
      "../fractopo/branches_and_nodes.py:381: RuntimeWarning: invalid value encountered in arccos\n",
      "  rad_angle = np.arccos(dot_product)\n",
      "../fractopo/branches_and_nodes.py:381: RuntimeWarning: invalid value encountered in arccos\n",
      "  rad_angle = np.arccos(dot_product)\n",
      "2759-WARNING-Non-simple geometry detected.\n",
      "LINESTRING (346476.7193999998 6659478.227399999, 346476.7934999997 6659477.804099999, 346477.0898000002 6659476.7457, 346476.9840000002 6659477.1055, 346476.9197000004 6659477.353399999, 346476.8464000002 6659476.9362, 346476.7406000001 6659476.639900001, 346476.7406000001 6659476.523499999)\n",
      "../fractopo/branches_and_nodes.py:381: RuntimeWarning: invalid value encountered in arccos\n",
      "  rad_angle = np.arccos(dot_product)\n",
      "../fractopo/branches_and_nodes.py:381: RuntimeWarning: invalid value encountered in arccos\n",
      "  rad_angle = np.arccos(dot_product)\n",
      "../fractopo/branches_and_nodes.py:381: RuntimeWarning: invalid value encountered in arccos\n",
      "  rad_angle = np.arccos(dot_product)\n",
      "../fractopo/branches_and_nodes.py:381: RuntimeWarning: invalid value encountered in arccos\n",
      "  rad_angle = np.arccos(dot_product)\n"
     ]
    },
    {
     "name": "stdout",
     "output_type": "stream",
     "text": [
      "1\n"
     ]
    }
   ],
   "source": [
    "snapped_traces, any_changes_applied = branches_and_nodes.snap_traces(gdf.geometry, snap_threshold)\n",
    "iterrations = 0\n",
    "while any_changes_applied:\n",
    "    snapped_traces, any_changes_applied = branches_and_nodes.snap_traces(snapped_traces, snap_threshold)\n",
    "    iterrations +=1\n",
    "    print(iterrations)"
   ]
  },
  {
   "cell_type": "code",
   "execution_count": 5,
   "metadata": {},
   "outputs": [],
   "source": [
    "gpd.GeoDataFrame({\"geometry\": snapped_traces}).to_file(\"../dev/snapped_traces.gpkg\", driver=\"GPKG\")"
   ]
  },
  {
   "cell_type": "code",
   "execution_count": 6,
   "metadata": {},
   "outputs": [],
   "source": [
    "det_nodes, _ = trace_validator.BaseValidator.determine_nodes(gpd.GeoDataFrame({\"geometry\": snapped_traces}))"
   ]
  },
  {
   "cell_type": "code",
   "execution_count": 7,
   "metadata": {},
   "outputs": [],
   "source": [
    "# 351912.6087073,6654866.7294920\n",
    "# 351020.96285,6655790.12293"
   ]
  },
  {
   "cell_type": "raw",
   "metadata": {},
   "source": [
    "problem_polygon = Polygon([(351800.91,6654800.39), (352050.46,6654800.43), (351999.67,6654990.89), (351730.71,6654946.43)])"
   ]
  },
  {
   "cell_type": "raw",
   "metadata": {},
   "source": [
    "[n.wkt for n in det_nodes if n.intersects(problem_polygon)]\n",
    "# 351933.11,6654839.64"
   ]
  },
  {
   "cell_type": "code",
   "execution_count": 8,
   "metadata": {},
   "outputs": [],
   "source": [
    "nodes = branches_and_nodes.remove_identical_sindex(gpd.GeoSeries(det_nodes), snap_threshold)"
   ]
  },
  {
   "cell_type": "code",
   "execution_count": 9,
   "metadata": {},
   "outputs": [],
   "source": [
    "node_identities = branches_and_nodes.get_node_identities(snapped_traces, nodes, snap_threshold)"
   ]
  },
  {
   "cell_type": "code",
   "execution_count": 10,
   "metadata": {},
   "outputs": [],
   "source": [
    "branches = branches_and_nodes.split_traces_to_branches_with_traces(snapped_traces, nodes, node_identities, snap_threshold)"
   ]
  },
  {
   "cell_type": "code",
   "execution_count": 11,
   "metadata": {},
   "outputs": [
    {
     "name": "stderr",
     "output_type": "stream",
     "text": [
      "2759-ERROR-Did not find 2 XYI-nodes that intersected branch endpoints.\n",
      "branch: LINESTRING (346479.7686221906 6659506.526712228, 346479.7685789577 6659506.526703852)\n",
      "nodes_that_intersect[type_column]: 4509    X\n",
      "Name: Type, dtype: object\n",
      "\n",
      "2759-ERROR-Did not find 2 XYI-nodes that intersected branch endpoints.\n",
      "branch: LINESTRING (346609.0696875333 6659386.551957853, 346609.070667265 6659386.55191272)\n",
      "nodes_that_intersect[type_column]: 5404    X\n",
      "Name: Type, dtype: object\n",
      "\n",
      "2759-ERROR-Did not find 2 XYI-nodes that intersected branch endpoints.\n",
      "branch: LINESTRING (346609.0696875333 6659386.551957853, 346609.0702 6659386.551999999, 346609.070667265 6659386.55191272)\n",
      "nodes_that_intersect[type_column]: 5404    X\n",
      "Name: Type, dtype: object\n",
      "\n",
      "2759-ERROR-Did not find 2 XYI-nodes that intersected branch endpoints.\n",
      "branch: LINESTRING (346666.5653788446 6659414.989706963, 346666.5651705642 6659414.989640432)\n",
      "nodes_that_intersect[type_column]: 5685    X\n",
      "Name: Type, dtype: object\n",
      "\n",
      "2759-ERROR-Did not find 2 XYI-nodes that intersected branch endpoints.\n",
      "branch: LINESTRING (346666.5653788446 6659414.989706963, 346666.5652000001 6659414.989700001, 346666.5651705642 6659414.989640432)\n",
      "nodes_that_intersect[type_column]: 5685    X\n",
      "Name: Type, dtype: object\n",
      "\n",
      "2759-ERROR-Did not find 2 XYI-nodes that intersected branch endpoints.\n",
      "branch: LINESTRING (346479.7686221906 6659506.526712228, 346479.7686000001 6659506.526699999, 346479.7685789577 6659506.526703852)\n",
      "nodes_that_intersect[type_column]: 4509    X\n",
      "Name: Type, dtype: object\n",
      "\n",
      "2759-ERROR-Did not find 2 XYI-nodes that intersected branch endpoints.\n",
      "branch: LINESTRING (346489.4126000004 6659430.145300001, 346489.7996230859 6659430.206744196)\n",
      "nodes_that_intersect[type_column]: 1987    Y\n",
      "Name: Type, dtype: object\n",
      "\n",
      "2759-ERROR-Did not find 2 XYI-nodes that intersected branch endpoints.\n",
      "branch: LINESTRING (346489.7996230859 6659430.206744196, 346489.9775585865 6659430.234993424)\n",
      "nodes_that_intersect[type_column]: 20103    X\n",
      "Name: Type, dtype: object\n",
      "\n",
      "2759-ERROR-Did not find 2 XYI-nodes that intersected branch endpoints.\n",
      "branch: LINESTRING (346489.9280342243 6659430.153027516, 346489.7996230859 6659430.206744196)\n",
      "nodes_that_intersect[type_column]: 20102    X\n",
      "Name: Type, dtype: object\n",
      "\n",
      "2759-ERROR-Did not find 2 XYI-nodes that intersected branch endpoints.\n",
      "branch: LINESTRING (346489.7996230859 6659430.206744196, 346489.7010000004 6659430.248)\n",
      "nodes_that_intersect[type_column]: 20148    Y\n",
      "Name: Type, dtype: object\n",
      "\n"
     ]
    }
   ],
   "source": [
    "branch_identities = branches_and_nodes.get_branch_identities(branches, nodes, node_identities, snap_threshold)"
   ]
  },
  {
   "cell_type": "code",
   "execution_count": 12,
   "metadata": {},
   "outputs": [],
   "source": [
    "branch_gdf = gpd.GeoDataFrame({\"geometry\": branches, \"Type\": branch_identities})\n",
    "node_gdf = gpd.GeoDataFrame({\"geometry\": nodes, \"Type\": node_identities})"
   ]
  },
  {
   "cell_type": "code",
   "execution_count": 13,
   "metadata": {},
   "outputs": [
    {
     "data": {
      "text/plain": [
       "<AxesSubplot:>"
      ]
     },
     "execution_count": 13,
     "metadata": {},
     "output_type": "execute_result"
    },
    {
     "data": {
      "image/png": "[encoded data removed]",
      "text/plain": [
       "<Figure size 648x648 with 1 Axes>"
      ]
     },
     "metadata": {
      "needs_background": "light"
     },
     "output_type": "display_data"
    }
   ],
   "source": [
    "fig, ax = plt.subplots(figsize=(9, 9))\n",
    "branch_gdf.plot(ax=ax, column=\"Type\", label=\"Type\")\n",
    "#node_gdf.plot(ax=ax, column=\"Type\", label=\"Type\", zorder=10, legend=True)"
   ]
  },
  {
   "cell_type": "code",
   "execution_count": 14,
   "metadata": {},
   "outputs": [],
   "source": [
    "branch_gdf.to_file(\"../dev/branches.gpkg\", driver=\"GPKG\")\n",
    "node_gdf.to_file(\"../dev/nodes.gpkg\", driver=\"GPKG\")"
   ]
  },
  {
   "cell_type": "code",
   "execution_count": null,
   "metadata": {},
   "outputs": [],
   "source": []
  }
 ],
 "metadata": {
  "kernelspec": {
   "display_name": "Python 3",
   "language": "python",
   "name": "python3"
  },
  "language_info": {
   "codemirror_mode": {
    "name": "ipython",
    "version": 3
   },
   "file_extension": ".py",
   "mimetype": "text/x-python",
   "name": "python",
   "nbconvert_exporter": "python",
   "pygments_lexer": "ipython3",
   "version": "3.8.6"
  }
 },
 "nbformat": 4,
 "nbformat_minor": 4
}
